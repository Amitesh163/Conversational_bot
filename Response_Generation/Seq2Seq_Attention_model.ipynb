{
  "nbformat": 4,
  "nbformat_minor": 0,
  "metadata": {
    "colab": {
      "name": "Seq2Seq_Attention_model.ipynb",
      "provenance": [],
      "collapsed_sections": []
    },
    "kernelspec": {
      "name": "python3",
      "display_name": "Python 3"
    },
    "accelerator": "GPU"
  },
  "cells": [
    {
      "cell_type": "code",
      "metadata": {
        "id": "Hrbfjdpe5N5i",
        "colab_type": "code",
        "colab": {
          "base_uri": "https://localhost:8080/",
          "height": 34
        },
        "outputId": "bf738711-9c39-456e-afff-450a1c26c618"
      },
      "source": [
        "%tensorflow_version 2.x\n",
        "import tensorflow as tf\n",
        "device_name = tf.test.gpu_device_name()\n",
        "if device_name != '/device:GPU:0':\n",
        "  raise SystemError('GPU device not found')\n",
        "print('Found GPU at: {}'.format(device_name))"
      ],
      "execution_count": 4,
      "outputs": [
        {
          "output_type": "stream",
          "text": [
            "Found GPU at: /device:GPU:0\n"
          ],
          "name": "stdout"
        }
      ]
    },
    {
      "cell_type": "code",
      "metadata": {
        "id": "qufkO3mR7zNi",
        "colab_type": "code",
        "colab": {
          "base_uri": "https://localhost:8080/",
          "height": 204
        },
        "outputId": "3f58e2d2-4070-499b-a298-9062899e4422"
      },
      "source": [
        "! wget https://object.pouta.csc.fi/OPUS-OpenSubtitles/v2018/mono/en.txt.gz"
      ],
      "execution_count": 5,
      "outputs": [
        {
          "output_type": "stream",
          "text": [
            "--2020-06-24 14:34:53--  https://object.pouta.csc.fi/OPUS-OpenSubtitles/v2018/mono/en.txt.gz\n",
            "Resolving object.pouta.csc.fi (object.pouta.csc.fi)... 86.50.254.18, 86.50.254.19\n",
            "Connecting to object.pouta.csc.fi (object.pouta.csc.fi)|86.50.254.18|:443... connected.\n",
            "HTTP request sent, awaiting response... 200 OK\n",
            "Length: 3663376519 (3.4G) [application/gzip]\n",
            "Saving to: ‘en.txt.gz’\n",
            "\n",
            "en.txt.gz           100%[===================>]   3.41G  14.3MB/s    in 66s     \n",
            "\n",
            "2020-06-24 14:35:59 (53.2 MB/s) - ‘en.txt.gz’ saved [3663376519/3663376519]\n",
            "\n"
          ],
          "name": "stdout"
        }
      ]
    },
    {
      "cell_type": "code",
      "metadata": {
        "id": "Yp88SNkTWOrh",
        "colab_type": "code",
        "colab": {}
      },
      "source": [
        "!gunzip -k en.txt.gz\n",
        "!mkdir lines\n",
        "!split -a 3 -l 100000 en.txt lines/lines-"
      ],
      "execution_count": 6,
      "outputs": []
    },
    {
      "cell_type": "code",
      "metadata": {
        "id": "FMBHucNteFJD",
        "colab_type": "code",
        "colab": {}
      },
      "source": [
        "import re\n",
        "\n",
        "def _should_skip(line, min_length, max_length):\n",
        "    \"\"\"Whether a line should be skipped depending on the length.\"\"\"\n",
        "    return len(line) < min_length or len(line) > max_length\n",
        "\n",
        "\n",
        "def create_example(previous_lines, line, file_id):\n",
        "    \"\"\"Creates examples with multi-line context\n",
        "    The examples will include:\n",
        "        file_id: the name of the file where these lines were obtained.\n",
        "        response: the current line text\n",
        "        context: the previous line text\n",
        "        context/0: 2 lines before\n",
        "        context/1: 3 lines before, etc.\n",
        "    \"\"\"\n",
        "    example = {\n",
        "        'file_id': file_id,\n",
        "        'context': previous_lines[-1],\n",
        "        'response': line,\n",
        "    }\n",
        "    example['file_id'] = file_id\n",
        "    example['context'] = previous_lines[-1]\n",
        "\n",
        "    extra_contexts = previous_lines[:-1]\n",
        "    example.update({\n",
        "        'context/{}'.format(i): context\n",
        "        for i, context in enumerate(extra_contexts[::-1])\n",
        "    })\n",
        "\n",
        "    return example\n",
        "\n",
        "\n",
        "def _preprocess_line(line):\n",
        "    line = line.decode(\"utf-8\")\n",
        "\n",
        "    # Remove the first word if it is followed by colon (speaker names)\n",
        "    # NOTE: this wont work if the speaker's name has more than one word\n",
        "    line = re.sub('(?:^|(?:[.!?]\\\\s))(\\\\w+):', \"\", line)\n",
        "\n",
        "    # Remove anything between brackets (corresponds to acoustic events).\n",
        "    line = re.sub(\"[\\\\[(](.*?)[\\\\])]\", \"\", line)\n",
        "\n",
        "    # Strip blanks hyphens and line breaks\n",
        "    line = line.strip(\" -\\n\")\n",
        "\n",
        "    return line\n",
        "\n",
        "\n",
        "def _create_examples_from_file(file_name, min_length=0, max_length=20,\n",
        "                               num_extra_contexts=5):\n",
        "\n",
        "    previous_lines = []\n",
        "    with open(file_name, 'rb') as f:\n",
        "      for line in f :\n",
        "        line = _preprocess_line(line)\n",
        "        if not line:\n",
        "            continue\n",
        "\n",
        "        should_skip = _should_skip(\n",
        "            line,\n",
        "            min_length=min_length,\n",
        "            max_length=max_length)\n",
        "\n",
        "        if previous_lines:\n",
        "            should_skip |= _should_skip(\n",
        "                previous_lines[-1],\n",
        "                min_length=min_length,\n",
        "                max_length=max_length)\n",
        "\n",
        "            if not should_skip:\n",
        "                yield create_example(previous_lines, line, file_name)\n",
        "\n",
        "        previous_lines.append(line)\n",
        "        if len(previous_lines) > num_extra_contexts + 1:\n",
        "            del previous_lines[0]\n"
      ],
      "execution_count": 7,
      "outputs": []
    },
    {
      "cell_type": "code",
      "metadata": {
        "id": "Ty9BhHncfikI",
        "colab_type": "code",
        "colab": {
          "base_uri": "https://localhost:8080/",
          "height": 71
        },
        "outputId": "2ecc49bb-f7d9-40d5-b291-c88418ae07e1"
      },
      "source": [
        "example = _create_examples_from_file(file_name='lines/lines-aaa')\n",
        "\n",
        "count = 0\n",
        "for i in example:\n",
        "  count += 1\n",
        "print('Found '+ str(count*5) + ' examples')\n",
        "print(i)"
      ],
      "execution_count": 8,
      "outputs": [
        {
          "output_type": "stream",
          "text": [
            "Found 101770 examples\n",
            "{'file_id': 'lines/lines-aaa', 'context': \"We'll catch him.\", 'response': 'Because we have to.', 'context/0': 'Oh, aye.', 'context/1': \"Tell me, Sergeant, in your professional opinion, do you really believe you can catch this man if he doesn't want you to?\", 'context/2': 'I have.', 'context/3': 'You seem to have made a great study of crime, Mr. Newspaperman.', 'context/4': \"The ones we don't know about yet.\"}\n"
          ],
          "name": "stdout"
        }
      ]
    },
    {
      "cell_type": "code",
      "metadata": {
        "id": "Rbhe4_QF0OOS",
        "colab_type": "code",
        "colab": {
          "base_uri": "https://localhost:8080/",
          "height": 34
        },
        "outputId": "bfba09f1-0f1e-4d7d-fa6c-52131c922bd0"
      },
      "source": [
        "in_comma = \"'\"\n",
        "\n",
        "def remove_char(sentence):\n",
        "  sent = sentence.replace('!', '')\n",
        "  sent = sent.replace(',', '')\n",
        "  sent = sent.replace(in_comma, '')\n",
        "  sent = sent.replace('%', '')\n",
        "  sent = sent.replace('-', '')\n",
        "  sent = sent.replace('.', '')\n",
        "  sent = sent.replace('?', '')\n",
        "  sent = sent.replace('/', '')\n",
        "  sent = sent.replace(':', '')\n",
        "  sent = sent.replace(';', '')\n",
        "\n",
        "  return sent\n",
        "\n",
        "ex_sent = 'hello, me! why?'\n",
        "print(remove_char(ex_sent))"
      ],
      "execution_count": 9,
      "outputs": [
        {
          "output_type": "stream",
          "text": [
            "hello me why\n"
          ],
          "name": "stdout"
        }
      ]
    },
    {
      "cell_type": "code",
      "metadata": {
        "id": "5GNSvaLizyyq",
        "colab_type": "code",
        "colab": {
          "base_uri": "https://localhost:8080/",
          "height": 34
        },
        "outputId": "6140227f-0c01-4c0b-d08e-6a73c38dc030"
      },
      "source": [
        "example = _create_examples_from_file(file_name='lines/lines-aaa')\n",
        "\n",
        "inputs = []\n",
        "responses = []\n",
        "i = 0\n",
        "\n",
        "for test in example:\n",
        "\n",
        "  input_1 = test['context']\n",
        "  input_2 = test['context/0']\n",
        "  input_3 = test['context/1']\n",
        "  input_4 = test['context/2']\n",
        "  input_5 = test['context/3']\n",
        "  response = test['response']\n",
        "    \n",
        "  inputs.append(remove_char(input_1))\n",
        "  inputs.append(remove_char(input_2))\n",
        "  inputs.append(remove_char(input_3))\n",
        "  inputs.append(remove_char(input_4))\n",
        "  inputs.append(remove_char(input_5))\n",
        "\n",
        "  for j in range(5):\n",
        "    responses.append('startsent' + ' ' +remove_char(response)+ ' ' + 'endsent')\n",
        "    \n",
        "  i += 5\n",
        "\n",
        "print(inputs[101769], responses[101769])"
      ],
      "execution_count": 10,
      "outputs": [
        {
          "output_type": "stream",
          "text": [
            "You seem to have made a great study of crime Mr Newspaperman startsent Because we have to endsent\n"
          ],
          "name": "stdout"
        }
      ]
    },
    {
      "cell_type": "code",
      "metadata": {
        "id": "EIb2Svu57yWl",
        "colab_type": "code",
        "colab": {
          "base_uri": "https://localhost:8080/",
          "height": 156
        },
        "outputId": "87b17947-da35-4e69-c8d0-343e30c42d63"
      },
      "source": [
        "from tensorflow.keras.preprocessing.text import Tokenizer \n",
        "from tensorflow.keras.preprocessing.sequence import pad_sequences\n",
        "\n",
        "oov_token = \"<OOV>\"\n",
        "max_length = 25\n",
        "\n",
        "tokenizer = Tokenizer(oov_token=oov_token)\n",
        "tokenizer.fit_on_texts(inputs)\n",
        "tokenizer.fit_on_texts(responses)\n",
        "\n",
        "word_index = tokenizer.word_index\n",
        "word_index['startsent'] = 0\n",
        "word_index['endsent'] = len(word_index)+1\n",
        "index_word = {word_index[word]:word for word in word_index}\n",
        "print(index_word)\n",
        "vocab_size = len(word_index) + 1\n",
        "input_seq = tokenizer.texts_to_sequences(inputs)\n",
        "response_seq = tokenizer.texts_to_sequences(responses)\n",
        "input_seq_pad = pad_sequences(input_seq, maxlen = max_length ,padding = 'post', truncating = 'post')\n",
        "response_seq_pad = pad_sequences(response_seq, maxlen = max_length, padding = 'post', truncating = 'post')\n",
        "\n",
        "print(len(word_index))\n",
        "print(inputs[0], responses[0])\n",
        "print(input_seq_pad[0], response_seq_pad[0])\n",
        "print(len(input_seq_pad))"
      ],
      "execution_count": 11,
      "outputs": [
        {
          "output_type": "stream",
          "text": [
            "{1: '<OOV>', 0: 'startsent', 6979: 'endsent', 4: 'you', 5: 'i', 6: 'the', 7: 'to', 8: 'a', 9: 'it', 10: 'me', 11: 'no', 12: 'is', 13: 'what', 14: 'yes', 15: 'of', 16: 'sir', 17: 'on', 18: 'and', 19: 'in', 20: 'go', 21: 'here', 22: 'are', 23: 'that', 24: 'do', 25: 'good', 26: 'come', 27: 'not', 28: 'im', 29: 'your', 30: 'its', 31: 'this', 32: 'right', 33: 'gyeonwoo', 34: 'for', 35: 'dont', 36: 'be', 37: 'all', 38: 'him', 39: 'he', 40: 'we', 41: 'have', 42: 'up', 43: 'my', 44: 'get', 45: 'know', 46: 'well', 47: 'see', 48: 'with', 49: 'if', 50: 'so', 51: 'why', 52: 'oh', 53: 'thats', 54: 'how', 55: 'there', 56: 'was', 57: 'can', 58: 'hes', 59: 'will', 60: 'but', 61: 'now', 62: 'one', 63: 'about', 64: 'youre', 65: 'thank', 66: 'ill', 67: 'hey', 68: 'down', 69: 'at', 70: 'just', 71: 'man', 72: 'like', 73: 'whats', 74: 'lets', 75: 'let', 76: 'got', 77: 'please', 78: 'were', 79: 'going', 80: 'time', 81: 'out', 82: 'us', 83: 'they', 84: 'too', 85: 'help', 86: 'sorry', 87: 'or', 88: 'take', 89: 'her', 90: 'did', 91: 'where', 92: 'thanks', 93: 'want', 94: 'look', 95: 'kill', 96: 'from', 97: 'yeah', 98: 'over', 99: 'say', 100: 'think', 101: 'his', 102: 'way', 103: 'boris', 104: 'who', 105: 'an', 106: 'wait', 107: 'am', 108: 'as', 109: 'very', 110: 'work', 111: 'when', 112: 'give', 113: 'show', 114: 'cant', 115: 'tell', 116: 'by', 117: 'hello', 118: 'theres', 119: 'she', 120: 'then', 121: 'leave', 122: 'okay', 123: 'nothing', 124: 'back', 125: 'away', 126: 'would', 127: 'stop', 128: 'them', 129: 'bridge', 130: 'had', 131: 'wont', 132: 'call', 133: 'love', 134: 'never', 135: 'off', 136: 'any', 137: 'must', 138: 'two', 139: 'old', 140: 'our', 141: 'ive', 142: 'some', 143: 'drink', 144: 'much', 145: 'girl', 146: 'die', 147: 'anything', 148: 'sit', 149: 'really', 150: 'ben', 151: '1', 152: 'three', 153: 'hold', 154: 'other', 155: 'men', 156: 'could', 157: 'alone', 158: 'morning', 159: 'veronica', 160: 'use', 161: 'colonel', 162: 'didnt', 163: 'left', 164: 'doing', 165: 'mind', 166: 'wrong', 167: 'only', 168: 'sure', 169: 'may', 170: 'more', 171: 'been', 172: 'done', 173: 'sick', 174: 'night', 175: 'eyes', 176: 'has', 177: 'wheres', 178: 'always', 179: 'friend', 180: 'keep', 181: 'little', 182: 'better', 183: 'again', 184: 'officer', 185: 'hurry', 186: 'make', 187: 'thing', 188: 'move', 189: 'theyre', 190: 'many', 191: 'mean', 192: 'years', 193: 'hi', 194: 'jolly', 195: 'along', 196: 'need', 197: 'name', 198: 'put', 199: 'mad', 200: 'isnt', 201: 'carry', 202: 'care', 203: 'maybe', 204: 'gonna', 205: 'hell', 206: 'money', 207: 'something', 208: 'joyce', 209: 'fine', 210: 'war', 211: 'major', 212: 'still', 213: 'boy', 214: 'should', 215: 'before', 216: 'stay', 217: 'made', 218: 'stand', 219: 'warden', 220: 'feel', 221: 'those', 222: 'hit', 223: 'life', 224: 'told', 225: 'youve', 226: 'home', 227: 'talk', 228: 'happened', 229: 'shes', 230: 'wanna', 231: 'hear', 232: 'easy', 233: 'shears', 234: 'long', 235: 'baby', 236: 'kind', 237: 'british', 238: 'day', 239: 'both', 240: 'kimani', 241: 'nice', 242: 'lovely', 243: 'yours', 244: 'finish', 245: 'youll', 246: 'excuse', 247: 'means', 248: 'into', 249: 'ahead', 250: 'perhaps', 251: 'beautiful', 252: 'matter', 253: 'course', 254: 'said', 255: 'first', 256: 'might', 257: 'id', 258: 'even', 259: 'gyeonwoos', 260: 'doctor', 261: 'try', 262: 'darling', 263: 'commander', 264: 'shut', 265: 'officers', 266: 'forget', 267: 'mark', 268: 'damn', 269: 'luck', 270: 'mom', 271: 'rest', 272: 'job', 273: 'honey', 274: 'knife', 275: 'turn', 276: 'madness', 277: 'minute', 278: 'tonight', 279: 'kid', 280: 'yet', 281: 'later', 282: 'ask', 283: 'squirrel', 284: 'late', 285: 'alive', 286: 'afraid', 287: 'yourself', 288: 'hope', 289: 'today', 290: 'ha', 291: 'stepan', 292: 'blast', 293: 'dead', 294: 'send', 295: 'ready', 296: 'answer', 297: 'another', 298: 'clipton', 299: 'things', 300: 'understand', 301: 'mr', 302: 'without', 303: 'gone', 304: 'attention', 305: 'end', 306: 'cheerio', 307: 'last', 308: 'crazy', 309: 'does', 310: 'father', 311: 'mau', 312: 'meg', 313: 'follow', 314: 'grant', 315: 'listen', 316: 'hand', 317: 'find', 318: 'bring', 319: 'figures', 320: 'because', 321: 'l', 322: 'fall', 323: 'hospital', 324: 'gun', 325: 'place', 326: 'dad', 327: 'wife', 328: 'code', 329: 'hard', 330: 'dig', 331: 'grandma', 332: 'saw', 333: 'wants', 334: 'huh', 335: 'play', 336: 'woman', 337: 'orders', 338: 'evening', 339: 'blow', 340: 'tomorrow', 341: 'wa', 342: 'read', 343: 'god', 344: 'hut', 345: 'idea', 346: 'miss', 347: 'happy', 348: 'hot', 349: 'goodbye', 350: 'came', 351: 'army', 352: 'bad', 353: 'lucky', 354: 'shit', 355: 'arent', 356: 'quiet', 357: 'fun', 358: 'through', 359: 'hows', 360: 'own', 361: 'pretty', 362: 'calm', 363: 'coming', 364: 'arms', 365: 'won', 366: '2', 367: 'wish', 368: 'jeff', 369: 'saito', 370: 'forgive', 371: 'minutes', 372: 'joey', 373: 'open', 374: 'someone', 375: 'question', 376: 'their', 377: 'new', 378: 'these', 379: 'escape', 380: 'havent', 381: 'feet', 382: 'being', 383: 'thomson', 384: 'together', 385: 'car', 386: 'brother', 387: 'train', 388: 'coffee', 389: 'poor', 390: 'sake', 391: 'uh', 392: 'which', 393: 'heres', 394: 'lieutenant', 395: 'enough', 396: 'heave', 397: 'jennings', 398: 'ah', 399: 'clear', 400: 'everything', 401: 'front', 402: 'lot', 403: 'wouldnt', 404: 'reeves', 405: 'radio', 406: 'london', 407: 'women', 408: 'walk', 409: 'suppose', 410: 'names', 411: 'guns', 412: 'till', 413: 'quite', 414: 'volunteered', 415: 'charlie', 416: 'shell', 417: 'after', 418: 'believe', 419: 'times', 420: 'order', 421: 'true', 422: 'mined', 423: 'air', 424: 'thought', 425: 'working', 426: 'says', 427: 'live', 428: 'same', 429: 'hurt', 430: 'closer', 431: 'hunting', 432: 'load', 433: 'peter', 434: 'irina', 435: 'leeches', 436: 'pay', 437: 'kiss', 438: 'count', 439: 'wake', 440: 'jungle', 441: 'looking', 442: 'around', 443: 'difficult', 444: 'ai', 445: 'than', 446: 'mrs', 447: 'word', 448: 'sergeant', 449: 'leaving', 450: 'doesnt', 451: 'took', 452: 'ok', 453: 'few', 454: 'white', 455: 'most', 456: 'wonder', 457: 'fast', 458: 'real', 459: 'friends', 460: 'sachkov', 461: 'soon', 462: 'birthday', 463: 'medical', 464: 'nurse', 465: 'duty', 466: 'hands', 467: 'water', 468: 'world', 469: 'soldiers', 470: 'meet', 471: 'mine', 472: 'while', 473: 'march', 474: 'somebody', 475: 'utica', 476: 'six', 477: 'brass', 478: 'bastard', 479: 'alright', 480: 'looks', 481: 'responsible', 482: 'best', 483: 'weve', 484: 'funny', 485: 'write', 486: 'run', 487: 'days', 488: 'used', 489: 'river', 490: 'girls', 491: 'next', 492: 'ahoy', 493: 'speak', 494: 'pass', 495: 'jump', 496: 'lost', 497: 'half', 498: 'ever', 499: 'list', 500: 'guts', 501: 'remember', 502: 'else', 503: 'present', 504: 'houston', 505: 'whos', 506: 'sad', 507: 'sleep', 508: 'bit', 509: 'pill', 510: 'break', 511: 'son', 512: 'yai', 513: 'indians', 514: 'couldnt', 515: 'heard', 516: 'people', 517: 'peace', 518: 'four', 519: 'secret', 520: 'police', 521: 'prefer', 522: 'myself', 523: 'big', 524: 'under', 525: 'timber', 526: 'eat', 527: 'ones', 528: 'prisoners', 529: 'report', 530: 'business', 531: 'iii', 532: 'guy', 533: 'five', 534: 'bwana', 535: 'potato', 536: 'superficial', 537: 'catch', 538: 'nadia', 539: 'intrude', 540: 'save', 541: 'awkward', 542: 'moment', 543: 'sun', 544: 'howdy', 545: 'leg', 546: 'american', 547: 'scotland', 548: 'english', 549: 'everybody', 550: 'far', 551: 'lee', 552: 'foot', 553: 'every', 554: 'king', 555: 'jealous', 556: 'produce', 557: 'bye', 558: 'eh', 559: 'since', 560: 'happens', 561: 'mama', 562: 'change', 563: 'hundred', 564: 'kimball', 565: 'lathela', 566: 'worth', 567: 'worry', 568: 'start', 569: 'possible', 570: 'free', 571: 'trees', 572: 'doubt', 573: 'set', 574: 'story', 575: 'already', 576: 'found', 577: 'killed', 578: 'child', 579: 'frankly', 580: 'step', 581: 'shot', 582: 'questions', 583: 'children', 584: 'wounded', 585: 'reasonable', 586: 'behaving', 587: 'halt', 588: 'serious', 589: 'almost', 590: 'cameron', 591: 'guys', 592: 'called', 593: 'win', 594: 'probably', 595: 'point', 596: 'cowards', 597: 'mountbatten', 598: 'went', 599: 'flowers', 600: 'sometimes', 601: 'youd', 602: 'fixed', 603: 'infected', 604: 'wow', 605: 'head', 606: 'strange', 607: 'light', 608: 'bax', 609: 'ride', 610: 'making', 611: 'rather', 612: 'idiot', 613: 'lying', 614: 'seokwon', 615: 'deal', 616: 'tea', 617: 'blackmail', 618: 'mostly', 619: 'heart', 620: 'door', 621: 'certainly', 622: 'chaps', 623: 'ulcers', 624: 'firstrate', 625: 'lady', 626: 'rules', 627: 'notice', 628: 'tired', 629: 'station', 630: 'each', 631: 'ten', 632: 'lie', 633: 'lies', 634: 'guess', 635: 'hmm', 636: 'draw', 637: 'maam', 638: 'problem', 639: 'drowned', 640: 'aussies', 641: 'bury', 642: 'swim', 643: 'forward', 644: 'lover', 645: 'boot', 646: 'staff', 647: 'until', 648: 'mud', 649: 'mother', 650: 'room', 651: 'bird', 652: 'murder', 653: 'battalion', 654: 'forgot', 655: 'number', 656: 'waiting', 657: 'unfortunately', 658: 'once', 659: 'mister', 660: 'driver', 661: 'usually', 662: 'trying', 663: 'behind', 664: 'adamant', 665: 'quinine', 666: 'watch', 667: 'wed', 668: 'glad', 669: 'steal', 670: 'music', 671: 'ago', 672: 'wanted', 673: 'soldier', 674: 'face', 675: 'bang', 676: 'important', 677: '000', 678: 'factory', 679: 'sucks', 680: 'surrender', 681: 'sinking', 682: 'house', 683: 'wear', 684: 'honest', 685: 'buy', 686: 'line', 687: 'whitey', 688: 'watchtower', 689: 'navy', 690: 'queer', 691: 'having', 692: 'gave', 693: 'fault', 694: 'gotta', 695: 'shoot', 696: 'general', 697: 'jenkins', 698: 'ugh', 699: 'cold', 700: 'silly', 701: 'papa', 702: 'difference', 703: 'agreed', 704: 'kids', 705: 'join', 706: 'early', 707: 'hei', 708: 'healed', 709: 'also', 710: 'welcome', 711: 'folks', 712: 'mclaine', 713: 'nearly', 714: 'dinner', 715: 'railroad', 716: 'asked', 717: 'caught', 718: 'busy', 719: 'brought', 720: 'lift', 721: 'faster', 722: 'medicine', 723: 'husband', 724: 'able', 725: 'democratic', 726: '1000', 727: 'elizabeth', 728: 'phew', 729: 'meeting', 730: 'talking', 731: 'supposed', 732: 'uncle', 733: 'japanese', 734: 'spent', 735: 'piles', 736: 'second', 737: 'joe', 738: 'whole', 739: 'holly', 740: 'theyll', 741: 'broke', 742: 'red', 743: 'captain', 744: 'close', 745: 'words', 746: 'company', 747: 'hungry', 748: 'lose', 749: 'smoke', 750: 'great', 751: 'aint', 752: 'mamma', 753: 'martini', 754: 'emmett', 755: 'boss', 756: 'lips', 757: 'anyone', 758: 'condom', 759: 'law', 760: 'seen', 761: 'pull', 762: 'saying', 763: 'swear', 764: 'bobina', 765: 'agree', 766: 'given', 767: 'frank', 768: 'pardon', 769: 'requirements', 770: 'unexpected', 771: 'near', 772: 'fire', 773: 'actually', 774: 'comes', 775: 'discipline', 776: 'training', 777: 'lime', 778: 'knows', 779: 'chance', 780: 'shall', 781: 'ya', 782: 'sort', 783: 'warn', 784: 'promised', 785: 'girlfriend', 786: 'volunteer', 787: 'wardens', 788: 'paint', 789: 'discharge', 790: 'commando', 791: 'across', 792: 'bungalow', 793: 'parachute', 794: 'deep', 795: 'turned', 796: 'safe', 797: 'quickly', 798: 'tragedy', 799: 'trouble', 800: 'dance', 801: 'occur', 802: 'fit', 803: 'push', 804: 'dear', 805: 'mmhm', 806: 'ivanovich', 807: 'bed', 808: '10', 809: 'ghost', 810: 'case', 811: 'hate', 812: 'getting', 813: 'hours', 814: 'gold', 815: 'fetch', 816: 'ameri', 817: 'brave', 818: 'lad', 819: 'fight', 820: 'gangster', 821: '7', 822: 'fever', 823: 'hardly', 824: 'reconnaissance', 825: 'tantamount', 826: 'simulated', 827: 'buttbrain', 828: 'during', 829: 'thatll', 830: 'land', 831: 'stella', 832: 'moscow', 833: 'mail', 834: 'cranes', 835: 'rank', 836: 'special', 837: 'quit', 838: 'lord', 839: 'sundown', 840: 'ammunition', 841: 'concerned', 842: 'miura', 843: 'aunts', 844: 'roll', 845: 'instead', 846: 'truth', 847: 'knew', 848: 'tim', 849: 'gina', 850: 'type', 851: 'shooting', 852: 'thieves', 853: 'trust', 854: 'mac', 855: 'ship', 856: 'punishment', 857: 'fellow', 858: 'thousand', 859: 'coke', 860: 'inside', 861: 'cheers', 862: 'force', 863: 'handle', 864: 'ashamed', 865: 'coat', 866: 'village', 867: 'riding', 868: 'chapman', 869: 'temperature', 870: 'dysentery', 871: 'thinking', 872: 'fool', 873: 'lines', 874: 'uhhuh', 875: 'teach', 876: 'jumps', 877: 'motel', 878: 'food', 879: 'heavy', 880: 'others', 881: 'lethal', 882: 'pint', 883: 'necessary', 884: 'terms', 885: 'fell', 886: 'wet', 887: 'burglar', 888: 'broken', 889: 'quick', 890: 'dying', 891: 'bet', 892: 'cover', 893: 'hiya', 894: 'beach', 895: 'screw', 896: 'learn', 897: 'sitting', 898: 'cut', 899: 'short', 900: 'broadcaster', 901: 'wasnt', 902: 'goes', 903: 'living', 904: 'happen', 905: 'blood', 906: 'black', 907: 'plan', 908: 'stole', 909: 'year', 910: '3', 911: 'death', 912: 'couple', 913: 'admit', 914: 'voroshilovgrad', 915: 'convention', 916: 'mortar', 917: 'aii', 918: 'decide', 919: 'aunt', 920: 'hang', 921: 'studied', 922: 'incorrectly', 923: 'buried', 924: 'bathroom', 925: 'behave', 926: 'young', 927: 'siu', 928: 'pie', 929: 'lunch', 930: 'beg', 931: 'note', 932: 'reading', 933: 'game', 934: 'building', 935: 'cross', 936: 'human', 937: 'path', 938: 'handsome', 939: 'city', 940: 'miles', 941: 'amoebic', 942: 'worse', 943: 'ooh', 944: 'subway', 945: 'taxi', 946: 'either', 947: 'healthy', 948: 'dress', 949: 'slave', 950: 'professor', 951: 'musician', 952: 'build', 953: 'denning', 954: 'fascinating', 955: 'cracking', 956: 'pace', 957: 'hughes', 958: 'jeun', 959: 'service', 960: 'tried', 961: 'click', 962: 'gentlemen', 963: 'history', 964: 'married', 965: 'impossible', 966: 'gentleman', 967: 'beef', 968: 'col', 969: 'supper', 970: 'mens', 971: 'dare', 972: 'master', 973: 'oath', 974: 'defeat', 975: 'antonina', 976: 'corned', 977: 'victory', 978: 'bupyung', 979: 'act', 980: 'itll', 981: 'calls', 982: 'teenage', 983: 'huk', 984: 'thoughts', 985: 'treat', 986: 'yaman', 987: 'theyve', 988: 'challenge', 989: 'renner', 990: 'interesting', 991: 'ann', 992: 'such', 993: '8', 994: 'horse', 995: 'hadnt', 996: 'convinced', 997: 'treated', 998: 'innocent', 999: 'miyoung', 1000: 'delicious', 1001: 'route', 1002: 'weeks', 1003: 'truck', 1004: 'misa', 1005: 'scared', 1006: 'admire', 1007: 'capable', 1008: 'wherever', 1009: 'feodor', 1010: 'haskins', 1011: 'lending', 1012: 'particularly', 1013: 'comparison', 1014: 'careers', 1015: 'exactly', 1016: 'papers', 1017: 'arrived', 1018: 'painted', 1019: 'dip', 1020: 'spot', 1021: 'em', 1022: 'congratulate', 1023: 'polytechnic', 1024: 'stupid', 1025: 'favor', 1026: 'command', 1027: 'engineer', 1028: 'mount', 1029: 'arm', 1030: 'wise', 1031: 'consensus', 1032: 'salute', 1033: 'wilderness', 1034: 'seat', 1035: 'coffees', 1036: 'pushing', 1037: 'prove', 1038: 'bank', 1039: 'slaves', 1040: 'calling', 1041: 'met', 1042: 'song', 1043: 'choose', 1044: 'different', 1045: 'sign', 1046: 'telling', 1047: 'guards', 1048: 'full', 1049: 'feeling', 1050: 'month', 1051: 'gets', 1052: 'pity', 1053: 'whether', 1054: 'fly', 1055: 'belong', 1056: 'ought', 1057: 'putting', 1058: 'dr', 1059: 'stayed', 1060: 'africa', 1061: 'named', 1062: 'herbert', 1063: 'hasnt', 1064: 'though', 1065: 'group', 1066: 'grave', 1067: '20', 1068: 'arrive', 1069: 'outside', 1070: 'deaf', 1071: 'lebedeva', 1072: 'twelve', 1073: 'captured', 1074: 'hannah', 1075: 'pink', 1076: 'points', 1077: 'finished', 1078: 'side', 1079: 'parents', 1080: 'rifle', 1081: 'drafted', 1082: 'bundle', 1083: '¶¶', 1084: 'butt', 1085: 'needs', 1086: 'planned', 1087: 'cop', 1088: 'drive', 1089: 'track', 1090: 'simple', 1091: 'purpose', 1092: 'mosfilm', 1093: 'louis', 1094: 'piece', 1095: 'raise', 1096: 'killing', 1097: 'party', 1098: 'seven', 1099: 'angel', 1100: 'except', 1101: 'jig', 1102: 'hussy', 1103: 'adult', 1104: 'sold', 1105: 'whoa', 1106: 'pepe', 1107: 'embarrassing', 1108: 'bound', 1109: 'thinkings', 1110: 'increased', 1111: 'reason', 1112: 'straight', 1113: 'sky', 1114: 'loved', 1115: 'pop', 1116: 'marry', 1117: 'part', 1118: 'months', 1119: 'keeping', 1120: 'separated', 1121: 'picked', 1122: 'principle', 1123: 'bribed', 1124: 'auntie', 1125: 'week', 1126: 'phone', 1127: 'born', 1128: 'stuck', 1129: 'sent', 1130: 'blame', 1131: 'marcella', 1132: 'owe', 1133: 'ships', 1134: 'oranges', 1135: 'brenner', 1136: 'exchange', 1137: 'school', 1138: 'between', 1139: 'bottom', 1140: 'sound', 1141: 'desi', 1142: 'giving', 1143: 'awful', 1144: 'profound', 1145: 'siberia', 1146: 'fyodor', 1147: 'ashore', 1148: 'survivors', 1149: 'knowledge', 1150: 'ease', 1151: 'taken', 1152: 'towel', 1153: 'playing', 1154: 'policeman', 1155: 'family', 1156: 'laugh', 1157: '15', 1158: 'hero', 1159: 'practice', 1160: 'houseboy', 1161: 'believes', 1162: 'waithaka', 1163: 'faith', 1164: 'cinco', 1165: 'summons', 1166: '530', 1167: 'mammas', 1168: 'terrible', 1169: 'slow', 1170: 'sensible', 1171: 'nicholson', 1172: 'hurray', 1173: 'kang', 1174: 'fact', 1175: 'died', 1176: 'england', 1177: 'alike', 1178: '6', 1179: 'missing', 1180: 'fairly', 1181: 'position', 1182: 'dancing', 1183: 'coconut', 1184: 'cup', 1185: 'mildewed', 1186: 'touch', 1187: 'introduce', 1188: 'quietly', 1189: 'interrupt', 1190: 'hitting', 1191: 'military', 1192: 'tune', 1193: '104', 1194: 'check', 1195: 'study', 1196: 'yep', 1197: 'visit', 1198: 'team', 1199: 'toast', 1200: 'country', 1201: 'exemption', 1202: 'yelling', 1203: 'wars', 1204: 'safiya', 1205: 'pride', 1206: 'singapore', 1207: 'laughing', 1208: 'daughter', 1209: 'makes', 1210: 'mouth', 1211: 'nobody', 1212: 'talked', 1213: 'closed', 1214: 'high', 1215: 'letter', 1216: 'tree', 1217: 'likely', 1218: 'himself', 1219: 'moving', 1220: 'whose', 1221: 'direction', 1222: 'soft', 1223: 'sister', 1224: 'fighting', 1225: 'plenty', 1226: 'migwe', 1227: 'border', 1228: 'graves', 1229: 'dismissed', 1230: 'martin', 1231: 'crying', 1232: 'gosh', 1233: 'nonsense', 1234: 'plans', 1235: '50', 1236: 'box', 1237: 'differently', 1238: 'suggests', 1239: 'states', 1240: 'thursday', 1241: 'instant', 1242: 'nelson', 1243: 'granger', 1244: 'wasted', 1245: 'yesterday', 1246: 'mangyu', 1247: 'absent', 1248: 'howre', 1249: 'studying', 1250: 'beat', 1251: 'ladies', 1252: '12', 1253: 'congratulations', 1254: 'reach', 1255: 'camp', 1256: 'jokes', 1257: 'digging', 1258: 'defines', 1259: '600', 1260: 'docs', 1261: 'courage', 1262: 'elm', 1263: 'impersonating', 1264: 'foggiest', 1265: 'clearing', 1266: 'indispensable', 1267: 'outfit', 1268: '2th', 1269: 'baker', 1270: 'furious', 1271: 'smolensk', 1272: 'painless', 1273: '40000', 1274: 'smart', 1275: 'alcohol', 1276: 'prepare', 1277: 'finally', 1278: 'eaten', 1279: 'sell', 1280: '0', 1281: 'represents', 1282: 'wedding', 1283: 'chief', 1284: '212', 1285: 'kvedchi', 1286: 'embankment', 1287: 'werent', 1288: 'paliukaitis', 1289: 'potty', 1290: 'fresh', 1291: 'rude', 1292: 'geneva', 1293: 'proper', 1294: 'unromantic', 1295: 'survived', 1296: 'bob', 1297: 'cause', 1298: 'class', 1299: 'foolish', 1300: 'cheek', 1301: 'blue', 1302: 'carefully', 1303: 'gang', 1304: 'everyone', 1305: 'bother', 1306: 'takes', 1307: 'stuff', 1308: 'pigeons', 1309: 'scar', 1310: 'concho', 1311: 'flare', 1312: 'paid', 1313: 'endure', 1314: 'hed', 1315: 'howd', 1316: 'ingenious', 1317: 'sum', 1318: 'total', 1319: 'mary', 1320: 'drunk', 1321: 'owner', 1322: 'hurts', 1323: 'whatever', 1324: 'mission', 1325: 'thinks', 1326: 'immediately', 1327: 'corporal', 1328: 'account', 1329: 'meant', 1330: 'lecture', 1331: 'interest', 1332: 'jeungmin', 1333: 'gu', 1334: 'lowlife', 1335: 'cat', 1336: 'blackout', 1337: 'eye', 1338: 'arrest', 1339: 'pistol', 1340: 'written', 1341: 'built', 1342: 'trip', 1343: 'informal', 1344: 'crisis', 1345: 'ana', 1346: 'cha', 1347: 'kidding', 1348: 'rich', 1349: 'headed', 1350: 'realized', 1351: 'commanding', 1352: 'flying', 1353: 'mans', 1354: 'strong', 1355: 'concert', 1356: '500', 1357: 'tools', 1358: 'pointless', 1359: 'captivity', 1360: 'referring', 1361: 'facing', 1362: 'relax', 1363: 'don´t', 1364: 'tuck', 1365: 'loving', 1366: 'decided', 1367: 'uniform', 1368: 'target', 1369: 'looked', 1370: 'ack', 1371: 'pick', 1372: 'settle', 1373: 'sense', 1374: 'japs', 1375: 'apple', 1376: 'raid', 1377: 'accordion', 1378: 'town', 1379: 'headman', 1380: 'fiance', 1381: 'fifteen', 1382: 'landlocked', 1383: 'protest', 1384: 'solution', 1385: '12th', 1386: 'lacey', 1387: 'revenge', 1388: 'anymore', 1389: 'dream', 1390: 'pack', 1391: 'bone', 1392: 'remain', 1393: 'attack', 1394: 'additional', 1395: 'stubborn', 1396: 'news', 1397: 'boys', 1398: 'stays', 1399: 'sandwiches', 1400: 'objections', 1401: 'fortunately', 1402: 'militia', 1403: 'sixteen', 1404: 'hour', 1405: 'danger', 1406: 'aids', 1407: 'taking', 1408: 'strike', 1409: 'running', 1410: 'ice', 1411: 'anna', 1412: 'enemy', 1413: 'troubleshooter', 1414: 'ed', 1415: 'payroll', 1416: 'climb', 1417: 'aboard', 1418: 'dime', 1419: 'shannon', 1420: 'welshing', 1421: 'denver', 1422: 'drew', 1423: 'road', 1424: 'site', 1425: 'umhmm', 1426: 'winded', 1427: 'carrier', 1428: 'benumb', 1429: 'nardo', 1430: 'installations', 1431: 'bridges', 1432: 'chipped', 1433: 'honour', 1434: 'mason', 1435: 'host', 1436: 'photo', 1437: 'asshole', 1438: 'body', 1439: 'forgotten', 1440: 'held', 1441: 'state', 1442: 'add', 1443: 'cigarette', 1444: 'pennys', 1445: 'bar', 1446: 'area', 1447: 'blanket', 1448: 'dyou', 1449: 'terribly', 1450: 'capsule', 1451: 'worked', 1452: 'cry', 1453: 'occurred', 1454: 'dial', 1455: 'pussy', 1456: 'sniper', 1457: '100', 1458: 'hung', 1459: 'ordered', 1460: 'gee', 1461: 'someones', 1462: 'shift', 1463: 'cost', 1464: 'buddy', 1465: 'yan', 1466: 'asking', 1467: 'marriage', 1468: 'meaning', 1469: 'pleasure', 1470: 'rope', 1471: 'gah', 1472: 'henry', 1473: 'sailing', 1474: 'cherries', 1475: 'showjenkins', 1476: 'nagel', 1477: 'aaggh', 1478: 'worst', 1479: 'proud', 1480: 'wild', 1481: 'comfortable', 1482: 'doc', 1483: 'address', 1484: 'garden', 1485: 'lay', 1486: 'otherwise', 1487: 'smoking', 1488: 'mouse', 1489: 'jobs', 1490: 'property', 1491: '10000', 1492: 'hastily', 1493: 'none', 1494: 'beaten', 1495: 'preparing', 1496: 'ridiculous', 1497: 'warm', 1498: 'turkey', 1499: 'office', 1500: 'indeed', 1501: 'heehee', 1502: 'taught', 1503: 'loyal', 1504: 'knock', 1505: 'zinaida', 1506: 'kuzma', 1507: 'columnar', 1508: 'reynolds', 1509: 'demonstrations', 1510: 'veins', 1511: 'golbangee', 1512: 'relationship', 1513: 'thrilled', 1514: 'forever', 1515: 'shout', 1516: 'throw', 1517: 'dark', 1518: 'woods', 1519: 'production', 1520: 'bits', 1521: 'horses', 1522: 'cigarettes', 1523: 'monsieur', 1524: 'mock', 1525: 'weaver', 1526: 'thunderous', 1527: 'ovation', 1528: 'kwai', 1529: 'teens', 1530: 'ran', 1531: 'spring', 1532: 'prize', 1533: 'george', 1534: 'prevent', 1535: 'standing', 1536: 'staying', 1537: 'pierre', 1538: 'realize', 1539: 'fist', 1540: 'vittles', 1541: 'stirrup', 1542: 'interested', 1543: 'earned', 1544: 'pilgrim', 1545: 'roped', 1546: 'torgenson', 1547: 'holdup', 1548: 'latigo', 1549: 'mules', 1550: 'therefore', 1551: 'paul', 1552: 'cheer', 1553: 'pugnose', 1554: 'mostafa', 1555: 'location', 1556: 'entertainment', 1557: 'futile', 1558: 'amigo', 1559: 'phillips', 1560: 'petersen', 1561: 'park', 1562: 'smile', 1563: 'fuck', 1564: 'teeny', 1565: 'switch', 1566: 'chinese', 1567: 'saved', 1568: 'deserter', 1569: 'excited', 1570: 'personal', 1571: 'create', 1572: 'nine', 1573: 'lead', 1574: 'west', 1575: 'bunch', 1576: 'seems', 1577: 'mention', 1578: 'possibly', 1579: 'experience', 1580: 'mioura', 1581: 'blackwater', 1582: 'escaped', 1583: 'lutts', 1584: 'diluted', 1585: 'eldest', 1586: 'berserk', 1587: 'phones', 1588: 'somewhere', 1589: 'watching', 1590: 'kissed', 1591: '30', 1592: 'pocket', 1593: 'manual', 1594: 'longer', 1595: 'careful', 1596: 'search', 1597: 'threw', 1598: 'especially', 1599: 'robber', 1600: 'fedya', 1601: 'hahaha', 1602: 'sounds', 1603: 'somehow', 1604: 'mckenzie', 1605: 'shamba', 1606: 'sworn', 1607: 'parties', 1608: 'plastic', 1609: 'valley', 1610: 'leading', 1611: 'wholl', 1612: 'it´s', 1613: 'style', 1614: 'twice', 1615: 'taste', 1616: 'anyway', 1617: 'against', 1618: 'film', 1619: 'fired', 1620: 'figure', 1621: 'fill', 1622: 'least', 1623: 'government', 1624: 'charge', 1625: 'comrades', 1626: 'anybody', 1627: 'tobacco', 1628: 'justice', 1629: 'operations', 1630: 'fresno', 1631: 'matches', 1632: 'eggs', 1633: 'finding', 1634: 'fear', 1635: 'green', 1636: 'victors', 1637: 'cried', 1638: 'sweetheart', 1639: 'harry', 1640: 'au', 1641: 'revoir', 1642: '04', 1643: 'john', 1644: 'texas', 1645: 'cora', 1646: 'davenport', 1647: 'wash', 1648: 'bear', 1649: 'boyfriend', 1650: 'toothpaste', 1651: 'dog', 1652: 'todays', 1653: 'book', 1654: 'correct', 1655: 'meal', 1656: 'tie', 1657: 'cannot', 1658: 'ears', 1659: 'cops', 1660: 'feeney', 1661: 'garryowen', 1662: 'hoping', 1663: 'mill', 1664: 'followtheriver', 1665: 'adam', 1666: 'indecent', 1667: 'kenya', 1668: 'christian', 1669: 'anxiety', 1670: 'daydreaming', 1671: 'forbidden', 1672: '39', 1673: 'south', 1674: 'labour', 1675: 'theory', 1676: 'staley', 1677: 'kettle', 1678: 'posts', 1679: 'tortilla', 1680: 'nope', 1681: 'bitch', 1682: 'fair', 1683: 'kept', 1684: 'disappear', 1685: 'chicken', 1686: 'glasses', 1687: 'closely', 1688: 'certify', 1689: 'fancy', 1690: 'absolutely', 1691: 'breakfast', 1692: 'dario', 1693: 'opinion', 1694: 'double', 1695: 'arrange', 1696: 'whered', 1697: 'lotfy', 1698: 'grateful', 1699: 'copy', 1700: 'glance', 1701: 'ceased', 1702: 'chap', 1703: '624', 1704: '770', 1705: 'goals', 1706: 'jail', 1707: 'clothes', 1708: 'passed', 1709: 'iike', 1710: 'promise', 1711: 'warning', 1712: 'entire', 1713: 'dressed', 1714: 'picture', 1715: 'ours', 1716: 'similar', 1717: 'mommy', 1718: 'orteisar', 1719: 'keys', 1720: 'needed', 1721: 'hag', 1722: 'travelling', 1723: 'mountains', 1724: 'unload', 1725: 'bartender', 1726: '♪', 1727: 'million', 1728: 'documents', 1729: '1957', 1730: 'trap', 1731: 'n', 1732: 'silent', 1733: 'ranks', 1734: 'objective', 1735: 'potshots', 1736: 'packet', 1737: 'saki', 1738: 'aguirre', 1739: 'ladidah', 1740: 'obliged', 1741: 'montrose', 1742: 'gladly', 1743: 'whend', 1744: 'younger', 1745: 'nose', 1746: 'toothbrush', 1747: 'person', 1748: 'become', 1749: 'separate', 1750: 'miracle', 1751: 'example', 1752: 'condition', 1753: 'odd', 1754: 'weapon', 1755: 'height', 1756: 'witnesses', 1757: 'tile', 1758: 'cards', 1759: 'junction', 1760: 'figured', 1761: 'burn', 1762: 'whereveryoumaybe', 1763: 'gods', 1764: 'plant', 1765: 'o', 1766: 'understands', 1767: 'broadcasting', 1768: 'union', 1769: 'presents', 1770: 'committee', 1771: 'hélène', 1772: 'surrendered', 1773: 'enlist', 1774: 'bore', 1775: 'explosives', 1776: 'rot', 1777: 'cutting', 1778: '316', 1779: 'tierno', 1780: 'drinking', 1781: 'date', 1782: 'street', 1783: 'waiter', 1784: 'kings', 1785: 'earth', 1786: '45', 1787: 'seoisoo', 1788: 'claim', 1789: 'cars', 1790: 'lives', 1791: 'wine', 1792: 'photos', 1793: 'desideria', 1794: 'tomecek', 1795: 'protect', 1796: 'hide', 1797: 'murderer', 1798: 'savings', 1799: 'yard', 1800: 'tear', 1801: 'member', 1802: 'guilty', 1803: 'less', 1804: 'faces', 1805: 'goat', 1806: 'evidence', 1807: 'fellas', 1808: 'hat', 1809: 'astray', 1810: 'crowd', 1811: 'doubts', 1812: 'unclean', 1813: 'mmmm', 1814: 'njogu', 1815: 'mti', 1816: 'manchild', 1817: 'studio', 1818: 'fred', 1819: 'article', 1820: 'however', 1821: 'fernand', 1822: 'cash', 1823: 'pot', 1824: 'soviet', 1825: 'sketches', 1826: 'vorobyov', 1827: 'alarmed', 1828: 'kolia', 1829: 'samir', 1830: 'island', 1831: 'wire', 1832: 'firecrackers', 1833: 'hewitt', 1834: 'jubilee', 1835: 'sorrow', 1836: 'pictures', 1837: 'slap', 1838: 'heels', 1839: 'college', 1840: 'sudden', 1841: '405', 1842: 'field', 1843: 'bones', 1844: 'brake', 1845: 'doctors', 1846: 'matters', 1847: 'soul', 1848: 'naturally', 1849: 'forest', 1850: 'per', 1851: 'ms', 1852: 'subtitles', 1853: 'directly', 1854: 'circumstances', 1855: 'circle', 1856: 'evil', 1857: 'bao', 1858: 'gung', 1859: 'civilian', 1860: 'unfortunate', 1861: 'knowing', 1862: 'empty', 1863: 'whiskey', 1864: 'honeymoon', 1865: 'surely', 1866: 'chernov', 1867: 'secrets', 1868: 'hall', 1869: 'lm', 1870: 'deserves', 1871: 'anywhere', 1872: 'trunk', 1873: 'served', 1874: 'greater', 1875: 'gained', 1876: 'completely', 1877: 'wind', 1878: 'diversion', 1879: 'dillinger', 1880: 'chivington', 1881: 'yankee', 1882: 'stell', 1883: 'kippers', 1884: 'dirty', 1885: 'bullet', 1886: 'shoes', 1887: 'likes', 1888: 'fate', 1889: 'past', 1890: 'speaking', 1891: 'stopped', 1892: 'seconds', 1893: 'perfect', 1894: 'seregay', 1895: 'guide', 1896: 'lied', 1897: 'exist', 1898: 'herminka', 1899: 'painful', 1900: 'board', 1901: 'certain', 1902: 'north', 1903: 'marks', 1904: 'united', 1905: 'ended', 1906: 'folk', 1907: 'thief', 1908: 'missed', 1909: 'karanja', 1910: 'memsahib', 1911: 'ideas', 1912: 'collect', 1913: 'bayonets', 1914: 'varvara', 1915: 'whining', 1916: 'fiancé', 1917: 'pa', 1918: 'joke', 1919: 'glory', 1920: 'ciipton', 1921: 'suggested', 1922: 'available', 1923: 'task', 1924: 'rebuild', 1925: 'essential', 1926: 'waterproof', 1927: 'dusk', 1928: 'bearers', 1929: 'finishing', 1930: 'debriefing', 1931: 'mmhmm', 1932: 'aha', 1933: 'vacuum', 1934: 'humiliating', 1935: 'loud', 1936: 'prison', 1937: 'tough', 1938: 'sheii', 1939: 'form', 1940: '11', 1941: 'accept', 1942: 'turk', 1943: 'gift', 1944: 'urgent', 1945: 'throttle', 1946: 'lock', 1947: 'laundry', 1948: 'outta', 1949: 'moneys', 1950: 'servants', 1951: 'shelter', 1952: 'chatter', 1953: 'mikhailovna', 1954: 'whadda', 1955: 'serial', 1956: 'stockade', 1957: 'australian', 1958: 'employ', 1959: '27', 1960: 'rode', 1961: 'advantages', 1962: 'coolie', 1963: 'pasting', 1964: 'invent', 1965: 'occupied', 1966: 'uptake', 1967: 'procedural', 1968: 'alter', 1969: 'appreciation', 1970: 'lasted', 1971: 'initiative', 1972: 'learns', 1973: 'flor', 1974: 'won´t', 1975: 'lipstick', 1976: 'yesjennings', 1977: 'imagine', 1978: 'heal', 1979: 'changed', 1980: 'club', 1981: 'attendant', 1982: 'pulse', 1983: 'unit', 1984: '80', 1985: 'signal', 1986: 'breathe', 1987: 'ramiro', 1988: 'arturo', 1989: 'leader', 1990: 'precious', 1991: 'depends', 1992: 'private', 1993: 'haha', 1994: 'yip', 1995: 'female', 1996: 'lunches', 1997: 'pete', 1998: 'whatll', 1999: 'hearts', 2000: 'located', 2001: 'stopping', 2002: 'nanyuki', 2003: 'twentyone', 2004: 'meyli', 2005: 'makaa', 2006: 'charcoal', 2007: 'understanding', 2008: 'grandpa', 2009: 'rear', 2010: 'borozdin', 2011: 'evacuated', 2012: 'kitten', 2013: 'acting', 2014: '46', 2015: '47', 2016: 'lededeva', 2017: 'katerina', 2018: 'bedpan', 2019: 'mamas', 2020: 'patrol', 2021: 'goin', 2022: 'kanematsu', 2023: 'valiant', 2024: 'queens', 2025: 'beriberi', 2026: 'barbed', 2027: 'overlooked', 2028: 'expressly', 2029: 'bradley', 2030: 'railway', 2031: 'solve', 2032: 'urge', 2033: 'revise', 2034: 'imposition', 2035: 'countrymen', 2036: 'sufficient', 2037: 'policy', 2038: 'eden', 2039: 'rocca', 2040: 'noone', 2041: 'chivingtons', 2042: 'birth', 2043: 'ball', 2044: 'mystery', 2045: 'lts', 2046: 'seem', 2047: 'itii', 2048: 'criminal', 2049: 'lots', 2050: 'clock', 2051: 'don', 2052: 'roof', 2053: 'bag', 2054: 'mistakes', 2055: 'useless', 2056: 'return', 2057: 'court', 2058: 'personnel', 2059: 'below', 2060: 'tall', 2061: 'dollar', 2062: 'ways', 2063: 'clean', 2064: 'expect', 2065: 'trailer', 2066: 'glass', 2067: 'receipt', 2068: 'raised', 2069: 'grey', 2070: 'packed', 2071: 'key', 2072: 'behaviour', 2073: 'belligerents', 2074: 'pathway', 2075: 'bruce', 2076: '016', 2077: '228', 2078: '53', 2079: 'began', 2080: 'bastards', 2081: 'womens', 2082: 'jim', 2083: 'small', 2084: 'heaven', 2085: 'beer', 2086: 'hidden', 2087: 'unique', 2088: 'plum', 2089: 'continue', 2090: 'nervous', 2091: 'cooking', 2092: 'chi', 2093: 'yuen', 2094: 'collar', 2095: 'cuts', 2096: 'hired', 2097: '19', 2098: 'upstairs', 2099: 'compelled', 2100: 'proceed', 2101: 'yards', 2102: '¶', 2103: 'eduardo', 2104: 'keddie', 2105: 'victim', 2106: 'jesus', 2107: 'gotten', 2108: '200', 2109: '9', 2110: '150', 2111: 'bottle', 2112: 'dolsuk', 2113: 'wonderful', 2114: 'view', 2115: 'clever', 2116: 'intended', 2117: 'fanny', 2118: 'murdered', 2119: 'freedom', 2120: 'waitwait', 2121: 'detective', 2122: 'sriracha', 2123: 'lt', 2124: 'eagle', 2125: 'jackson', 2126: 'marge', 2127: 'whenever', 2128: 'buying', 2129: 'rail', 2130: 'age', 2131: 'magic', 2132: 'families', 2133: 'telephone', 2134: 'fredo', 2135: 'grandmother', 2136: 'arranged', 2137: 'lenin', 2138: 'talented', 2139: 'cousin', 2140: 'chest', 2141: 'fulfil', 2142: 'overfulfil', 2143: 'volodya', 2144: 'devil', 2145: 'orderly', 2146: 'tormenting', 2147: 'dumbbell', 2148: 'yelled', 2149: 'spite', 2150: 'daddy', 2151: 'afternoon', 2152: 'sports', 2153: 'mistake', 2154: 'rivers', 2155: 'sailor', 2156: 'translation', 2157: 'shook', 2158: 'trimmings', 2159: 'realised', 2160: 'i´ll', 2161: 'unlock', 2162: 'hyah', 2163: 'offer', 2164: 'sleeping', 2165: 'naked', 2166: 'neck', 2167: 'synopsis', 2168: 'shower', 2169: 'gangsters', 2170: 'toying', 2171: 'jerks', 2172: 'internet', 2173: 'tricking', 2174: 'hostage', 2175: 'smiling', 2176: 'opposite', 2177: 'bought', 2178: 'prettiest', 2179: 'humiliated', 2180: 'uuh', 2181: 'fizz', 2182: 'uuaaaah', 2183: 'units', 2184: '5', 2185: 'dangerous', 2186: 'nerve', 2187: 'middle', 2188: 'honor', 2189: 'ivan', 2190: 'fools', 2191: 'robbed', 2192: 'started', 2193: 'witness', 2194: '25', 2195: 'alert', 2196: 'advise', 2197: 'throws', 2198: 'obey', 2199: 'betrayed', 2200: 'nyeri', 2201: 'returned', 2202: 'circus', 2203: 'hire', 2204: 'beaks', 2205: 'surpass', 2206: 'dedicating', 2207: 'tchaikovsky', 2208: 'stove', 2209: 'aziz', 2210: 'maman', 2211: 'bushido', 2212: 'attempting', 2213: 'medal', 2214: 'unpleasant', 2215: 'disagreement', 2216: 'appreciate', 2217: 'oven', 2218: 'enormous', 2219: 'undertaking', 2220: 'duties', 2221: 'theirs', 2222: 'killings', 2223: 'harmed', 2224: 'williams', 2225: 'clumsyjoyce', 2226: 'harder', 2227: 'older', 2228: 'ending', 2229: 'joking', 2230: 'definitely', 2231: 'mountain', 2232: 'ho', 2233: '13', 2234: 'pills', 2235: 'works', 2236: 'rent', 2237: 'occupy', 2238: 'tries', 2239: 'disaster', 2240: 'east', 2241: 'california', 2242: 'mix', 2243: 'worried', 2244: 'loot', 2245: 'curse', 2246: 'allow', 2247: 'rush', 2248: 'soaking', 2249: 'yourselves', 2250: 'kawthar', 2251: 'punished', 2252: 'detention', 2253: 'truly', 2254: 'saitos', 2255: 'rations', 2256: 'contributed', 2257: 'cigar', 2258: 'personally', 2259: 'appalled', 2260: 'exact', 2261: 'friday', 2262: 'lebbard', 2263: 'casualties', 2264: 'beckmeyer', 2265: 'renault', 2266: 'raped', 2267: 'slept', 2268: 'seolsoo', 2269: 'fooling', 2270: 'toy', 2271: 'plus', 2272: 'reflection', 2273: 'apart', 2274: 'uuuaaaaahh', 2275: 'accident', 2276: 'mess', 2277: 'daylight', 2278: 'ourselves', 2279: 'aware', 2280: 'liver', 2281: 'lung', 2282: 'trachea', 2283: 'tube', 2284: 'surprise', 2285: 'organization', 2286: 'michal', 2287: 'hua', 2288: 'twenty', 2289: 'bei', 2290: 'instructions', 2291: 'dregs', 2292: 'itd', 2293: 'mighty', 2294: 'grade', 2295: 'beholden', 2296: 'heavyset', 2297: 'fork', 2298: 'belongs', 2299: 'arguments', 2300: 'flatcar', 2301: 'flats', 2302: 'firstclass', 2303: 'whiteys', 2304: 'upstream', 2305: 'bottled', 2306: 'bond', 2307: 'kimballs', 2308: 'hill', 2309: 'divide', 2310: 'shoots', 2311: 'pinned', 2312: 'grin', 2313: 'theriverknowsthe', 2314: 'nairobi', 2315: 'cairo', 2316: 'porch', 2317: 'surrounded', 2318: 'beginning', 2319: 'farms', 2320: 'andre', 2321: 'bastia', 2322: 'kuprianova', 2323: 'poem', 2324: 'hideandseek', 2325: 'quieter', 2326: 'palyukaitis', 2327: 'nikolai', 2328: 'aim', 2329: 'mixed', 2330: 'cow', 2331: 'aw', 2332: 'barry', 2333: 'doin', 2334: 'pépito', 2335: '31', 2336: 'nips', 2337: '700', 2338: 'upjoyce', 2339: 'lll', 2340: 'clumsy', 2341: 'rhoda', 2342: 'bat', 2343: 'comanches', 2344: 'hers', 2345: 'buster', 2346: 'fort', 2347: '2x', 2348: '2l', 2349: 'cab', 2350: 'tragg', 2351: 'ow', 2352: 'feels', 2353: 'pain', 2354: 'massage', 2355: 'drop', 2356: 'everyday', 2357: 'machine', 2358: 'iot', 2359: 'hair', 2360: 'damage', 2361: 'cough', 2362: 'repeat', 2363: 'nature', 2364: 'angry', 2365: 'happening', 2366: 'frightened', 2367: 'several', 2368: 'sentence', 2369: 'exciting', 2370: 'weather', 2371: 'further', 2372: 'forced', 2373: 'deeper', 2374: 'hates', 2375: 'francs', 2376: 'cream', 2377: 'wifes', 2378: 'frogs', 2379: 'croaking', 2380: 'sore', 2381: 'quartered', 2382: 'tashkent', 2383: 'homeless', 2384: 'dasha', 2385: 'san', 2386: 'avenue', 2387: 'scraped', 2388: 'meat', 2389: 'adams', 2390: 'chicago', 2391: 'deserted', 2392: 'si', 2393: 'gamble', 2394: 'perry', 2395: 'floor', 2396: 'fantastic', 2397: 'related', 2398: 'tears', 2399: 'shouldnt', 2400: 'remind', 2401: 'oclock', 2402: 'letting', 2403: 'weii', 2404: 'emergency', 2405: 'surgery', 2406: 'weak', 2407: 'driving', 2408: 'defibrillator', 2409: 'rescue', 2410: 'oil', 2411: 'delivery', 2412: 'damages', 2413: 'bandage', 2414: 'icu', 2415: 'kidneys', 2416: 'oxygen', 2417: 'wipe', 2418: 'sons', 2419: 'condemned', 2420: 'hiding', 2421: 'mademoiselle', 2422: 'bullets', 2423: 'liked', 2424: 'paradise', 2425: 'behavior', 2426: 'cb5523', 2427: 'paper', 2428: 'mercy', 2429: 'ned', 2430: 'bud', 2431: 'lively', 2432: 'tongue', 2433: 'hm', 2434: 'mm', 2435: 'earn', 2436: 'flight', 2437: 'symbol', 2438: 'farm', 2439: 'europeans', 2440: 'gangs', 2441: 'aberdare', 2442: 'flat', 2443: 'meadow', 2444: 'suitcase', 2445: 'returns', 2446: 'shame', 2447: 'jeep', 2448: 'boots', 2449: 'borozdins', 2450: 'chubby', 2451: 'assembly', 2452: 'unless', 2453: 'anniversary', 2454: 'parole', 2455: 'honestly', 2456: 'mexico', 2457: 'bonsoir', 2458: 'whatshisname', 2459: 'frightful', 2460: 'heel', 2461: 'insane', 2462: 'nasty', 2463: 'johnson', 2464: 'unbalanced', 2465: 'carrying', 2466: 'seoul', 2467: 'cherry', 2468: 'prettier', 2469: 'stressful', 2470: 'cleaning', 2471: 'lights', 2472: 'starts', 2473: 'eyebrows', 2474: 'worship', 2475: 'felt', 2476: 'rose', 2477: 'suspension', 2478: 'visited', 2479: 'hen', 2480: 'top', 2481: 'rain', 2482: 'memory', 2483: 'hyungchui', 2484: 'response', 2485: 'transplant', 2486: 'washed', 2487: 'smell', 2488: 'seek', 2489: 'drugs', 2490: 'hotel', 2491: 'gives', 2492: 'obvious', 2493: 'expecting', 2494: 'max', 2495: 'horackova', 2496: 'beating', 2497: 'involved', 2498: 'sleuth', 2499: 'ngau', 2500: 'waste', 2501: 'shack', 2502: 'post', 2503: 'press', 2504: 'museum', 2505: 'bacon', 2506: 'tells', 2507: 'fella', 2508: 'leather', 2509: 'ropes', 2510: 'somethings', 2511: 'tank', 2512: 'filthy', 2513: 'jojo', 2514: 'strongly', 2515: 'discover', 2516: 'fix', 2517: 'fat', 2518: 'moved', 2519: 'caution', 2520: 'b', 2521: '326', 2522: 'mustnt', 2523: 'willing', 2524: 'redhead', 2525: 'caper', 2526: 'problems', 2527: 'headquarters', 2528: 'jack', 2529: 'fatso', 2530: 'wall', 2531: 'that´s', 2532: 'skirts', 2533: 'bullshit', 2534: 'adventure', 2535: 'embarrass', 2536: 'stalingrad', 2537: 'unlikely', 2538: '942', 2539: 'bruise', 2540: 'bucks', 2541: 'underwear', 2542: '9500', 2543: 'torn', 2544: 'youjoyce', 2545: 'partly', 2546: 'sentry', 2547: 'mmmhmm', 2548: 'peoples', 2549: '200000', 2550: 'sooner', 2551: 'screwed', 2552: 'neighborhood', 2553: 'disappointed', 2554: 'future', 2555: 'korea', 2556: 'bath', 2557: 'oohack', 2558: 'uuuh', 2559: 'aaaack', 2560: 'la', 2561: 'iets', 2562: 'art', 2563: 'bp', 2564: 'sue', 2565: 'suit', 2566: 'lame', 2567: 'dizzy', 2568: 'power', 2569: 'throat', 2570: '2000', 2571: 'ling', 2572: 'serve', 2573: 'kim', 2574: 'siesta', 2575: 'seated', 2576: 'bride', 2577: 'theyd', 2578: 'dollars', 2579: 'plums', 2580: 'distance', 2581: 'pieces', 2582: 'drove', 2583: 'zombie', 2584: 'mute', 2585: 'refuse', 2586: 'destroy', 2587: 'yung', 2588: 'kin', 2589: 'became', 2590: 'creatures', 2591: 'nobodys', 2592: 'guard', 2593: 'pounds', 2594: 'suspicious', 2595: 'richoni', 2596: 'strikers', 2597: 'symphony', 2598: 'leaping', 2599: 'fiancee', 2600: 'platoon', 2601: 'kapitonovna', 2602: 'schoolyard', 2603: 'brooding', 2604: 'maintain', 2605: 'ordering', 2606: 'punched', 2607: 'vosstaniya', 2608: 'dreaming', 2609: 'verses', 2610: 'nineteen', 2611: 'fortyseven', 2612: 'fortyeight', 2613: 'irritable', 2614: 'criticizing', 2615: 'louder', 2616: 'croak', 2617: 'weight', 2618: 'asleep', 2619: 'announcement', 2620: 'talent', 2621: 'ahmed', 2622: 'youngest', 2623: 'earring', 2624: 'starving', 2625: 'fingerprints', 2626: 'rock', 2627: 'desert', 2628: 'dinners', 2629: 'scoundrel', 2630: 'clémence', 2631: 'nichoison', 2632: '1943', 2633: 'pulp', 2634: 'prompt', 2635: 'almada', 2636: 'hetty', 2637: 'showed', 2638: 'supposing', 2639: 'amigos', 2640: 'pony', 2641: 'josh', 2642: 'jersey', 2643: 'ruth', 2644: 'della', 2645: 'howard', 2646: 'myrna', 2647: 'western', 2648: 'uksu', 2649: 'jamonka', 2650: 'almonds', 2651: 'whyd', 2652: 'coward', 2653: 'mood', 2654: 'reminiscent', 2655: 'petty', 2656: 'tight', 2657: 'yup', 2658: 'iee', 2659: 'coincidence', 2660: 'blind', 2661: 'heii', 2662: 'license', 2663: 'besides', 2664: 'administration', 2665: 'choice', 2666: 'parts', 2667: 'within', 2668: 'hospitals', 2669: 'lived', 2670: 'followed', 2671: 'arriving', 2672: 'baths', 2673: 'tied', 2674: 'cheat', 2675: 'treasure', 2676: 'deserve', 2677: 'de', 2678: 'alarm', 2679: 'above', 2680: 'emilio', 2681: 'granddaughter', 2682: 'niece', 2683: 'window', 2684: 'description', 2685: 'size', 2686: 'paris', 2687: 'scare', 2688: 'ghosts', 2689: 'pig', 2690: '4', 2691: 'avoid', 2692: 'petes', 2693: 'jug', 2694: 'cos', 2695: 'known', 2696: 'district', 2697: 'madam', 2698: 'satisfied', 2699: 'goodnight', 2700: 'turns', 2701: 'port', 2702: 'therell', 2703: 'zakharov', 2704: 'sima', 2705: 'porridge', 2706: '18', 2707: 'crime', 2708: 'square', 2709: 'dry', 2710: 'peters', 2711: 'nerves', 2712: 'madame', 2713: 'spoils', 2714: 'evans', 2715: 'conference', 2716: 'navys', 2717: 'chopper', 2718: 'loose', 2719: 'jason', 2720: 'morgan', 2721: 'pd1', 2722: 'marvel', 2723: 'elderly', 2724: 'attractive', 2725: 'novel', 2726: 'stick', 2727: 'merrygoround', 2728: 'delivering', 2729: 'wrote', 2730: 'irritate', 2731: 'travels', 2732: 'uuuuuuuhhh', 2733: 'yaaaah', 2734: 'encourage', 2735: 'ia', 2736: 'transportation', 2737: '23', 2738: 'pulled', 2739: 'patient', 2740: 'beggars', 2741: 'apology', 2742: 'critical', 2743: 'chocolate', 2744: 'third', 2745: 'store', 2746: 'c', 2747: 'following', 2748: 'pub', 2749: 'ku', 2750: 'divorce', 2751: 'ring', 2752: 'fifth', 2753: 'andelka', 2754: 'toufarova', 2755: 'entrance', 2756: 'elses', 2757: 'played', 2758: 'poison', 2759: 'golden', 2760: 'aleksandar', 2761: 'cast', 2762: 'crash', 2763: '01', 2764: 'useful', 2765: 'jerk', 2766: 'ford', 2767: 'unusual', 2768: 'promises', 2769: 'nickels', 2770: 'dimes', 2771: 'patience', 2772: 'shillyshally', 2773: 'wives', 2774: 'harbin', 2775: 'squeezed', 2776: 'notes', 2777: 'acomin', 2778: 'colorado', 2779: 'showdown', 2780: 'sorrel', 2781: 'saddle', 2782: 'softfoot', 2783: 'payrolls', 2784: 'halfway', 2785: 'timbers', 2786: 'buggy', 2787: 'hack', 2788: 'leary', 2789: 'tommy', 2790: 'mellow', 2791: 'easier', 2792: 'cantle', 2793: 'flap', 2794: 'piker', 2795: 'telegraph', 2796: 'tenminute', 2797: 'brandnew', 2798: 'dresses', 2799: 'bullfrog', 2800: 'ore', 2801: 'bucket', 2802: 'figuring', 2803: 'traveling', 2804: 'burns', 2805: 'lion', 2806: 'enters', 2807: 'hillary', 2808: 'bo', 2809: 'ac', 2810: 'rome', 2811: 'athens', 2812: 'khartoum', 2813: 'masters', 2814: 'jasper', 2815: 'reports', 2816: 'arch', 2817: 'panga', 2818: 'fuse', 2819: 'led', 2820: 'farmers', 2821: 'hence', 2822: 'escapes', 2823: 'pockets', 2824: 'table', 2825: 'gas', 2826: 'ye', 2827: 'm', 2828: 'blackouts', 2829: 'tomorrows', 2830: 'swine', 2831: 'vorobyev', 2832: 'francisco', 2833: 'calf', 2834: 'legal', 2835: 'lawyer', 2836: 'tarnation', 2837: 'cock', 2838: 'hammer', 2839: 'yell', 2840: 'ranch', 2841: 'canyon', 2842: 'justjust', 2843: 'frédo', 2844: 'bite', 2845: 'infraction', 2846: 'belonged', 2847: 'zeroonetwo', 2848: 'threefourfivesixseven', 2849: 'iime', 2850: 'twelfth', 2851: 'wouid', 2852: 'quota', 2853: '400', 2854: 'downstream', 2855: 'powders', 2856: 'injections', 2857: 'enemas', 2858: 'harmless', 2859: 'detonated', 2860: 'motives', 2861: 'cambridge', 2862: 'irons', 2863: 'abused', 2864: 'happier', 2865: 'improved', 2866: 'blew', 2867: 'malingerers', 2868: 'scratched', 2869: 'cooped', 2870: 'anns', 2871: 'leak', 2872: 'forbes', 2873: 'tricks', 2874: 'what´s', 2875: 'petticoat', 2876: 'shoemaker', 2877: 'violinist', 2878: 'jewels', 2879: 'mines', 2880: 'gibbons', 2881: 'monsters', 2882: '38', 2883: 'blank', 2884: 'roving', 2885: 'brain', 2886: 'card', 2887: 'breast', 2888: 'inchon', 2889: 'apologize', 2890: 'pretends', 2891: 'games', 2892: 'customer', 2893: 'learned', 2894: 'chicks', 2895: 'actions', 2896: 'broad', 2897: 'contact', 2898: 'rate', 2899: 'leon', 2900: 'allowed', 2901: 'heartbeat', 2902: '300', 2903: '30000', 2904: 'luggage', 2905: 'shouldve', 2906: 'resistance', 2907: 'bartenders', 2908: 'silky', 2909: 'sanggu', 2910: 'chosun', 2911: 'dreams', 2912: 'bless', 2913: 'godfather', 2914: 'pregnant', 2915: 'stock', 2916: 'smells', 2917: 'happily', 2918: 'yamans', 2919: 'horrible', 2920: 'burning', 2921: 'bored', 2922: 'g', 2923: 'sweet', 2924: 'mistress', 2925: 'lisa', 2926: 'advice', 2927: 'petrovic', 2928: 'poh', 2929: 'thirteen', 2930: 'orphans', 2931: 'piss', 2932: 'idiots', 2933: 'farther', 2934: 'spotted', 2935: '17', 2936: 'mule', 2937: 'watched', 2938: 'dads', 2939: 'rid', 2940: 'preserve', 2941: 'handful', 2942: 'philip', 2943: 'uyd置', 2944: 'pigalle', 2945: 'passing', 2946: 'buck', 2947: 'nttalex', 2948: 'noise', 2949: 'sand', 2950: 'alex', 2951: 'overdoing', 2952: 'bull', 2953: 'mightve', 2954: 'indian', 2955: 'sleeve', 2956: 'til', 2957: 'forbid', 2958: 'favour', 2959: 'labor', 2960: 'cricket', 2961: 'dismiss', 2962: 'conclusion', 2963: 'freddy', 2964: 'swing', 2965: 'ranald', 2966: 'er', 2967: 'trace', 2968: 'breastplate', 2969: 'monster', 2970: 'i´m', 2971: 'you´ll', 2972: 'chihuahua', 2973: 'defendant', 2974: 'gettin', 2975: 'pad', 2976: 'fooled', 2977: 'crossexamine', 2978: 'bakerstown', 2979: 'ansel', 2980: 'stokes', 2981: 'sassy', 2982: 'disgust', 2983: 'engaged', 2984: 'fourth', 2985: 'shindangdong', 2986: 'joonggu', 2987: 'beside', 2988: 'pouting', 2989: 'seeing', 2990: 'handkerchief', 2991: 'hyungchul', 2992: 'peculiar', 2993: 'blurry', 2994: 'fireworks', 2995: 'moves', 2996: 'nicest', 2997: 'cheery', 2998: 'panties', 2999: 'exam', 3000: 'afterwards', 3001: '100th', 3002: 'cleverer', 3003: 'cafe', 3004: 'passengers', 3005: 'helpless', 3006: 'stories', 3007: 'aaggggggghh', 3008: 'iowlife', 3009: 'wishes', 3010: 'writing', 3011: 'goibangee', 3012: 'lowiife', 3013: 'stinks', 3014: 'sugar', 3015: 'ampoules', 3016: 'engine', 3017: 'rats', 3018: 'adjourned', 3019: 'dopamine', 3020: 'storm', 3021: 'ticket', 3022: 'ass', 3023: 'landslide', 3024: 'sneak', 3025: 'itself', 3026: 'drives', 3027: 'kuboda', 3028: 'husbands', 3029: 'century', 3030: 'dunbar', 3031: 'turkish', 3032: 'orgeat', 3033: 'temptress', 3034: 'torture', 3035: 'fuel', 3036: 'boucek', 3037: 'bags', 3038: 'cool', 3039: 'dreamt', 3040: 'expert', 3041: 'confused', 3042: 'church', 3043: 'misanek', 3044: 'recognize', 3045: 'neighbor', 3046: 'damned', 3047: 'karadjordje', 3048: 'raja', 3049: 'pavlovic', 3050: 'milorad', 3051: 'milojevic', 3052: 'jevrem', 3053: 'bozovic', 3054: 'dobrica', 3055: 'milutinovic', 3056: 'vukosava', 3057: 'jurkovic', 3058: 'suddenly', 3059: 'bamboos', 3060: 'molested', 3061: 'sex', 3062: 'zero', 3063: 'plane', 3064: 'snow', 3065: 'pentagon', 3066: 'muscles', 3067: 'salt', 3068: 'omelettes', 3069: 'uhuh', 3070: 'aging', 3071: 'cheap', 3072: 'raining', 3073: 'waited', 3074: 'petit', 3075: 'reffe', 3076: 'gypsy', 3077: 'converge', 3078: '3rd', 3079: 'josiane', 3080: 'searched', 3081: 'gimme', 3082: 'veil', 3083: 'registry', 3084: 'philharmonic', 3085: 'wide', 3086: 'contempt', 3087: 'getup', 3088: 'gasoline', 3089: 'rationed', 3090: 'leningrad', 3091: 'ordeal', 3092: 'harm', 3093: 'ripped', 3094: 'jumping', 3095: '16', 3096: 'forgiveness', 3097: 'based', 3098: 'reminding', 3099: '36', 3100: 'marrying', 3101: 'sweetie', 3102: 'approved', 3103: 'rocknrolls', 3104: 'fab', 3105: 'chachas', 3106: '943', 3107: 'couid', 3108: 'louisll', 3109: 'chum', 3110: 'heavens', 3111: 'situation', 3112: 'surejennings', 3113: 'lieutenantjennings', 3114: 'administrative', 3115: 'capacity', 3116: 'decoded', 3117: 'necks', 3118: 'amebic', 3119: 'companyhalt', 3120: 'estimate', 3121: 'thy', 3122: 'friendly', 3123: 'alphabetical', 3124: '235', 3125: 'puss', 3126: '245', 3127: 'saunders', 3128: 'bracelet', 3129: 'duel', 3130: 'martians', 3131: 'jerome', 3132: 'edge', 3133: 'miidewed', 3134: 'maine', 3135: '1120', 3136: 'leathem', 3137: 'nicks', 3138: 'bugle', 3139: 'blinking', 3140: 'dmz', 3141: 'interrupting', 3142: 'losing', 3143: 'korean', 3144: 'soup', 3145: 'koreans', 3146: 'movies', 3147: 'elders', 3148: 'cucumber', 3149: 'eggplant', 3150: 'finger', 3151: 'favorite', 3152: 'piano', 3153: 'intends', 3154: 'feminine', 3155: 'letters', 3156: 'expenses', 3157: 'travel', 3158: 'restaurant', 3159: 'iook', 3160: 'forceps', 3161: 'garage', 3162: 'lightning', 3163: 'procedure', 3164: 'according', 3165: 'corpse', 3166: 'loser', 3167: 'revive', 3168: 'hearing', 3169: 'tunnel', 3170: 'fish', 3171: 'scene', 3172: 'chewing', 3173: 'gum', 3174: 'injury', 3175: '90', 3176: 'guest', 3177: 'decent', 3178: 'reproach', 3179: 'istanbul', 3180: 'educated', 3181: 'whore', 3182: 'desirée', 3183: 'pleasant', 3184: 'explain', 3185: 'asta', 3186: 'nielsen', 3187: 'honorable', 3188: 'traitors', 3189: 'punish', 3190: 'homicide', 3191: 'simply', 3192: 'gate', 3193: 'brush', 3194: 'july', 3195: 'mater', 3196: 'brains', 3197: 'killer', 3198: 'wei', 3199: 'dips', 3200: 'newspaper', 3201: 'tai', 3202: 'dai', 3203: 'bodies', 3204: 'deals', 3205: 'el', 3206: 'creature', 3207: 'low', 3208: 'kinda', 3209: 'stinking', 3210: 'reasons', 3211: 'neither', 3212: 'trigger', 3213: 'raymond', 3214: 'jacques', 3215: 'sis', 3216: 'sorts', 3217: 'ugolovka', 3218: 'begins', 3219: 'ogonyok', 3220: 'newspapers', 3221: 'sought', 3222: 'git', 3223: 'rip', 3224: 'excitement', 3225: 'driven', 3226: 'uploaded', 3227: 'directed', 3228: 'mosfi', 3229: 'shvori', 3230: 'veronicas', 3231: 'cabinet', 3232: 'invoices', 3233: 'cauliflower', 3234: 'harmonica', 3235: '21', 3236: 'offered', 3237: 'vladimir', 3238: 'invited', 3239: 'sin', 3240: 'tin', 3241: 'dough', 3242: 'relish', 3243: 'prospect', 3244: 'checks', 3245: 'gear', 3246: 'reverse', 3247: 'slug', 3248: 'volts', 3249: 'puts', 3250: 'onto', 3251: 'york', 3252: 'kitchen', 3253: 'message', 3254: 'bravo', 3255: 'interfere', 3256: 'lesson', 3257: 'somewhat', 3258: 'pipe', 3259: 'positive', 3260: 'bill', 3261: 'sawbuck', 3262: 'bickman', 3263: 'let´s', 3264: 'can´t', 3265: 'trade', 3266: 'northern', 3267: 'spy', 3268: 'hup', 3269: 'bonnet', 3270: 'flew', 3271: 'babies', 3272: 'sixtyone', 3273: 'edward', 3274: 'candy', 3275: 'ate', 3276: 'righto', 3277: 'nearby', 3278: 'motive', 3279: 'twentyfour', 3280: 'broom', 3281: 'exit', 3282: 'winter', 3283: 'someday', 3284: 'machines', 3285: 'seasons', 3286: 'sexy', 3287: 'introduced', 3288: 'intoxicated', 3289: 'elder', 3290: 'gyeonwoobut', 3291: 'cheerful', 3292: 'heroine', 3293: 'aaaaaaaaah', 3294: 'ta', 3295: 'gyeonwoogotta', 3296: 'attendantplease', 3297: 'e', 3298: 'brief', 3299: 'rectification', 3300: 'canteen', 3301: 'overbudget', 3302: 'overtime', 3303: 'include', 3304: 'caring', 3305: '2nd', 3306: 'record', 3307: 'swollen', 3308: 'experienced', 3309: 'wrigleys', 3310: 'sprite', 3311: 'inches', 3312: 'totally', 3313: 'bets', 3314: 'rotten', 3315: 'officials', 3316: 'famous', 3317: 'geez', 3318: 'royal', 3319: 'minamisan', 3320: 'gato', 3321: 'seregays', 3322: 'childhood', 3323: 'camera', 3324: 'laura', 3325: 'spain', 3326: 'turks', 3327: 'amazed', 3328: 'feelings', 3329: 'recently', 3330: 'occupation', 3331: 'overexcited', 3332: 'paulina', 3333: 'spend', 3334: 'tonic', 3335: 'lemonade', 3336: 'contemplating', 3337: 'tuesday', 3338: 'begin', 3339: 'paulinas', 3340: 'humble', 3341: 'd', 3342: 'partisans', 3343: 'resort', 3344: 'roncarolo', 3345: 'fence', 3346: 'shed', 3347: 'polite', 3348: 'cashier', 3349: 'department', 3350: 'hedog', 3351: 'tail', 3352: 'beast', 3353: 'innkeeper', 3354: 'knocked', 3355: 'cave', 3356: 'teeth', 3357: '14', 3358: 'godfathers', 3359: 'luckily', 3360: '291', 3361: '3279', 3362: 'chase', 3363: 'rape', 3364: 'chan', 3365: 'dug', 3366: 'hurting', 3367: 'helphelp', 3368: 'animals', 3369: 'hook', 3370: 'insect', 3371: 'bug', 3372: 'hills', 3373: 'fare', 3374: 'beyond', 3375: 'cometome', 3376: 'ipray', 3377: 'thedreamihad', 3378: 'withyou', 3379: 'heartscango', 3380: 'blacks', 3381: 'struck', 3382: 'sacrificed', 3383: 'ram', 3384: 'almighty', 3385: 'signing', 3386: 'toot', 3387: 'chased', 3388: 'buxton', 3389: 'aberdares', 3390: 'departing', 3391: 'dar', 3392: 'es', 3393: 'salaam', 3394: 'johannesburg', 3395: 'jamestown', 3396: 'millions', 3397: 'friendship', 3398: 'breeding', 3399: 'african', 3400: 'kyukes', 3401: 'strongest', 3402: 'foreigners', 3403: 'stones', 3404: 'visiting', 3405: 'attend', 3406: 'meetings', 3407: 'grandfathers', 3408: 'fires', 3409: 'farmer', 3410: 'kikuyus', 3411: 'savages', 3412: 'appearance', 3413: 'footstep', 3414: 'bedroom', 3415: 'martyr', 3416: 'shows', 3417: 'ceasefire', 3418: 'coldblooded', 3419: 'matson', 3420: 'peacefully', 3421: 'jeanne', 3422: 'moreau', 3423: 'meurisse', 3424: 'duquesne', 3425: 'michel', 3426: 'odiyar', 3427: 'revol', 3428: 'jacqueline', 3429: 'noelle', 3430: 'wagon', 3431: 'lunatic', 3432: 'log', 3433: 'rise', 3434: 'scary', 3435: 'packaging', 3436: 'boxes', 3437: 'wearing', 3438: 'popey', 3439: 'approach', 3440: 'laughed', 3441: 'russia', 3442: 'v', 3443: 'pure', 3444: 'sleepless', 3445: 'nights', 3446: 'regret', 3447: 'answering', 3448: 'share', 3449: 'shushu', 3450: 'higher', 3451: 'divorced', 3452: 'spoke', 3453: 'faggot', 3454: 'bolivar', 3455: 'bébert', 3456: 'bout', 3457: 'fatplank', 3458: 'thatii', 3459: 'thejapanese', 3460: 'congratulated', 3461: 'oriental', 3462: 'languages', 3463: 'trains', 3464: 'backache', 3465: 'friendliest', 3466: '01234567', 3467: 'feed', 3468: 'quarters', 3469: 'pandora', 3470: '027', 3471: '507', 3472: 'nuts', 3473: 'alas', 3474: 'yorrick', 3475: 'aztec', 3476: 'disarm', 3477: 'europe', 3478: 'you´re', 3479: 'scort', 3480: 'he´s', 3481: 'ogden', 3482: 'alight', 3483: 'brace', 3484: 'whipped', 3485: 'cq', 3486: 'philips', 3487: 'yella', 3488: 'millie', 3489: 'mars', 3490: 'grovers', 3491: 'molly', 3492: 'desk', 3493: 'cabs', 3494: 'stuffs', 3495: '30th', 3496: 'medford', 3497: 'gregory', 3498: 'shant', 3499: 'tougher', 3500: 'resemble', 3501: 'hopeless', 3502: 'student', 3503: 'stars', 3504: 'kimchi', 3505: 'soju', 3506: 'prostituting', 3507: 'embarrassed', 3508: 'shaped', 3509: 'sensibility', 3510: 'touched', 3511: 'warriors', 3512: 'umbrella', 3513: 'canon', 3514: 'winston', 3515: 'relived', 3516: 'teacher', 3517: 'crossroad', 3518: 'futures', 3519: 'public', 3520: 'reign', 3521: 'cured', 3522: 'tastes', 3523: 'prepared', 3524: 'split', 3525: 'breathing', 3526: 'checkup', 3527: 'supersonic', 3528: 'welding', 3529: 'meaningless', 3530: 'recall', 3531: 'success', 3532: 'nap', 3533: 'despicable', 3534: 'grab', 3535: 'fingers', 3536: 'beings', 3537: 'nest', 3538: 'stomach', 3539: 'fatal', 3540: 'bitches', 3541: 'throughout', 3542: 'edible', 3543: 'selling', 3544: 'consider', 3545: 'clocks', 3546: 'twenties', 3547: '17th', 3548: 'housewife', 3549: 'hairpins', 3550: 'powerful', 3551: 'haulage', 3552: 'fucked', 3553: 'range', 3554: 'reinforcements', 3555: 'alain', 3556: 'obala', 3557: 'von', 3558: 'agrippina', 3559: 'liguoro', 3560: 'lucifero', 3561: 'palace', 3562: 'nettles', 3563: 'jam', 3564: 'falling', 3565: 'chamomile', 3566: 'karenin', 3567: 'surprised', 3568: 'brothers', 3569: 'radovanje', 3570: 'author', 3571: 'advance', 3572: 'payment', 3573: 'corpses', 3574: '6437', 3575: 'thin', 3576: 'breasts', 3577: 'garlic', 3578: 'virgin', 3579: 'normally', 3580: 'ouija', 3581: 'investigate', 3582: 'dating', 3583: 'che', 3584: 'chasing', 3585: 'whatnow', 3586: 'garance', 3587: 'parkman', 3588: 'phoned', 3589: 'advanced', 3590: 'un', 3591: 'pray', 3592: 'mixing', 3593: 'trail', 3594: 'moon', 3595: 'imissyoumoreeach', 3596: 'ithappenseveryday', 3597: 'dries', 3598: 'argue', 3599: 'whom', 3600: 'machinery', 3601: 'prisoner', 3602: 'themselves', 3603: 'rogue', 3604: 'fatigue', 3605: 'parasites', 3606: 'hatch', 3607: 'enthusiasm', 3608: 'stairs', 3609: '34', 3610: 'rodney', 3611: 'arsha', 3612: 'professional', 3613: 'stagnant', 3614: 'md', 3615: 'exempted', 3616: 'exams', 3617: 'architecture', 3618: 'sendoff', 3619: 'robust', 3620: 'murderers', 3621: 'terminated', 3622: 'lick', 3623: 'invasion', 3624: 'cozy', 3625: 'gorgeous', 3626: 'trifle', 3627: 'pleased', 3628: 'shouting', 3629: 'therere', 3630: 'cackling', 3631: 'hens', 3632: 'rattling', 3633: 'undress', 3634: 'strictly', 3635: 'helped', 3636: 'surgeon', 3637: 'wanting', 3638: 'relative', 3639: 'leningrads', 3640: 'blockaded', 3641: 'properly', 3642: 'ehsan', 3643: 'apdel', 3644: 'koddous', 3645: '800', 3646: 'runs', 3647: 'loveable', 3648: 'consult', 3649: 'apu', 3650: 'motor', 3651: 'reservation', 3652: 'noon', 3653: 'antoine', 3654: 'thou', 3655: 'lemme', 3656: 'turbigo', 3657: '9200', 3658: 'curious', 3659: 'bigboy', 3660: 'finest', 3661: 'quicklyopen', 3662: 'le', 3663: 'hooked', 3664: 'underway', 3665: 'considerable', 3666: 'regular', 3667: 'concluded', 3668: 'organisation', 3669: 'blasted', 3670: 'realise', 3671: 'percent', 3672: 'brassahoy', 3673: 'goodshowjenkins', 3674: 'majors', 3675: 'welldone', 3676: 'gabby', 3677: 'susan', 3678: 'fbi', 3679: 'disappeared', 3680: 'county', 3681: 'fin', 3682: 'mummy', 3683: 'pinacate', 3684: '22', 3685: 'montes', 3686: 'lorenos', 3687: 'chamber', 3688: 'holding', 3689: 'dueling', 3690: 'you´ve', 3691: 'peaches', 3692: 'scouting', 3693: 'getaway', 3694: 'hoard', 3695: 'mi', 3696: 'swell', 3697: 'chandler', 3698: '154', 3699: 'ramon', 3700: 'raquello', 3701: 'tops', 3702: 'meantime', 3703: 'nazis', 3704: 'male', 3705: 'vague', 3706: 'granted', 3707: 'dean', 3708: 'um', 3709: 'invisible', 3710: 'ink', 3711: 'crankcase', 3712: 'sarge', 3713: 'excuses', 3714: 'lonely', 3715: 'mango', 3716: 'tango', 3717: 'request', 3718: 'discharged', 3719: 'ups', 3720: 'downs', 3721: 'graduation', 3722: 'prevents', 3723: 'kisses', 3724: 'clearly', 3725: 'destined', 3726: 'extraordinary', 3727: 'runaway', 3728: 'villain', 3729: 'daughters', 3730: 'gyeonwootry', 3731: 'yu', 3732: 'p', 3733: 'decision', 3734: 'afford', 3735: '¦¬¦¬¦¬¦¬¦¬¦¬¦¬', 3736: 'theyii', 3737: 'iong', 3738: 'wong', 3739: 'bleeding', 3740: 'center', 3741: 'unconscious', 3742: 'irresponsible', 3743: 'unexcused', 3744: 'absence', 3745: 'operation', 3746: 'rival', 3747: 'responded', 3748: 'changes', 3749: 'dentures', 3750: 'failure', 3751: 'removed', 3752: 'suction', 3753: 'pissed', 3754: 'scapegoat', 3755: 'shop', 3756: 'citizens', 3757: 'enjoy', 3758: 'benz', 3759: 'o2', 3760: 'firemen', 3761: '10060', 3762: 'convenient', 3763: 'profession', 3764: 'aphrodisiacs', 3765: 'mike', 3766: 'desire', 3767: 'weakness', 3768: 'mirror', 3769: 'retribution', 3770: 'christ', 3771: 'inhuman', 3772: 'juanito', 3773: 'calmer', 3774: 'marcelo', 3775: 'cases', 3776: 'mosques', 3777: 'anonymous', 3778: 'seville', 3779: 'choking', 3780: 'conditions', 3781: 'refused', 3782: 'yvonne', 3783: 'pause', 3784: 'fragrant', 3785: 'greetings', 3786: 'pm', 3787: 'empress', 3788: 'nero', 3789: 'milla', 3790: 'leash', 3791: 'defence', 3792: 'cake', 3793: 'apples', 3794: 'rabbit', 3795: 'breed', 3796: 'handed', 3797: 'widow', 3798: 'packing', 3799: 'yellow', 3800: 'affairs', 3801: 'screenplay', 3802: 'appear', 3803: 'dawn', 3804: 'bicycle', 3805: 'chances', 3806: 'bible', 3807: 'prostitute', 3808: 'citizen', 3809: 'receive', 3810: 'haunted', 3811: 'dies', 3812: 'rights', 3813: 'gor', 3814: 'ltc', 3815: 'outpost', 3816: 'patrols', 3817: 'ground', 3818: 'mantis', 3819: 'laying', 3820: 'wyoming', 3821: 'clarence', 3822: 'hussies', 3823: 'feeneyll', 3824: 'vein', 3825: 'pinch', 3826: 'follows', 3827: 'accordions', 3828: 'somebodys', 3829: 'railroading', 3830: 'supply', 3831: 'stake', 3832: 'pleases', 3833: 'swinging', 3834: 'sledge', 3835: 'foremen', 3836: 'hiring', 3837: 'backed', 3838: 'skull', 3839: 'flannelmouth', 3840: 'saddlesore', 3841: 'barn', 3842: 'moaning', 3843: 'pilgrims', 3844: 'loads', 3845: 'gambling', 3846: 'shoe', 3847: 'leads', 3848: 'loyalty', 3849: 'bro', 3850: 'bernard', 3851: 'shoo', 3852: 'curtain', 3853: 'awake', 3854: 'artist', 3855: 'madeleine', 3856: 'sidi', 3857: 'manners', 3858: 'misunderstandings', 3859: 'expensive', 3860: 'pampered', 3861: '900', 3862: 'due', 3863: 'calmly', 3864: 'greeks', 3865: 'foul', 3866: 'searches', 3867: 'cylinder', 3868: 'bogdanova', 3869: 'kokovkin', 3870: 'merkuryev', 3871: 'concerto', 3872: 'drawings', 3873: 'smoothly', 3874: 'trolley', 3875: 'kapitanova', 3876: 'backpack', 3877: 'brutes', 3878: 'paramedics', 3879: 'daydream', 3880: 'intelligent', 3881: 'germans', 3882: 'caucasus', 3883: 'dearest', 3884: 'attach', 3885: 'marya', 3886: 'agrafena', 3887: 'vassily', 3888: 'regards', 3889: 'sergei', 3890: 'brat', 3891: 'visits', 3892: 'occasionally', 3893: 'vehicle', 3894: 'forces', 3895: 'stalks', 3896: 'delude', 3897: 'borrowing', 3898: '1030', 3899: 'apologies', 3900: 'upset', 3901: 'sees', 3902: 'sakes', 3903: '315', 3904: 'apdou', 3905: 'joy', 3906: 'dishonest', 3907: '215', 3908: '28107', 3909: 'blessed', 3910: 'amen', 3911: 'goodness', 3912: 'nah', 3913: 'stomped', 3914: 'gore', 3915: 'brown', 3916: 'filly', 3917: 'lonesome', 3918: 'customs', 3919: 'single', 3920: 'deliberately', 3921: 'value', 3922: 'sensitive', 3923: 'jumpin', 3924: 'bills', 3925: 'swelling', 3926: 'grand', 3927: 'rocks', 3928: 'mo', 3929: 'salut', 3930: 'goodoh', 3931: 'curtains', 3932: 'spoil', 3933: 'yall', 3934: 'extension', 3935: '907', 3936: 'lagny', 3937: 'thorn', 3938: 'stone', 3939: 'blond', 3940: 'chow', 3941: 'squealed', 3942: 'poiytechnic', 3943: 'deepwater', 3944: 'isolation', 3945: 'workmen', 3946: 'physically', 3947: 'specifically', 3948: 'pointed', 3949: 'evaluation', 3950: 'thejaps', 3951: 'conclusions', 3952: 'eyesright', 3953: 'kiddo', 3954: 'warren', 3955: 'myra', 3956: 'warrens', 3957: 'plumber', 3958: 'drain', 3959: 'broadminded', 3960: 'suburbia', 3961: 'talkative', 3962: 'hop', 3963: 'branching', 3964: 'organizer', 3965: '306', 3966: 'stirling', 3967: 'drug', 3968: 'hereabouts', 3969: 'et', 3970: 'tu', 3971: 'brutus', 3972: 'blueprint', 3973: 'draughting', 3974: 'scottish', 3975: 'harvey', 3976: 'corvusalbus', 3977: 'miserable', 3978: 'didn´t', 3979: 'women´s', 3980: 'ramírez', 3981: 'laburdel', 3982: 'haven´t', 3983: 'guessed', 3984: 'isabel', 3985: 'eager', 3986: 'sanctimonious', 3987: 'one´s', 3988: 'tribe', 3989: 'cheyenne', 3990: 'warpath', 3991: 'confined', 3992: 'renegade', 3993: 'singer', 3994: 'momentum', 3995: 'dam', 3996: 'bursting', 3997: 'wagons', 3998: 'varmint', 3999: 'toward', 4000: 'picnic', 4001: 'lucy', 4002: 'renegades', 4003: 'acted', 4004: 'liable', 4005: 'musket', 4006: 'couldve', 4007: 'tonightll', 4008: 'apologise', 4009: 'chilly', 4010: 'deux', 4011: 'trois', 4012: 'cares', 4013: 'broadcast', 4014: 'sybil', 4015: 'drake', 4016: 'matron', 4017: 'whod', 4018: 'arsenic', 4019: 'mysterious', 4020: 'premises', 4021: 'progress', 4022: 'reporter', 4023: 'aye', 4024: 'newspaperman', 4025: 'taehyun', 4026: 'inherited', 4027: 'grades', 4028: 'abortion', 4029: 'sweeping', 4030: 'birthdays', 4031: 'flick', 4032: 'yorkshire', 4033: 'terrier', 4034: 'mutt', 4035: 'ufos', 4036: 'shin', 4037: 'cine', 4038: 'scribble', 4039: 'sketch', 4040: 'sunshine', 4041: 'sneakers', 4042: 'japan', 4043: 'setting', 4044: 'slowly', 4045: 'often', 4046: 'iearn', 4047: 'system', 4048: 'test', 4049: 'attacked', 4050: 'unmatched', 4051: 'fluid', 4052: 'spying', 4053: 'listening', 4054: 'drinks', 4055: 'reduce', 4056: 'answers', 4057: 'repair', 4058: 'rubbish', 4059: 'asks', 4060: 'turning', 4061: 'comedy', 4062: 'virginie', 4063: 'brandy', 4064: 'accepted', 4065: 'provisional', 4066: 'terrorism', 4067: 'knives', 4068: 'language', 4069: 'members', 4070: 'drank', 4071: 'kissing', 4072: 'informant', 4073: 'fountain', 4074: 'lend', 4075: 'plot', 4076: 'spices', 4077: 'rightly', 4078: 'slip', 4079: 'showing', 4080: 'information', 4081: 'effort', 4082: 'understood', 4083: 'perfectly', 4084: 'animal', 4085: 'price', 4086: 'hatred', 4087: 'heads', 4088: 'flower', 4089: 'summer', 4090: 'sight', 4091: 'sins', 4092: 'describe', 4093: 'colour', 4094: 'brand', 4095: 'common', 4096: 'enter', 4097: 'contents', 4098: 'places', 4099: 'restored', 4100: 'mortal', 4101: 'fathers', 4102: 'sava', 4103: 'todorovic', 4104: 'karadjordjes', 4105: 'hotels', 4106: 'model', 4107: 'using', 4108: 'slut', 4109: 'clues', 4110: 'equal', 4111: 'plants', 4112: 'natural', 4113: 'canada', 4114: 'gathered', 4115: 'richmond', 4116: 'omelette', 4117: 'railroads', 4118: 'favourite', 4119: 'followtheriverbacktome', 4120: 'liar', 4121: 'counsel', 4122: 'homes', 4123: 'fail', 4124: 'grow', 4125: 'van', 4126: 'marcello', 4127: 'acrobat', 4128: 'heck', 4129: 'accidents', 4130: 'greeter', 4131: 'feared', 4132: 'dancer', 4133: 'storage', 4134: 'phantom', 4135: 'salvation', 4136: 'candle', 4137: 'science', 4138: 'ma', 4139: 'iv', 4140: 'institute', 4141: '26', 4142: 'page', 4143: 'downstairs', 4144: 'apartment', 4145: 'cheater', 4146: 'worries', 4147: 'covering', 4148: 'listened', 4149: 'registration', 4150: 'judge', 4151: 'stolen', 4152: 'scarf', 4153: 'hervieux', 4154: 'speed', 4155: 'bois', 4156: 'boulogne', 4157: 'annoying', 4158: 'bribing', 4159: 'armjennings', 4160: 'attempt', 4161: 'unaware', 4162: 'defeated', 4163: 'maltreated', 4164: 'rundown', 4165: 'nearer', 4166: 'gelulasdi', 4167: 'gillis', 4168: 'buzz', 4169: 'prescription', 4170: 'creek', 4171: 'registered', 4172: 'deputy', 4173: 'pablo', 4174: 'esquivel', 4175: 'doesn´t', 4176: 'marshmallows', 4177: 'institutions', 4178: 'patches', 4179: 'breeches', 4180: 'yellowliv', 4181: 'chose', 4182: 'pleasing', 4183: 'arrangement', 4184: 'entitled', 4185: 'strength', 4186: 'moses', 4187: 'treating', 4188: 'detail', 4189: 'boulevard', 4190: 'muscle', 4191: 'orchestra', 4192: 'vinnie', 4193: 'sunset', 4194: 'redfield', 4195: 'gully', 4196: 'louise', 4197: 'authorities', 4198: 'davenports', 4199: 'coroner', 4200: 'gertie', 4201: 'kau', 4202: 'kei', 4203: 'burnt', 4204: 'reality', 4205: 'ami', 4206: 'signit', 4207: 'char', 4208: 'urine', 4209: 'focused', 4210: 'lam', 4211: 'wai', 4212: 'keung', 4213: 'imbecile', 4214: 'greet', 4215: 'headaches', 4216: 'toni', 4217: 'orozco', 4218: 'madrid', 4219: 'risks', 4220: 'beretta', 4221: 'underground', 4222: 'trampled', 4223: 'snail', 4224: 'tricksters', 4225: 'happiness', 4226: 'wilda', 4227: 'sets', 4228: 'citation', 4229: 'orasac', 4230: '1813', 4231: 'peoplefreedom', 4232: 'marignan', 4233: 'monstruo', 4234: 'alado', 4235: 'gracias', 4236: 'dropping', 4237: 'mended', 4238: 'hoof', 4239: 'ragged', 4240: 'nowhere', 4241: 'jean', 4242: 'arches', 4243: 'bailiffs', 4244: 'eavesdrop', 4245: 'recklessly', 4246: 'exhaust', 4247: 'proudly', 4248: 'salah', 4249: 'seif', 4250: 'peek', 4251: 'worn', 4252: 'yuck', 4253: 'unbelievable', 4254: 'infant', 4255: 'floozy', 4256: 'dusty', 4257: 'siddown', 4258: 'bonjour', 4259: 'merci', 4260: 'peas', 4261: 'phosphates', 4262: 'dunno', 4263: 'whatd', 4264: 'larry', 4265: 'bangkok', 4266: 'rangoon', 4267: 'shrimp', 4268: 'nicknames', 4269: 'hangover', 4270: 'precisely', 4271: 'angel´s', 4272: 'praying', 4273: 'doomed', 4274: 'nuns', 4275: 'shiloh', 4276: 'r', 4277: 'beaver', 4278: 'jane', 4279: 'partner', 4280: 'crossexamination', 4281: 'celebration', 4282: 'jeehyun', 4283: 'clerical', 4284: 'rubs', 4285: 'stumble', 4286: 'pretending', 4287: 'showered', 4288: 'vomit', 4289: 'sweat', 4290: 'fiances', 4291: 'villains', 4292: 'kidnap', 4293: 'gyeonwooto', 4294: 'reportedly', 4295: 'gyeonwootheres', 4296: 'autumn', 4297: 'pours', 4298: 'sunny', 4299: 'fights', 4300: 'invades', 4301: 'sejongs', 4302: 'tyrant', 4303: 'yeonsan', 4304: 'uuuuuuuugh', 4305: 'compared', 4306: 'fatherchicks', 4307: 'satisfy', 4308: 'recite', 4309: 'manso', 4310: 'apolize', 4311: 'iowiife', 4312: '170100', 4313: 'sao270', 4314: 'internal', 4315: 'tv', 4316: 'plate', 4317: 'management', 4318: 'highest', 4319: 'patients', 4320: 'respect', 4321: 'destroyed', 4322: 'whoever', 4323: 'uneducated', 4324: 'halos', 4325: 'horns', 4326: 'helpful', 4327: 'pale', 4328: 'impress', 4329: 'goodlooking', 4330: 'organs', 4331: 'offense', 4332: 'market', 4333: 'wheel', 4334: 'ridge', 4335: 'yans', 4336: 'sticks', 4337: 'fireman', 4338: 'difficulty', 4339: 'steps', 4340: 'countdown', 4341: '00', 4342: 'kilo', 4343: 'ohm', 4344: 'resistor', 4345: 'level', 4346: 'natures', 4347: 'concoct', 4348: 'eight', 4349: 'bombs', 4350: 'timers', 4351: 'intend', 4352: 'kaneko', 4353: 'silently', 4354: 'informed', 4355: 'devoted', 4356: 'replace', 4357: 'kingdom', 4358: 'dizziness', 4359: 'cisterns', 4360: 'chair', 4361: 'childs', 4362: 'renounce', 4363: 'settlement', 4364: 'offends', 4365: 'indefinitely', 4366: 'mornings', 4367: 'aspirin', 4368: 'lullaby', 4369: 'misunderstood', 4370: 'fucks', 4371: 'oblige', 4372: 'deny', 4373: 'french', 4374: 'snort', 4375: 'carpets', 4376: 'powder', 4377: 'erotic', 4378: 'dreadful', 4379: 'series', 4380: 'original', 4381: 'ii', 4382: 'knickers', 4383: 'sing', 4384: 'generous', 4385: 'generation', 4386: 'mothersinlaw', 4387: 'proposal', 4388: 'godmother', 4389: 'drugstore', 4390: 'signs', 4391: 'shown', 4392: 'knees', 4393: 'forgiven', 4394: 'muddle', 4395: 'stealing', 4396: 'cactus', 4397: 'alibi', 4398: 'pyjamas', 4399: 'heater', 4400: 'fedja', 4401: 'testimony', 4402: 'protassov', 4403: 'nikola', 4404: '1817', 4405: 'cica', 4406: 'ilija', 4407: 'stanojevic', 4408: 'monument', 4409: 'malaysia', 4410: 'weiwei', 4411: 'cantonese', 4412: 'headless', 4413: 'changces', 4414: 'characters', 4415: 'earlier', 4416: 'dependable', 4417: 'cheung', 4418: 'anyways', 4419: 'acts', 4420: 'strangely', 4421: 'muscular', 4422: 'investigations', 4423: 'shadow', 4424: 'traffic', 4425: 'scaring', 4426: 'lure', 4427: 'unprepared', 4428: 'redeem', 4429: 'dropped', 4430: 'action', 4431: 'button', 4432: 'footprints', 4433: 'curator', 4434: 'prehistoric', 4435: 'washington', 4436: 'object', 4437: 'program', 4438: 'presented', 4439: 'objects', 4440: 'birds', 4441: 'romance', 4442: 'bens', 4443: 'religion', 4444: 'teaches', 4445: 'scorch', 4446: 'liars', 4447: 'spit', 4448: 'steel', 4449: 'fears', 4450: 'trusts', 4451: 'africans', 4452: 'jeffs', 4453: 'hehheh', 4454: 'slapped', 4455: 'playmates', 4456: 'servant', 4457: 'crown', 4458: '1545', 4459: 'infirmary', 4460: 'kimanis', 4461: 'twoonetwo', 4462: 'troubles', 4463: 'colored', 4464: 'revolt', 4465: 'leadership', 4466: 'missionary', 4467: 'schools', 4468: 'independence', 4469: 'englishman', 4470: 'bind', 4471: 'thereby', 4472: 'oldest', 4473: 'kikuyu', 4474: 'mugere', 4475: 'endless', 4476: 'circles', 4477: 'european', 4478: 'bitter', 4479: 'sodom', 4480: 'swallow', 4481: 'wanjiru', 4482: 'gather', 4483: 'appointed', 4484: 'soil', 4485: 'sock', 4486: 'rotted', 4487: 'dozen', 4488: 'burden', 4489: 'oathgivers', 4490: 'ngai', 4491: 'spell', 4492: 'mumbo', 4493: 'jumbo', 4494: 'flesh', 4495: 'creation', 4496: 'gikuyu', 4497: 'mumbi', 4498: 'violate', 4499: 'mutilate', 4500: 'lorry', 4501: 'wilson', 4502: 'confessed', 4503: 'likewise', 4504: 'thinner', 4505: 'les', 4506: 'billon', 4507: 'dyufilho', 4508: 'buffet', 4509: 'complications', 4510: 'minor', 4511: 'disassembly', 4512: 'agents', 4513: 'local', 4514: 'fortune', 4515: 'assure', 4516: '290', 4517: 'intricacies', 4518: 'gondola', 4519: 'cognac', 4520: 'string', 4521: 'beans', 4522: 'crabs', 4523: 'blown', 4524: 'exploded', 4525: 'bothering', 4526: 'behalf', 4527: 'flame', 4528: 'vehicles', 4529: 'ladys', 4530: 'eating', 4531: 'brunette', 4532: 'blonde', 4533: 'nor', 4534: 'beauty', 4535: 'star', 4536: 'uncles', 4537: 'ditch', 4538: 'heat', 4539: 'safiyas', 4540: 'invite', 4541: 'hunters', 4542: 'rig', 4543: 'scrounging', 4544: 'stress', 4545: 'yank', 4546: 'grenouille', 4547: 'serving', 4548: 'depot', 4549: 'hq', 4550: 'thatd', 4551: 'goldensheepskin', 4552: 'helenes', 4553: 'ieft', 4554: 'whoii', 4555: 'gelulaisdi', 4556: '234567', 4557: 'luncheon', 4558: 'nick', 4559: 'morale', 4560: 'trek', 4561: 'element', 4562: 'worthwhile', 4563: 'tokyo', 4564: 'wounds', 4565: 'trimming', 4566: 'gelulalsdi', 4567: 'synched', 4568: 'adrian', 4569: 'grueningen', 4570: 'cosa', 4571: 'nostra', 4572: 'pizza', 4573: 'inc', 4574: '2006', 4575: 'conspiracy', 4576: 'margot', 4577: 'dire', 4578: 'intrepid', 4579: 'dike', 4580: 'milkman', 4581: 'persons', 4582: 'income', 4583: 'valve', 4584: 'amateurish', 4585: 'celebrity', 4586: 'trucks', 4587: 'blackmailed', 4588: 'providing', 4589: 'sandwich', 4590: 'plain', 4591: 'amount', 4592: '101', 4593: 'trial', 4594: '86', 4595: 'rough', 4596: 'assessor', 4597: '62', 4598: 'intruder', 4599: 'krupp', 4600: 'explosion', 4601: 'hypnotize', 4602: 'experiments', 4603: 'dared', 4604: 'congressman', 4605: 'flies', 4606: 'martins', 4607: 'bust', 4608: 'complain', 4609: 'sneaking', 4610: 'drums', 4611: 'loaded', 4612: 'paiute', 4613: 'comanche', 4614: 'scareder', 4615: 'hum', 4616: 'humming', 4617: 'stops', 4618: 'maryll', 4619: 'mercury', 4620: 'theatre', 4621: 'babysitter', 4622: '3f92', 4623: 'camden', 4624: 'planet', 4625: 'bright', 4626: 'weighted', 4627: 'trenton', 4628: 'rudy', 4629: 'vallee', 4630: 'drilling', 4631: 'roxy', 4632: 'usual', 4633: 'exhibit', 4634: 'vista', 4635: 'operative', 4636: 'beneath', 4637: 'noses', 4638: 'quadrupled', 4639: 'jimmy', 4640: 'whistle', 4641: '935', 4642: '932', 4643: 'blimey', 4644: 'honeys', 4645: 'motherfucker', 4646: 'mocking', 4647: 'livelier', 4648: 'hwang', 4649: 'sunwon', 4650: 'teenagers', 4651: 'ignore', 4652: 'planted', 4653: 'snake', 4654: 'slippers', 4655: 'perform', 4656: 'aspiration', 4657: 'battery', 4658: '0cc', 4659: 'accumulator', 4660: '10cc', 4661: '200cc', 4662: 'liters', 4663: 'andy', 4664: 'compassion', 4665: 'ontime', 4666: 'discussing', 4667: 'hundreds', 4668: 'balance', 4669: 'earnings', 4670: 'supplies', 4671: 'chores', 4672: 'fulltime', 4673: 'paying', 4674: 'prayer', 4675: 'signed', 4676: 'snatch', 4677: 'misappropriating', 4678: 'persistent', 4679: 'aid', 4680: 'dispatched', 4681: 'flood', 4682: 'shelters', 4683: 'observatory', 4684: 'hosting', 4685: '170', 4686: 'incoherently', 4687: 'kick', 4688: 'shuttle', 4689: 'bus', 4690: 'generator', 4691: 'wound', 4692: 'dodge', 4693: '250', 4694: 'wanderer', 4695: 'athletes', 4696: 'quest', 4697: 'ultimate', 4698: 'aphrodisiac', 4699: 'race', 4700: 'mid', 4701: 'absinthe', 4702: 'coupeau', 4703: 'weapons', 4704: 'dignity', 4705: 'dull', 4706: 'fellows', 4707: 'activities', 4708: 'geun', 4709: 'consoled', 4710: 'lovers', 4711: 'consul', 4712: 'emperor', 4713: 'bums', 4714: 'expression', 4715: 'meanwhile', 4716: 'stronger', 4717: 'complete', 4718: 'appetite', 4719: 'asia', 4720: 'pirate', 4721: 'affair', 4722: 'appointment', 4723: 'residence', 4724: 'visa', 4725: 'spanish', 4726: 'envelope', 4727: 'marquis', 4728: 'bougival', 4729: 'collaboration', 4730: '1911', 4731: 'rejected', 4732: 'dante', 4733: 'herself', 4734: 'technical', 4735: 'conte', 4736: 'ugolino', 4737: 'salvatore', 4738: 'virgilio', 4739: 'pirovano', 4740: 'heliogabalus', 4741: 'deserved', 4742: 'praetorians', 4743: 'stormed', 4744: 'terror', 4745: '7am', 4746: 'eigth', 4747: 'honked', 4748: 'entry', 4749: 'magical', 4750: 'singing', 4751: 'decoration', 4752: 'ugly', 4753: 'seriously', 4754: 'jedlicka', 4755: 'badly', 4756: 'deepest', 4757: 'numbers', 4758: 'tracks', 4759: 'messy', 4760: 'nerd', 4761: 'flyflaps', 4762: 'starting', 4763: 'thrush', 4764: 'czech', 4765: 'escaping', 4766: 'diesel', 4767: 'muzzle', 4768: 'tag', 4769: 'confirmation', 4770: 'suspect', 4771: 'goddess', 4772: 'remains', 4773: 'session', 4774: 'fedor', 4775: 'vassiliévitch', 4776: 'client', 4777: 'paragraph', 4778: 'serbs', 4779: 'charges', 4780: 'cities', 4781: 'ruin', 4782: 'wisdom', 4783: 'grandson', 4784: 'petar', 4785: 'reveals', 4786: '1913', 4787: 'uses', 4788: 'scream', 4789: 'decades', 4790: 'round', 4791: 'subject', 4792: 'foreign', 4793: 'awards', 4794: 'judgment', 4795: 'planning', 4796: 'fragile', 4797: 'teaching', 4798: 'scarier', 4799: 'painting', 4800: 'detectives', 4801: 'killers', 4802: 'vase', 4803: 'balmain', 4804: 'harpsichord', 4805: 'furnished', 4806: 'pleyel', 4807: 'costumes', 4808: 'diffusion', 4809: 'musicale', 4810: 'française', 4811: 'pizar', 4812: 'base', 4813: 'insects', 4814: 'blaine', 4815: 'aircraft', 4816: 'sited', 4817: 'virginia', 4818: 'crawl', 4819: 'television', 4820: 'flyer', 4821: 'particular', 4822: 'makemydreamscometrue', 4823: 'thelovethatonceweknew', 4824: 'bringbackthegreatlove', 4825: 'whenyouvean', 4826: 'emptyheart', 4827: 'shod', 4828: 'pellegrin', 4829: 'fortuneteller', 4830: 'farce', 4831: 'generally', 4832: 'former', 4833: 'cons', 4834: 'pros', 4835: 'tenant', 4836: 'illadvised', 4837: 'burned', 4838: 'sleeps', 4839: 'sleeves', 4840: 'parade', 4841: 'legible', 4842: 'babes', 4843: 'successful', 4844: 'attila', 4845: 'straw', 4846: 'logs', 4847: 'charm', 4848: 'vain', 4849: 'provence', 4850: 'rely', 4851: 'barkers', 4852: 'interrogate', 4853: 'parted', 4854: 'holidays', 4855: 'score', 4856: 'accused', 4857: 'kalatozov', 4858: 'batalov', 4859: 'disgraceful', 4860: 'jackets', 4861: 'doctorate', 4862: 'physician', 4863: 'shade', 4864: 'enroll', 4865: 'architectural', 4866: 'hopping', 4867: 'barbers', 4868: 'familys', 4869: 'shorter', 4870: 'picking', 4871: 'gifts', 4872: 'exceed', 4873: 'quotas', 4874: 'zvenigorodskaya', 4875: 'shine', 4876: 'vostaniya', 4877: 'tramp', 4878: 'candid', 4879: 'kalach', 4880: 'sardine', 4881: 'batch', 4882: 'broads', 4883: 'fascists', 4884: 'trick', 4885: 'relation', 4886: 'ivanovichs', 4887: 'medhat', 4888: 'balcony', 4889: 'halima', 4890: 'junk', 4891: 'opponent', 4892: 'backgammon', 4893: 'hanky', 4894: 'enjoyed', 4895: 'conversations', 4896: 'remarried', 4897: 'sisters', 4898: 'sherif', 4899: 'schoolmates', 4900: 'dressmaker', 4901: 'impression', 4902: 'byebye', 4903: 'spoiled', 4904: 'nanny', 4905: 'thee', 4906: 'compare', 4907: 'enchanting', 4908: 'cadillac', 4909: 'jalopy', 4910: 'boat', 4911: 'hairdresser', 4912: 'shy', 4913: 'messups', 4914: 'role', 4915: 'maimed', 4916: 'cattle', 4917: 'benll', 4918: 'whisk', 4919: 'climate', 4920: 'goon', 4921: 'whawhat', 4922: 'uglylooking', 4923: 'cows', 4924: 'limit', 4925: 'branding', 4926: 'los', 4927: 'angeles', 4928: 'arrested', 4929: 'ahold', 4930: 'tehachapi', 4931: 'baggage', 4932: 'register', 4933: 'sandalwood', 4934: 'jar', 4935: 'bubble', 4936: 'peacock', 4937: 'dresswhere', 4938: 'firstyou', 4939: 'certificate', 4940: 'brownsville', 4941: 'tijuana', 4942: 'bogged', 4943: 'carcass', 4944: 'castleton', 4945: 'grub', 4946: 'cliff', 4947: 'huntin', 4948: 'dude', 4949: 'iffen', 4950: 'piggyback', 4951: 'lookin', 4952: 'twotiming', 4953: 'dan', 4954: 'sucker', 4955: 'broadcasts', 4956: 'borders', 4957: 'narrow', 4958: 'dotted', 4959: 'armful', 4960: 'gangrene', 4961: 'boil', 4962: 'firewood', 4963: 'whatwhat', 4964: 'fouled', 4965: 'felipes', 4966: 'airplane', 4967: 'charter', 4968: 'lagos', 4969: 'zapitan', 4970: 'stream', 4971: 'sidewalk', 4972: 'f', 4973: 'chrissake', 4974: 'cometrust', 4975: 'fond', 4976: 'linotte', 4977: 'biggest', 4978: 'bertain', 4979: 'freaky', 4980: 'accepting', 4981: 'chocolates', 4982: 'dourdan', 4983: 'helmet', 4984: 'torch', 4985: 'whatta', 4986: 'lolly', 4987: 'gypsys', 4988: 'scum', 4989: 'slugs', 4990: 'ln', 4991: 'onjoyce', 4992: 'forjoyce', 4993: 'manage', 4994: 'diversión', 4995: 'thompson', 4996: 'direct', 4997: 'ol', 4998: 'icongratulateyou', 4999: 'joker', 5000: 'bows', 5001: 'buzzer', 5002: 'skip', 5003: 'bottles', 5004: 'joint', 5005: 'positively', 5006: 'punk', 5007: 'indianapolis', 5008: 'federal', 5009: 'warrant', 5010: 'montreal', 5011: 'boats', 5012: 'lobo', 5013: 'hypnosis', 5014: 'almadas', 5015: 'pyramid', 5016: 'lamb', 5017: 'bringing', 5018: 'strategy', 5019: 'movie', 5020: 'statue', 5021: 'buenos', 5022: 'aires', 5023: 'intentions', 5024: 'prior', 5025: 'nana', 5026: 'bigger', 5027: 'frame', 5028: 'congress', 5029: 'purifies', 5030: 'gain', 5031: 'goats', 5032: 'treaty', 5033: 'ration', 5034: 'treaties', 5035: 'regiment', 5036: 'charlotte', 5037: 'charleston', 5038: 'wouldve', 5039: 'minds', 5040: 'correctly', 5041: 'blazes', 5042: 'accustomed', 5043: 'splits', 5044: 'bandages', 5045: 'reload', 5046: 'edges', 5047: 'pompous', 5048: 'slaughtered', 5049: 'sheep', 5050: 'danny', 5051: 'thems', 5052: 'counts', 5053: 'betsy', 5054: 'sights', 5055: 'squeeze', 5056: 'gently', 5057: 'dressing', 5058: 'tenshun', 5059: 'weighed', 5060: 'prosecution', 5061: 'unanimous', 5062: 'verdict', 5063: 'recognise', 5064: 'hissing', 5065: 'listeners', 5066: 'fantasy', 5067: 'iron', 5068: 'nothin', 5069: 'busied', 5070: 'various', 5071: 'concerns', 5072: 'scrutinized', 5073: 'narrowly', 5074: 'microscope', 5075: 'scrutinize', 5076: 'transient', 5077: 'swarm', 5078: 'multiply', 5079: '20th', 5080: 'intelligences', 5081: 'reads', 5082: 'dick', 5083: 'tracy', 5084: 'obsession', 5085: 'horace', 5086: 'immature', 5087: 'cinder', 5088: 'makin', 5089: 'meteor', 5090: 'landed', 5091: 'browning', 5092: 'wiped', 5093: 'crossing', 5094: 'sixth', 5095: 'chairman', 5096: 'finance', 5097: 'corporate', 5098: 'resolution', 5099: 'exploit', 5100: 'mineral', 5101: 'shares', 5102: '36000', 5103: '295', 5104: 'skyline', 5105: 'intersection', 5106: 'santa', 5107: 'monica', 5108: 'purse', 5109: 'dated', 5110: 'marked', 5111: 'corner', 5112: 'sheet', 5113: 'burger', 5114: 'counsellor', 5115: 'destroying', 5116: 'poisoning', 5117: 'event', 5118: 'delivered', 5119: 'poisoned', 5120: 'secretary', 5121: 'lab', 5122: 'preliminary', 5123: 'autopsy', 5124: 'courts', 5125: 'squinting', 5126: 'screen', 5127: 'uncomfortable', 5128: 'laid', 5129: 'faroff', 5130: 'enchantment', 5131: 'ottermole', 5132: 'blessing', 5133: 'struggle', 5134: 'remarkable', 5135: 'william', 5136: 'palmer', 5137: 'neil', 5138: 'penis', 5139: 'smaller', 5140: 'vomiting', 5141: 'confusion', 5142: 'drinker', 5143: 'trash', 5144: 'color', 5145: '2137', 5146: 'odds', 5147: 'safely', 5148: 'wears', 5149: 'bounty', 5150: 'hunter', 5151: 'storys', 5152: 'jungjo', 5153: 'becomes', 5154: 'unfair', 5155: 'gyeonwoocause', 5156: 'racket', 5157: 'pachelbels', 5158: 'cookie', 5159: 'gyeonwoodont', 5160: 'lightly', 5161: 'hoped', 5162: 'pacheibei', 5163: 'considering', 5164: 'temper', 5165: 'iife', 5166: 'youii', 5167: 'martial', 5168: 'pacheibeis', 5169: 'ociock', 5170: 'steady', 5171: '17080', 5172: 'sao295', 5173: 'liability', 5174: 'intelligibly', 5175: 'malpractice', 5176: 'forms', 5177: 'explaining', 5178: 'fart', 5179: 'familiar', 5180: 'ethics', 5181: 'gtr', 5182: 'spiky', 5183: 'hairdo', 5184: 'match', 5185: 'conscious', 5186: 'everyones', 5187: 'panty', 5188: 'golf', 5189: 'selfish', 5190: 'affected', 5191: 'parttime', 5192: 'construction', 5193: 'worker', 5194: 'jumped', 5195: 'leons', 5196: 'mobile', 5197: 'attached', 5198: 'hits', 5199: 'ignorant', 5200: 'caused', 5201: 'quadruplets', 5202: 'testing', 5203: 'ability', 5204: 'organ', 5205: 'donation', 5206: 'lungs', 5207: 'betray', 5208: 'commit', 5209: 'listed', 5210: '70', 5211: 'civil', 5212: 'sdu', 5213: 'barely', 5214: 'turf', 5215: 'bruises', 5216: 'issue', 5217: 'inch', 5218: 'rub', 5219: 'philtrum', 5220: 'intensive', 5221: 'serena', 5222: 'backup', 5223: 'rupture', 5224: 'electrical', 5225: 'watts', 5226: 'sushi', 5227: 'swallowed', 5228: 'accidentally', 5229: 'mouthtomouth', 5230: 'insult', 5231: 'cassanova', 5232: 'properties', 5233: 'acupuncture', 5234: 'spontaneity', 5235: 'tends', 5236: 'overrated', 5237: 'aka', 5238: 'france', 5239: 'pearl', 5240: 'actor', 5241: 'shortly', 5242: 'gervaise', 5243: 'gervaises', 5244: 'mourn', 5245: 'wore', 5246: 'wangs', 5247: 'buffoon', 5248: 'buffoons', 5249: 'opium', 5250: 'shanghai', 5251: 'society', 5252: 'renew', 5253: 'resolutions', 5254: 'terrorist', 5255: 'national', 5256: 'tortured', 5257: 'hometown', 5258: 'acquainted', 5259: 'speech', 5260: 'info', 5261: 'responsibility', 5262: 'jap', 5263: 'kus', 5264: 'struggling', 5265: 'provide', 5266: 'kims', 5267: 'minister', 5268: 'bare', 5269: 'ideals', 5270: 'ramirito', 5271: 'disposal', 5272: 'ages', 5273: 'options', 5274: 'washes', 5275: 'lifetime', 5276: 'label', 5277: 'fortnight', 5278: 'harem', 5279: 'marrows', 5280: 'cucumbers', 5281: 'fruits', 5282: 'slices', 5283: 'uneasy', 5284: 'alley', 5285: 'precautions', 5286: 'reared', 5287: 'justification', 5288: 'express', 5289: 'weekends', 5290: 'aspirins', 5291: 'pimp', 5292: 'eliminate', 5293: 'frenchmen', 5294: 'yamin', 5295: 'arranges', 5296: 'en', 5297: 'exports', 5298: 'soaked', 5299: 'rob', 5300: 'mallwitz', 5301: 'patriotism', 5302: 'troops', 5303: 'barracks', 5304: 'traitor', 5305: 'divine', 5306: 'alighieri', 5307: 'anicetus', 5308: 'francesco', 5309: 'bertolini', 5310: 'adolfo', 5311: 'padovan', 5312: 'filled', 5313: 'dogs', 5314: 'suicide', 5315: '730am', 5316: '810am', 5317: 'confuse', 5318: 'drag', 5319: 'counted', 5320: 'rare', 5321: 'latin', 5322: 'pump', 5323: 'repairing', 5324: 'dogpartner', 5325: 'frog', 5326: 'unstable', 5327: 'spreaded', 5328: 'hug', 5329: 'crowns', 5330: 'slipped', 5331: 'farewell', 5332: 'banknotes', 5333: 'chin', 5334: 'pointer', 5335: 'confess', 5336: 'pour', 5337: 'petrol', 5338: 'recognized', 5339: 'tomeceks', 5340: 'swearing', 5341: 'gall', 5342: 'bladder', 5343: 'incapable', 5344: 'locked', 5345: 'heating', 5346: 'trojans', 5347: 'greek', 5348: 'troy', 5349: 'sineintegral', 5350: 'kg', 5351: 'disgusting', 5352: 'pavlova', 5353: 'lisas', 5354: 'sachas', 5355: 'protassovs', 5356: 'outrageous', 5357: 'convince', 5358: 'odious', 5359: '286', 5360: 'adultery', 5361: 'slums', 5362: 'outskirts', 5363: 'tribunal', 5364: 'faithful', 5365: 'aged', 5366: 'voted', 5367: 'defend', 5368: 'divided', 5369: 'dukes', 5370: 'vujica', 5371: 'advices', 5372: 'strangled', 5373: '24', 5374: 'serbia', 5375: '1848', 5376: 'cycled', 5377: 'mastersleuth', 5378: 'hong', 5379: 'kong', 5380: 'photographer', 5381: 'mistaken', 5382: 'ipad', 5383: 'tech', 5384: 'goods', 5385: 'ward', 5386: 'easily', 5387: 'mischievous', 5388: 'investigation', 5389: 'ls', 5390: 'seventeen', 5391: 'bluffer', 5392: 'causing', 5393: 'respectful', 5394: 'unlucky', 5395: 'frightening', 5396: 'dares', 5397: 'chatting', 5398: 'shitthis', 5399: 'enen', 5400: 'affect', 5401: 'targeted', 5402: 'solved', 5403: 'lured', 5404: 'although', 5405: 'lovelier', 5406: 'landlord', 5407: 'chat', 5408: 'monk', 5409: 'disabled', 5410: 'wu', 5411: 'wrap', 5412: 'buddha', 5413: 'helpme', 5414: 'ahhh', 5415: 'ouch', 5416: 'published', 5417: 'departamento', 5418: 'paleontología', 5419: 'reconstruct', 5420: 'geological', 5421: 'periods', 5422: 'fossil', 5423: 'progression', 5424: 'jelly', 5425: 'dinosaur', 5426: 'primitive', 5427: 'mag', 5428: 'arctic', 5429: 'requested', 5430: 'permission', 5431: 'magazine', 5432: 'entirely', 5433: 'vibration', 5434: 'pine', 5435: 'oversized', 5436: 'observer', 5437: 'corp', 5438: 'radar', 5439: 'paleontology', 5440: 'nedrick', 5441: 'minneapolis', 5442: 'baltimore', 5443: 'clark', 5444: 'breaks', 5445: 'walls', 5446: 'automatic', 5447: 'counter', 5448: 'autoreflex', 5449: 'mechanism', 5450: 'tis', 5451: 'weary', 5452: 'troubleshooting', 5453: 'rockies', 5454: 'buzzard', 5455: 'builds', 5456: 'neighbours', 5457: 'doesitmatterhow', 5458: 'fullthemoon', 5459: 'omelets', 5460: 'youcantgo', 5461: 'anydistance', 5462: 'somethingsgottatakeyou', 5463: 'withoutarailroad', 5464: 'hunted', 5465: 'shantytown', 5466: 'cesspool', 5467: 'intrigue', 5468: 'flattened', 5469: 'razed', 5470: 'hoods', 5471: 'conceal', 5472: 'identities', 5473: 'films', 5474: 'marceau', 5475: 'smartly', 5476: 'vljapalsja', 5477: 'jackpot', 5478: 'cranked', 5479: 'vet', 5480: 'grubs', 5481: 'generosity', 5482: 'belated', 5483: 'vocation', 5484: 'attendants', 5485: 'abroad', 5486: 'guided', 5487: 'shake', 5488: 'subscription', 5489: 'removing', 5490: 'meter', 5491: 'staged', 5492: 'revenue', 5493: 'agrees', 5494: 'gatekeeper', 5495: 'carpet', 5496: 'tickets', 5497: '5000', 5498: 'salary', 5499: 'suits', 5500: 'suitcases', 5501: 'premiums', 5502: 'gare', 5503: 'du', 5504: 'nord', 5505: 'piccardi', 5506: '3968', 5507: 'hawks', 5508: 'borrowed', 5509: 'mersevalya', 5510: 'marsevalya', 5511: 'risking', 5512: 'settled', 5513: 'clicker', 5514: 'angela', 5515: 'lombardi', 5516: 'teller', 5517: 'explained', 5518: 'maid', 5519: 'owl', 5520: 'mothers', 5521: 'deposited', 5522: 'chef', 5523: 'traded', 5524: 'row', 5525: 'illogical', 5526: 'silk', 5527: 'shirts', 5528: 'repeated', 5529: 'extinguished', 5530: 'carriages', 5531: 'fnb47', 5532: 'betterjoin', 5533: 'rozov', 5534: 'boarding', 5535: 'messakaa', 5536: 'meals', 5537: 'worthy', 5538: 'dokki', 5539: 'horror', 5540: 'lotfys', 5541: 'khalil', 5542: 'commerce', 5543: 'admiring', 5544: 'danced', 5545: 'juice', 5546: 'errand', 5547: 'barrel', 5548: 'precedent', 5549: 'kenawy', 5550: 'gatherings', 5551: 'inviting', 5552: 'outings', 5553: 'reception', 5554: 'culprits', 5555: 'insults', 5556: 'creams', 5557: 'auberge', 5558: 'nadias', 5559: 'demand', 5560: 'decency', 5561: 'reconfirm', 5562: 'maazoun', 5563: 'pious', 5564: 'hanifa', 5565: 'dowry', 5566: 'scars', 5567: 'thankful', 5568: 'suckers', 5569: 'divvy', 5570: 'stickup', 5571: 'frédos', 5572: 'spill', 5573: 'fom', 5574: 'hermès', 5575: 'dining', 5576: 'beard', 5577: 'trimmed', 5578: 'payday', 5579: 'shuddup', 5580: 'whooping', 5581: 'restrictions', 5582: 'released', 5583: 'bowl', 5584: 'handbag', 5585: 'fortnighta', 5586: 'tip', 5587: 'artillery', 5588: 'armored', 5589: '2pm', 5590: 'suez', 5591: 'stew', 5592: 'dine', 5593: 'scram', 5594: 'bikes', 5595: 'arsehole', 5596: 'cascade', 5597: 'supposedly', 5598: 'unhappy', 5599: 'mifasol', 5600: 'hauled', 5601: 'terrified', 5602: 'wits', 5603: 'cmon', 5604: 'starve', 5605: 'scumbag', 5606: 'snack', 5607: 'ciao', 5608: 'beiiigerents', 5609: 'beiow', 5610: 'louisii', 5611: 'camps', 5612: '80º0', 5613: 'gon', 5614: 'column', 5615: 'rows', 5616: 'refer', 5617: 'yessir', 5618: 'quitea', 5619: 'isntit', 5620: 'swimmer', 5621: 'gelulasdisar', 5622: 'adjust', 5623: 'communication', 5624: 'spur', 5625: 'butcher', 5626: 'sounded', 5627: 'block', 5628: '20000', 5629: 'someplace', 5630: 'parked', 5631: '930', 5632: 'neighbors', 5633: 'cent', 5634: 'bedspread', 5635: 'negligee', 5636: 'tax', 5637: 'average', 5638: 'extort', 5639: 'install', 5640: 'lester', 5641: 'authorizes', 5642: 'confident', 5643: 'succeeded', 5644: 'slot', 5645: 'steve', 5646: 'guarari', 5647: 'monday', 5648: 'scrape', 5649: 'cement', 5650: 'pal', 5651: 'wages', 5652: 'ilk', 5653: 'unmarked', 5654: 'unwept', 5655: 'unhonoured', 5656: 'unsung', 5657: 'danville', 5658: 'extra', 5659: 'flag', 5660: 'gauge', 5661: 'swapping', 5662: 'bargained', 5663: 'lifts', 5664: 'skin', 5665: 'sack', 5666: 'quits', 5667: 'keeps', 5668: 'radiator', 5669: 'krup', 5670: 'accomplices', 5671: 'interrogating', 5672: 'busted', 5673: 'anita', 5674: 'fugitives', 5675: 'hypnotized', 5676: 'preparation', 5677: 'influences', 5678: 'experiment', 5679: 'blows', 5680: 'hypnotic', 5681: 'decode', 5682: 'upper', 5683: 'lefthand', 5684: 'everywhere', 5685: 'centuries', 5686: 'tomb', 5687: 'advocate', 5688: 'weren´t', 5689: 'deads', 5690: 'moreno´s', 5691: 'hadn´t', 5692: 'we´ll', 5693: 'opened', 5694: 'banana', 5695: 'manzana', 5696: 'graces', 5697: 'silence', 5698: 'swords', 5699: 'shining', 5700: 'moonlight', 5701: 'spilled', 5702: 'interests', 5703: 'opposition', 5704: 'locks', 5705: 'bathing', 5706: 'foam', 5707: 'nacre', 5708: 'nubian', 5709: 'manifest', 5710: 'hability', 5711: 'villainy', 5712: 'proving', 5713: 'believed', 5714: 'tradition', 5715: 'accusations', 5716: 'they´ll', 5717: 'exploters', 5718: 'duels', 5719: 'sinned', 5720: 'arapahos', 5721: 'paiutes', 5722: 'q6118', 5723: 't0', 5724: 'yippee', 5725: 'stellal', 5726: 'saints', 5727: 'hereafter', 5728: 'everlasting', 5729: 'ogdens', 5730: 'prayed', 5731: 'conover', 5732: 'superstitions', 5733: 'sonny', 5734: 'massacre', 5735: 'voice', 5736: 'spreading', 5737: 'blase', 5738: 'nowadays', 5739: 'oughtta', 5740: 'ham', 5741: 'ginger', 5742: 'rogers', 5743: 'astaire', 5744: 'rialto', 5745: 'mccarthy', 5746: 'cbs', 5747: 'america', 5748: 'wells', 5749: '1936', 5750: 'twodoor', 5751: 'olds', 5752: 'sedan', 5753: 'a387564', 5754: 'tony', 5755: 'cumparsita', 5756: 'meridian', 5757: 'plaza', 5758: 'stardust', 5759: 'loses', 5760: 'popular', 5761: 'opener', 5762: 'dealer', 5763: 'bulletin', 5764: 'mentioned', 5765: 'becoming', 5766: 'distinct', 5767: 'wins', 5768: 'microphone', 5769: 'riffleless', 5770: 'quiver', 5771: 'pulsate', 5772: 'johnny', 5773: 'earliest', 5774: 'opportunity', 5775: 'evidently', 5776: 'transmission', 5777: 'control', 5778: 'unable', 5779: 'nazi', 5780: 'efforts', 5781: 'metal', 5782: 'incredible', 5783: 'observations', 5784: 'inescapable', 5785: 'assumption', 5786: 'farmlands', 5787: 'vanguard', 5788: 'invading', 5789: 'bayonne', 5790: 'langham', 5791: 'ra', 5792: 'official', 5793: 'reached', 5794: 'merely', 5795: 'hilltop', 5796: 'hind', 5797: 'sam', 5798: 'steak', 5799: '971', 5800: 'passenger', 5801: 'disturb', 5802: 'impatient', 5803: 's', 5804: 'ybil', 5805: '984', 5806: 'beverly', 5807: 'motion', 5808: 'victims', 5809: 'stated', 5810: 'shots', 5811: 'statement', 5812: 'sandbags', 5813: 'clamps', 5814: '2by4s', 5815: 'stool', 5816: 'mitchell', 5817: 'tent', 5818: 'cabin', 5819: 'fernando', 5820: 'charles', 5821: 'eds', 5822: 'attorney', 5823: 'rita', 5824: 'norge', 5825: 'intention', 5826: 'opening', 5827: 'cap', 5828: 'narcotics', 5829: 'acalling', 5830: 'agency', 5831: 'duplicate', 5832: 'approximately', 5833: 'pumped', 5834: 'puzzles', 5835: 'da', 5836: 'stood', 5837: 'source', 5838: 'cupboards', 5839: 'coppers', 5840: 'constable', 5841: 'jeon', 5842: 'jihyun', 5843: 'pachelbel', 5844: 'fatheryoull', 5845: 'melodramas', 5846: 'fatherwell', 5847: 'fatheryouii', 5848: 'meiodramas', 5849: 'iooked', 5850: 'fatherweii', 5851: 'ioved', 5852: 'xray', 5853: 'facial', 5854: 'palsy', 5855: 'orthopedics', 5856: 'brownnosers', 5857: 'observe', 5858: 'itchy', 5859: 'pork', 5860: 'chop', 5861: 'cleaned', 5862: 'volvo', 5863: 'greasy', 5864: 'reform', 5865: 'plugging', 5866: 'tubes', 5867: 'cbp', 5868: 'ecg', 5869: 'sao2', 5870: '110', 5871: 'index', 5872: '1050', 5873: 'fracture', 5874: 'thigh', 5875: 'multiple', 5876: 'lacerations', 5877: 'plasma', 5878: 'hypodermoclysis', 5879: 'drugged', 5880: 'mitsubishi', 5881: 'succeed', 5882: 'triage', 5883: 'serves', 5884: 'soda', 5885: 'dispenses', 5886: 'pharmacists', 5887: 'prescriptions', 5888: 'filing', 5889: 'assistants', 5890: 'file', 5891: 'effectiveness', 5892: 'bbq', 5893: 'exceeded', 5894: 'resuscitation', 5895: 'agreement', 5896: 'reminder', 5897: 'beggar', 5898: 'checkingout', 5899: 'checkout', 5900: 'switched', 5901: 'lane', 5902: 'signaling', 5903: 'sterilize', 5904: 'submit', 5905: 'duodenums', 5906: 'mask', 5907: 'stocks', 5908: 'overworking', 5909: 'focus', 5910: '10050', 5911: 'complication', 5912: 'lottery', 5913: 'guaranteed', 5914: 'promotion', 5915: '711', 5916: 'entertain', 5917: 'donate', 5918: 'auto', 5919: 'reliable', 5920: 'includes', 5921: 'injured', 5922: 'lowspirited', 5923: 'hesitate', 5924: 'pacing', 5925: 'forth', 5926: 'hesitating', 5927: 'erect', 5928: 'wipers', 5929: 'flashing', 5930: 'chassis', 5931: 'mechanics', 5932: 'underneath', 5933: 'bb123', 5934: 'lai', 5935: 'including', 5936: 'tolls', 5937: 'fishy', 5938: 'constipation', 5939: 'steering', 5940: 'leung', 5941: 'kar', 5942: 'shing', 5943: 'bamboo', 5944: 'saving', 5945: 'fractures', 5946: 'cc', 5947: 'arthritis', 5948: 'dosage', 5949: 'diarrhea', 5950: 'resuscitate', 5951: 'electricity', 5952: 'clog', 5953: 'diathermy', 5954: 'stem', 5955: 'ninetysomething', 5956: 'research', 5957: 'cart', 5958: 'cleopatra', 5959: 'enhance', 5960: 'enhances', 5961: 'yohimbe', 5962: 'vitamin', 5963: 'milligrams', 5964: 'nauseous', 5965: 'relaxed', 5966: 'flow', 5967: 'stimulate', 5968: 'paths', 5969: 'causes', 5970: 'release', 5971: 'neurotransmitters', 5972: 'heighten', 5973: 'neat', 5974: 'hormones', 5975: 'menopause', 5976: 'lack', 5977: 'vitality', 5978: 'sexuality', 5979: 'jeanbaptiste', 5980: 'poquelin', 5981: 'molière', 5982: 'founds', 5983: 'béjart', 5984: 'illustrious', 5985: 'theater', 5986: 'tour', 5987: 'taverne', 5988: 'tavern', 5989: 'comedia', 5990: 'italia', 5991: 'tiberio', 5992: 'fiorelli', 5993: 'scaramouche', 5994: 'purchase', 5995: 'accessories', 5996: 'coupeaus', 5997: 'engagement', 5998: 'september', 5999: '1872', 6000: 'managed', 6001: 'lantier', 6002: 'whilst', 6003: 'strikes', 6004: 'majaal', 6005: 'trained', 6006: 'socialists', 6007: 'anarchists', 6008: 'officially', 6009: 'queen', 6010: 'conspiring', 6011: 'china', 6012: 'hacked', 6013: 'enlightenment', 6014: 'barbarism', 6015: 'internationally', 6016: 'blade', 6017: 'governorgeneral', 6018: 'minamis', 6019: 'hypocrite', 6020: 'boiled', 6021: 'egg', 6022: 'crack', 6023: 'electric', 6024: 'nobles', 6025: 'mob', 6026: 'alternative', 6027: 'pseudogovernment', 6028: 'scenario', 6029: 'cruiser', 6030: 'voluptuousness', 6031: 'thirsty', 6032: 'rolls', 6033: 'jews', 6034: 'christians', 6035: 'spaniard', 6036: 'imprisoned', 6037: 'toilets', 6038: 'bazaar', 6039: 'beliefs', 6040: 'determined', 6041: 'convulsions', 6042: 'taxis', 6043: 'adore', 6044: 'legally', 6045: 'virgins', 6046: 'swindles', 6047: 'provided', 6048: 'discreetly', 6049: 'dramatic', 6050: 'j', 6051: 'rector', 6052: 'emil', 6053: 'albes', 6054: 'vujrat', 6055: 'valberg', 6056: 'receives', 6057: 'castle', 6058: 'dagger', 6059: 'implacable', 6060: 'decides', 6061: 'agrippinas', 6062: 'scheme', 6063: 'capaneo', 6064: 'violence', 6065: 'barking', 6066: 'wasteful', 6067: 'wealth', 6068: 'persecuted', 6069: 'lacerated', 6070: 'committed', 6071: 'tolomea', 6072: 'fasting', 6073: 'groping', 6074: 'lucifer', 6075: 'benefactors', 6076: 'judea', 6077: 'friar', 6078: 'alberigo', 6079: 'prays', 6080: 'remove', 6081: 'tyrants', 6082: 'jerry', 6083: 'cans', 6084: 'lean', 6085: 'opens', 6086: '8am', 6087: 'diabetes', 6088: 'offend', 6089: 'underestimating', 6090: 'needlessly', 6091: 'rushing', 6092: 'sentences', 6093: 'svatonova', 6094: 'fume', 6095: 'raffle', 6096: 'prefix', 6097: 'slam', 6098: 'polar', 6099: 'bears', 6100: 'rumors', 6101: 'mental', 6102: 'shivering', 6103: 'jackall', 6104: 'hunt', 6105: 'soulful', 6106: 'rabble', 6107: 'tissue', 6108: 'robbers', 6109: 'setter', 6110: 'longhaired', 6111: 'dachshund', 6112: 'principled', 6113: 'vaporize', 6114: 'cloud', 6115: 'biscuit', 6116: 'suffer', 6117: 'whispering', 6118: 'explode', 6119: 'noticed', 6120: 'complicated', 6121: 'prime', 6122: 'covers', 6123: 'cb3001', 6124: 'storehouse', 6125: 'alergic', 6126: 'robbery', 6127: 'awesome', 6128: 'gap', 6129: 'wooden', 6130: 'destructive', 6131: 'reconciled', 6132: 'cruel', 6133: 'sacrifice', 6134: 'fertility', 6135: 'parched', 6136: 'ghastly', 6137: 'photography', 6138: 'leo', 6139: 'tolstoy', 6140: 'mere', 6141: 'carries', 6142: 'imposed', 6143: 'rubles', 6144: 'safer', 6145: 'artemjew', 6146: 'victor', 6147: 'recess', 6148: 'idealist', 6149: 'false', 6150: 'signatories', 6151: 'testify', 6152: 'fedia', 6153: 'vassilievitch', 6154: 'tragic', 6155: 'councilor', 6156: 'chamberlain', 6157: 'punctuality', 6158: 'concerning', 6159: 'lawsuit', 6160: 'bigamy', 6161: 'ruined', 6162: 'distressing', 6163: 'obstacles', 6164: 'february', 6165: '1804', 6166: 'significant', 6167: 'uprising', 6168: 'palalija', 6169: 'bircanin', 6170: 'carapic', 6171: 'among', 6172: 'focic', 6173: 'mehmedaga', 6174: 'leaders', 6175: 'foca', 6176: 'djordje', 6177: 'kosovo', 6178: 'marinko', 6179: 'violated', 6180: 'accomplished', 6181: 'milos', 6182: 'celebi', 6183: 'liberators', 6184: 'belgrade', 6185: '1806', 6186: 'pry', 6187: 'zoo', 6188: 'previously', 6189: 'deceased', 6190: 'discovery', 6191: 'mata', 6192: 'chu', 6193: 'konw', 6194: 'hongkong', 6195: 'malay', 6196: 'taboo', 6197: 'iphone', 6198: 'mahjong', 6199: 'loan', 6200: 'drops', 6201: 'doubled', 6202: 'promiscuous', 6203: 'closure', 6204: 'stranded', 6205: 'award', 6206: 'opera', 6207: 'actress', 6208: 'ldont', 6209: 'helping', 6210: 'youngsters', 6211: 'fake', 6212: 'okokok', 6213: 'yang', 6214: 'yau', 6215: 'jing', 6216: 'nickname', 6217: 'greedy', 6218: 'despise', 6219: 'coma', 6220: 'hallelujah', 6221: 'risk', 6222: 'receiving', 6223: 'differentiate', 6224: 'naive', 6225: 'wrapped', 6226: 'fundraising', 6227: 'stamp', 6228: 'ensemble', 6229: 'conducted', 6230: 'composer', 6231: 'pole', 6232: 'reaction', 6233: 'verbatim', 6234: 'yucatan', 6235: '23976', 6236: 'fps', 6237: 'continent', 6238: 'dew', 6239: 'vanish', 6240: 'ordinary', 6241: 'explanation', 6242: 'wreckage', 6243: 'c47', 6244: 'sharp', 6245: 'needle', 6246: 'alaska', 6247: 'newfoundland', 6248: 'parades', 6249: 'nosy', 6250: 'possibility', 6251: 'folds', 6252: 'flexible', 6253: 'allows', 6254: 'movement', 6255: 'invertebrates', 6256: 'skeletons', 6257: 'outer', 6258: 'exoskeleton', 6259: 'rigid', 6260: 'worms', 6261: 'snails', 6262: 'exceptions', 6263: 'contains', 6264: 'corpuscles', 6265: 'entomologist', 6266: 'incredibly', 6267: 'unbelievably', 6268: 'huge', 6269: 'cooperate', 6270: 'panic', 6271: 'hysteria', 6272: 'fords', 6273: 'editor', 6274: 'marjorie', 6275: 'blain', 6276: 'eskimo', 6277: 'skid', 6278: 'avalanche', 6279: 'climbers', 6280: 'thunder', 6281: 'scramble', 6282: 'denied', 6283: 'faint', 6284: 'balloon', 6285: 'unidentified', 6286: 'scope', 6287: 'hawkins', 6288: 'conad', 6289: 'speaker', 6290: 'continental', 6291: 'defense', 6292: '400000', 6293: 'interceptor', 6294: 'contrary', 6295: 'rumor', 6296: 'headlines', 6297: 'deadly', 6298: 'imaginary', 6299: 'appears', 6300: 'eastern', 6301: 'seaboard', 6302: 'stir', 6303: 'granary', 6304: 'buts', 6305: 'sighted', 6306: 'altitude', 6307: 'identified', 6308: 'bogey', 6309: 'observers', 6310: 'net', 6311: 'omelet', 6312: 'youcantgetfar', 6313: 'ohyoucantget', 6314: 'andtellthesky', 6315: 'sometimesi', 6316: 'feellikeicouldjump', 6317: 'pan', 6318: 'fig', 6319: 'meters', 6320: 'prosperous', 6321: 'branch', 6322: 'bandit', 6323: 'expressed', 6324: 'thug', 6325: 'poumneesh', 6326: 'weakest', 6327: 'link', 6328: 'cache', 6329: 'ceremony', 6330: 'main', 6331: 'shoulders', 6332: 'temporarily', 6333: 'moolah', 6334: 'passersby', 6335: 'owes', 6336: 'descend', 6337: 'contentment', 6338: 'pedicurists', 6339: 'acrobats', 6340: 'couch', 6341: 'cot', 6342: 'mug', 6343: 'brigade', 6344: 'protection', 6345: 'morality', 6346: 'splinter', 6347: 'bulk', 6348: 'aperitif', 6349: 'wronged', 6350: 'fascinated', 6351: 'clown', 6352: 'suggest', 6353: 'catches', 6354: 'kicks', 6355: 'warned', 6356: 'walked', 6357: 'piga', 6358: 'zaber群h', 6359: 'grandmas', 6360: 'offended', 6361: 'addition', 6362: 'shirt', 6363: 'taxes', 6364: 'dame', 6365: 'illusionist', 6366: 'colleague', 6367: 'vultures', 6368: 'nahal', 6369: 'rider', 6370: 'guarantee', 6371: 'kinsfolk', 6372: 'skirt', 6373: 'importantly', 6374: 'premium', 6375: 'sending', 6376: 'marsevale', 6377: 'hoarded', 6378: 'flutter', 6379: 'dahl', 6380: 'wheelbarrow', 6381: 'tasty', 6382: 'oaf', 6383: 'vile', 6384: 'departure', 6385: 'mutila', 6386: 'marseilles', 6387: 'gray', 6388: 'robe', 6389: 'tinkering', 6390: 'motley', 6391: 'conscience', 6392: 'journey', 6393: 'marcelle', 6394: 'villa', 6395: 'knack', 6396: 'sang', 6397: 'karpatto', 6398: 'naplela', 6399: 'receipts', 6400: 'calmed', 6401: 'disagree', 6402: 'authority', 6403: 'greatest', 6404: 'dontjust', 6405: 'falsely', 6406: 'loves', 6407: 'principal', 6408: 'attending', 6409: 'hairstyle', 6410: 'presence', 6411: 'safy', 6412: 'vegetables', 6413: 'cook', 6414: 'wicked', 6415: 'motherinlaw', 6416: 'cupboard', 6417: 'woken', 6418: 'furniture', 6419: 'newer', 6420: 'bugging', 6421: 'aquarium', 6422: 'dressmakers', 6423: 'diary', 6424: 'amusing', 6425: 'books', 6426: 'experiences', 6427: 'bachelor', 6428: 'excused', 6429: 'insists', 6430: 'chauffeur', 6431: 'shushus', 6432: 'suitors', 6433: 'marvelous', 6434: 'misery', 6435: 'nuisance', 6436: 'spared', 6437: 'virginity', 6438: 'envy', 6439: 'classy', 6440: 'teresa', 6441: 'mingle', 6442: 'yesterdays', 6443: 'madly', 6444: 'respectable', 6445: 'cups', 6446: 'raspberry', 6447: 'highly', 6448: 'selfconfident', 6449: 'growing', 6450: 'codliver', 6451: 'celebrate', 6452: 'earrings', 6453: 'exhausted', 6454: 'gullible', 6455: 'eats', 6456: 'staggering', 6457: 'sherbet', 6458: 'grown', 6459: 'favors', 6460: 'unworthy', 6461: 'pursued', 6462: 'bars', 6463: 'spends', 6464: 'rang', 6465: 'wellbred', 6466: 'wellmannered', 6467: 'pretend', 6468: 'alexandria', 6469: 'cheating', 6470: 'blurt', 6471: 'sneaks', 6472: 'slick', 6473: 'mumbling', 6474: 'perfected', 6475: 'raving', 6476: 'appetizer', 6477: 'insurance', 6478: 'support', 6479: 'cute', 6480: 'pacha', 6481: 'imagined', 6482: 'brings', 6483: 'recorded', 6484: 'voices', 6485: 'cornered', 6486: 'material', 6487: 'postpone', 6488: 'broof', 6489: 'bodys', 6490: 'temptation', 6491: 'triumph', 6492: 'leaf', 6493: 'comin', 6494: 'dolorèsll', 6495: 'sheeps', 6496: 'miser', 6497: 'rascal', 6498: 'zé', 6499: 'mme', 6500: 'clam', 6501: 'maxims', 6502: 'backward', 6503: 'nothingll', 6504: 'relieved', 6505: 'penalty', 6506: 'guyll', 6507: 'slide', 6508: 'circulate', 6509: 'freely', 6510: 'daft', 6511: 'pluvier', 6512: 'nother', 6513: 'wellplaced', 6514: 'ban', 6515: 'lifted', 6516: 'tires', 6517: 'announcing', 6518: 'pierrot', 6519: 'forbad', 6520: 'balls', 6521: 'maurice', 6522: 'chesterfields', 6523: 'invitation', 6524: '6000', 6525: 'wednesday', 6526: 'industrial', 6527: 'commercial', 6528: 'pug', 6529: '203', 6530: 'panelvan', 6531: '8021', 6532: 'ba', 6533: '78', 6534: 'leaves', 6535: 'towards', 6536: 'étampes', 6537: 'canal', 6538: '40', 6539: 'dish', 6540: 'louiss', 6541: 'prince', 6542: 'charming', 6543: 'vanll', 6544: 'hullo', 6545: 'freeze', 6546: 'stroke', 6547: 'admitted', 6548: 'headache', 6549: 'dummer', 6550: 'emiles', 6551: 'puppet', 6552: 'alec', 6553: 'confidence', 6554: 'paté', 6555: 'sausageloaf', 6556: 'cinemas', 6557: 'lodgings', 6558: 'bastille', 6559: 'smidgen', 6560: 'taxidriver', 6561: 'blonds', 6562: 'shave', 6563: 'precise', 6564: 'sabotage', 6565: 'token', 6566: 'regard', 6567: 'shhh', 6568: 'parcels', 6569: 'organize', 6570: 'protecting', 6571: 'botanical', 6572: 'gardens', 6573: 'youresorry', 6574: 'gelignite', 6575: 'lump', 6576: 'pe', 6577: 'informations', 6578: 'scanty', 6579: 'awfully', 6580: 'authorizing', 6581: 'temporary', 6582: 'transfer', 6583: 'siamese', 6584: 'mightnt', 6585: 'india', 6586: 'glorious', 6587: 'victorious', 6588: '1905', 6589: 'malaya', 6590: 'fails', 6591: 'tragically', 6592: 'hanging', 6593: '730', 6594: 'oops', 6595: 'ophelia', 6596: 'mate', 6597: 'belly', 6598: 'shoulder', 6599: 'plumbers', 6600: 'ace', 6601: 'plumbing', 6602: 'paneled', 6603: 'hydrant', 6604: 'cleaner', 6605: 'markeys', 6606: 'assigned', 6607: 'moores', 6608: 'markey', 6609: 'hamilton', 6610: 'miller', 6611: 'proof', 6612: 'bonners', 6613: 'preston', 6614: 'rougher', 6615: 'joins', 6616: 'highway', 6617: 'stupe', 6618: 'manhattan', 6619: 'melodrama', 6620: 'complaining', 6621: 'retire', 6622: 'dubious', 6623: 'sat', 6624: 'buzzers', 6625: 'manager', 6626: 'hitch', 6627: 'susie', 6628: 'penny', 6629: 'marshall', 6630: 'fields', 6631: 'duncan', 6632: 'mall', 6633: 'bread', 6634: 'fishing', 6635: 'harris', 6636: 'mile', 6637: 'large', 6638: 'nightmare', 6639: 'reward', 6640: 'image', 6641: 'seizing', 6642: 'fabulous', 6643: 'untie', 6644: 'woke', 6645: 'extremely', 6646: 'interfering', 6647: 'delighted', 6648: 'assuming', 6649: 'rubble', 6650: 'boyfriends', 6651: 'method', 6652: 'voluntarily', 6653: 'sparks', 6654: 'rebelliousness', 6655: 'arrives', 6656: 'falls', 6657: 'clutches', 6658: 'kidnapped', 6659: 'hieroglyphic', 6660: 'recover', 6661: 'custody', 6662: 'snatched', 6663: 'powers', 6664: 'supernatural', 6665: 'merrier', 6666: 'entrusted', 6667: 'ancestors', 6668: 'temple', 6669: 'coffe', 6670: 'vicenta', 6671: 'cinema', 6672: 'they´re', 6673: 'robes', 6674: 'sewn', 6675: 'aren´t', 6676: 'ignorance', 6677: 'speeches', 6678: 'she´s', 6679: 'incident', 6680: 'pablo´s', 6681: 'highspirited', 6682: 'who´s', 6683: 'woman´s', 6684: 'pit', 6685: 'abyss', 6686: 'locusts', 6687: 'chickens', 6688: 'lambs', 6689: 'i´ve', 6690: 'economic', 6691: 'axis', 6692: 'appealing', 6693: 'liberty', 6694: 'defamation', 6695: 'goodspirited', 6696: 'speaks', 6697: 'background', 6698: 'moral', 6699: 'honesty', 6700: 'sincerely', 6701: 'applause', 6702: 'imposing', 6703: 'emotion', 6704: 'cristina', 6705: 'severly', 6706: 'liberalism', 6707: 'youth', 6708: 'corrupted', 6709: 'intelectualized', 6710: 'decadent', 6711: 'isn´t', 6712: 'fatter', 6713: 'couldn´t', 6714: 'incomparable', 6715: 'rodolfo', 6716: 'valentino', 6717: 'saint', 6718: 'qualify', 6719: 'refutable', 6720: '1912', 6721: 'refered', 6722: 'debate', 6723: 'closing', 6724: 'preventing', 6725: 'annunciation', 6726: 'fraudulent', 6727: 'discuss', 6728: 'wasn´t', 6729: 'convictions', 6730: 'granting', 6731: 'concession', 6732: 'nation´s', 6733: 'economy', 6734: 'practiced', 6735: 'chosen', 6736: 'honored', 6737: 'castro', 6738: 'valencia', 6739: 'cevallos', 6740: 'timi', 6741: 'master´s', 6742: 'house´s', 6743: 'ramón', 6744: 'holy', 6745: 'shameless', 6746: 'hunger', 6747: 'shocking', 6748: 'marble', 6749: 'gaze', 6750: 'candles', 6751: 'testament', 6752: 'deceived', 6753: 'preach', 6754: 'beams', 6755: 'cedar', 6756: 'talks', 6757: 'julieta', 6758: 'saves', 6759: 'adversary', 6760: 'marching', 6761: 'os', 6762: 'dilemma', 6763: 'mccasslin', 6764: 'leatham', 6765: 'cue', 6766: 'stoop', 6767: 'superstitution', 6768: 'slack', 6769: 'truce', 6770: 'bugler', 6771: 'melavan', 6772: 'nancy', 6773: 'rehearsing', 6774: 'daylights', 6775: '28', 6776: 'sequence', 6777: 'stations', 6778: 'desperation', 6779: 'syracuse', 6780: 'pitt', 6781: 'scored', 6782: 'edgar', 6783: 'bergen', 6784: 'nbc', 6785: 'anywheres', 6786: 'mussolini', 6787: 'hg', 6788: 'wainwright', 6789: '32f92', 6790: 'downtown', 6791: 'entrained', 6792: 'rocky', 6793: 'effect', 6794: 'hamlets', 6795: 'nation', 6796: 'grip', 6797: 'ungovernable', 6798: 'aces', 6799: 'astronomical', 6800: 'disturbances', 6801: 'occurring', 6802: 'quarter', 6803: 'meteorological', 6804: 'bureau', 6805: 'gregarious', 6806: 'jersys', 6807: 'argument', 6808: 'tryin', 6809: 'saliva', 6810: 'dripping', 6811: 'announced', 6812: 'somethin', 6813: 'sunday', 6814: 'sweep', 6815: 'raids', 6816: 'companies', 6817: 'proceeding', 6818: 'evacuation', 6819: 'governor', 6820: 'counties', 6821: 'mercer', 6822: 'middlesex', 6823: 'princeton', 6824: 'jamesburg', 6825: 'combined', 6826: 'departments', 6827: 'reaching', 6828: 'legs', 6829: 'rearing', 6830: 'framework', 6831: 'solid', 6832: 'shield', 6833: 'rising', 6834: 'morris', 6835: 'coon', 6836: 'stumbled', 6837: 'firs', 6838: 'embedded', 6839: 'swamp', 6840: 'basking', 6841: 'babys', 6842: 'throwers', 6843: 'scandal', 6844: 'mccoy', 6845: 'switchboard', 6846: 'flooded', 6847: 'tellem', 6848: 'dramatization', 6849: 'engines', 6850: 'diving', 6851: 'circuits', 6852: 'charlies', 6853: 'drivin', 6854: 'dale', 6855: 'distribute', 6856: 'defenses', 6857: 'smokes', 6858: 'earths', 6859: 'planes', 6860: 'y6ou', 6861: 'repeating', 6862: 'content', 6863: 'fictitious', 6864: 'worlds', 6865: 'tuned', 6866: 'adaptation', 6867: 'h', 6868: 'historical', 6869: 'relief', 6870: 'laughter', 6871: 'reactions', 6872: 'senses', 6873: 'panicked', 6874: 'colossal', 6875: 'halloween', 6876: 'estimates', 6877: 'hannes', 6878: 'westinghouse', 6879: 'bleed', 6880: 'clothe', 6881: 'rentfree', 6882: 'grangers', 6883: 'watches', 6884: 'binoculars', 6885: 'cheque', 6886: 'connections', 6887: 'acquiring', 6888: 'accidental', 6889: 'masons', 6890: 'drivers', 6891: '55cent', 6892: 'collects', 6893: 'battle', 6894: 'doheny', 6895: 'hillcrest', 6896: 'posted', 6897: 'initials', 6898: 'courtroom', 6899: 'fares', 6900: 'sheets', 6901: 'indicted', 6902: 'degree', 6903: 'delay', 6904: 'easiest', 6905: 'fatherinlaw', 6906: 'enemies', 6907: 'offers', 6908: 'twisted', 6909: 'nickel', 6910: 'defendants', 6911: 'ballistics', 6912: 'checked', 6913: 'determine', 6914: 'umc', 6915: 'cartridges', 6916: 'establish', 6917: 'penetrate', 6918: 'fabric', 6919: 'thick', 6920: 'cardboard', 6921: 'wadding', 6922: 'tremendous', 6923: 'penetrating', 6924: 'solely', 6925: 'clarifying', 6926: 'witnesss', 6927: 'poker', 6928: 'threatening', 6929: 'crossexamining', 6930: 'objection', 6931: 'engage', 6932: 'credibility', 6933: 'accomplish', 6934: 'recognition', 6935: 'inventory', 6936: 'toss', 6937: 'yt', 6938: 'substitution', 6939: 'loaned', 6940: 'testified', 6941: 'enquirys', 6942: 'afield', 6943: 'lays', 6944: 'holds', 6945: 'dismantled', 6946: 'bailiff', 6947: 'nearest', 6948: 'convinces', 6949: 'coramine', 6950: 'boiling', 6951: 'sprung', 6952: 'incriminating', 6953: 'pages', 6954: 'estate', 6955: 'investigator', 6956: 'pleurisy', 6957: 'steamed', 6958: 'replaced', 6959: 'rephrase', 6960: 'licence', 6961: 'relay', 6962: 'analyse', 6963: 'administered', 6964: 'stoppage', 6965: 'ingestion', 6966: 'ingested', 6967: 'hoxie', 6968: 'traces', 6969: 'routine', 6970: 'adjournment', 6971: 'consulted', 6972: 'constitutional', 6973: 'quack', 6974: 'locate', 6975: 'association', 6976: 'indicates', 6977: 'fees', 6978: 'beckmeyers'}\n",
            "6978\n",
            "Im going to wait startsent Here we go endsent\n",
            "[ 28  79   7 106   0   0   0   0   0   0   0   0   0   0   0   0   0   0\n",
            "   0   0   0   0   0   0   0] [   0   21   40   20 6979    0    0    0    0    0    0    0    0    0\n",
            "    0    0    0    0    0    0    0    0    0    0    0]\n",
            "101770\n"
          ],
          "name": "stdout"
        }
      ]
    },
    {
      "cell_type": "code",
      "metadata": {
        "id": "wUJG_0rJfOPQ",
        "colab_type": "code",
        "colab": {}
      },
      "source": [
        "def preprocess(text_list):\n",
        "  inputs = []\n",
        "  for sent in text_list:\n",
        "    inputs.append(remove_char(sent))\n",
        "  input_seq = tokenizer.texts_to_sequences(inputs)\n",
        "  input_seq_pad = pad_sequences(input_seq, maxlen = max_length ,padding = 'post', truncating = 'post')\n",
        "  return input_seq_pad"
      ],
      "execution_count": 12,
      "outputs": []
    },
    {
      "cell_type": "code",
      "metadata": {
        "id": "uqQk5_fVaZzK",
        "colab_type": "code",
        "colab": {
          "base_uri": "https://localhost:8080/",
          "height": 204
        },
        "outputId": "b5e7906a-1595-4fea-8c39-3b16b13bfe8e"
      },
      "source": [
        "!wget --no-check-certificate \\\n",
        "    https://storage.googleapis.com/laurencemoroney-blog.appspot.com/glove.6B.100d.txt \\\n",
        "    -O /tmp/glove.6B.100d.txt"
      ],
      "execution_count": 13,
      "outputs": [
        {
          "output_type": "stream",
          "text": [
            "--2020-06-24 14:47:50--  https://storage.googleapis.com/laurencemoroney-blog.appspot.com/glove.6B.100d.txt\n",
            "Resolving storage.googleapis.com (storage.googleapis.com)... 173.194.76.128, 2a00:1450:400c:c0b::80\n",
            "Connecting to storage.googleapis.com (storage.googleapis.com)|173.194.76.128|:443... connected.\n",
            "HTTP request sent, awaiting response... 200 OK\n",
            "Length: 347116733 (331M) [text/plain]\n",
            "Saving to: ‘/tmp/glove.6B.100d.txt’\n",
            "\n",
            "/tmp/glove.6B.100d. 100%[===================>] 331.04M   126MB/s    in 2.6s    \n",
            "\n",
            "2020-06-24 14:47:53 (126 MB/s) - ‘/tmp/glove.6B.100d.txt’ saved [347116733/347116733]\n",
            "\n"
          ],
          "name": "stdout"
        }
      ]
    },
    {
      "cell_type": "code",
      "metadata": {
        "id": "NSGHQls7mm9q",
        "colab_type": "code",
        "colab": {
          "base_uri": "https://localhost:8080/",
          "height": 34
        },
        "outputId": "b9764162-8719-4efa-f0eb-c0756efc0bb7"
      },
      "source": [
        "import os\n",
        "import numpy as np\n",
        "\n",
        "embeddings_index = {} #initialize dictionary\n",
        "f = open('/tmp/glove.6B.100d.txt')\n",
        "for line in f:\n",
        "    values = line.split()\n",
        "    word = values[0]\n",
        "    coefs = np.asarray(values[1:], dtype='float32')\n",
        "    embeddings_index[word] = coefs\n",
        "f.close()\n",
        "\n",
        "print('Found %s word vectors.' % len(embeddings_index))"
      ],
      "execution_count": 14,
      "outputs": [
        {
          "output_type": "stream",
          "text": [
            "Found 400000 word vectors.\n"
          ],
          "name": "stdout"
        }
      ]
    },
    {
      "cell_type": "code",
      "metadata": {
        "id": "_9RJVPxPoC4C",
        "colab_type": "code",
        "colab": {
          "base_uri": "https://localhost:8080/",
          "height": 459
        },
        "outputId": "a6e12e49-219c-4c5d-8dae-c44550d71066"
      },
      "source": [
        "embedding_dim = 100\n",
        "\n",
        "embeddings_matrix = np.zeros((vocab_size+1, embedding_dim))\n",
        "for word, i in word_index.items():\n",
        "    embedding_vector = embeddings_index.get(word)\n",
        "    if embedding_vector is not None:\n",
        "        embeddings_matrix[i] = embedding_vector\n",
        "\n",
        "print(len(embeddings_matrix))\n",
        "embeddings_matrix[6977]"
      ],
      "execution_count": 15,
      "outputs": [
        {
          "output_type": "stream",
          "text": [
            "6980\n"
          ],
          "name": "stdout"
        },
        {
          "output_type": "execute_result",
          "data": {
            "text/plain": [
              "array([-1.41990006e-01, -3.21310014e-01, -3.81099999e-01, -1.28950000e-01,\n",
              "        3.44550014e-01, -3.16929996e-01, -9.51619983e-01,  1.12909997e+00,\n",
              "       -2.79879998e-02,  2.43589997e-01,  2.97149986e-01,  6.00820005e-01,\n",
              "       -2.53589988e-01, -2.91130006e-01,  1.59280002e-01, -1.16090000e+00,\n",
              "       -1.60209998e-03,  2.46810004e-01, -5.91790006e-02,  7.26859987e-01,\n",
              "       -5.14699996e-01,  1.19000003e-01, -2.16429994e-01, -1.05260000e-01,\n",
              "        3.49779993e-01, -7.14169979e-01, -1.94560006e-01, -9.02819991e-01,\n",
              "       -6.82489991e-01, -7.83150017e-01,  4.66960013e-01,  6.63779974e-01,\n",
              "       -2.34469995e-01, -3.23300004e-01, -3.13089997e-01,  3.96660000e-01,\n",
              "       -2.18840003e-01,  3.17770004e-01, -2.30430007e-01, -4.44669992e-01,\n",
              "        6.38899982e-01, -2.74749994e-01, -5.94479978e-01, -2.71160007e-01,\n",
              "       -1.79100007e-01, -8.09289992e-01, -3.41439992e-01, -4.14759994e-01,\n",
              "        3.27890009e-01, -6.44529998e-01,  8.20810020e-01,  7.23560005e-02,\n",
              "       -6.28900006e-02,  5.05389988e-01, -1.95089996e-01, -6.56849980e-01,\n",
              "        3.47070009e-01, -1.01059997e+00,  2.21740007e+00,  3.89380008e-01,\n",
              "       -1.56739995e-01, -4.64419991e-01,  3.80710006e-01, -2.02270001e-02,\n",
              "       -4.83549992e-03, -5.71359992e-01,  8.32569972e-03, -3.69510017e-02,\n",
              "        1.07430005e+00, -2.83160001e-01, -4.65700001e-01, -6.12320006e-01,\n",
              "        3.20419997e-01,  1.92279994e-01, -2.92860001e-01, -5.32100014e-02,\n",
              "        1.69770002e-01, -1.98850006e-01, -6.09290004e-01,  8.73280019e-02,\n",
              "        1.45360005e+00, -1.60699993e-01,  1.27619997e-01, -1.00380003e+00,\n",
              "       -1.78330004e+00, -4.01670009e-01, -4.29580003e-01, -3.95770013e-01,\n",
              "        4.50939983e-02, -1.19560003e-01, -1.02950001e+00, -1.86240003e-02,\n",
              "       -1.05729997e-01, -9.71210003e-01,  8.69380012e-02,  4.59050015e-02,\n",
              "        3.88870001e-01,  7.17100024e-01,  1.21980000e+00, -5.89900017e-01])"
            ]
          },
          "metadata": {
            "tags": []
          },
          "execution_count": 15
        }
      ]
    },
    {
      "cell_type": "code",
      "metadata": {
        "id": "cCuMynFcqLEZ",
        "colab_type": "code",
        "colab": {
          "base_uri": "https://localhost:8080/",
          "height": 68
        },
        "outputId": "cf2a53f8-7af4-40e0-c656-3510082499cd"
      },
      "source": [
        "\"\"\"print(input_seq_pad.shape)\n",
        "X_train = input_seq_pad[:500]\n",
        "y_train = response_seq_pad[:500]\"\"\"\n",
        "\n",
        "\n",
        "X_train = []\n",
        "y_train = []\n",
        "for j in range(40000):\n",
        "    X_train.append(input_seq_pad[j])\n",
        "    y_train.append(response_seq_pad[j])\n",
        "\n",
        "X_train = np.array(X_train)\n",
        "y_train = np.array(y_train)\n",
        "\n",
        "print(embedding_dim)\n",
        "print(X_train.shape)\n",
        "print(y_train.shape)\n",
        "\n",
        "dataset = (inputs, responses)"
      ],
      "execution_count": 16,
      "outputs": [
        {
          "output_type": "stream",
          "text": [
            "100\n",
            "(40000, 25)\n",
            "(40000, 25)\n"
          ],
          "name": "stdout"
        }
      ]
    },
    {
      "cell_type": "code",
      "metadata": {
        "id": "WOmkHXbYYEMo",
        "colab_type": "code",
        "colab": {}
      },
      "source": [
        "import os\n",
        "import pickle\n",
        "import numpy as np\n",
        "import tensorflow as tf\n",
        "from tensorflow.keras.preprocessing.text import Tokenizer\n",
        "from tensorflow.keras.preprocessing.sequence import pad_sequences\n",
        "from tensorflow.keras.layers import Embedding, GRU, Dense \n",
        "\n",
        "max_sequence_len = 25\n",
        "batch_size = 64\n",
        "train_dataset = tf.data.Dataset.from_tensor_slices((X_train, y_train))\n",
        "train_dataset = train_dataset.cache()\n",
        "train_dataset = train_dataset.shuffle(1024)\n",
        "train_dataset = train_dataset.batch(batch_size, drop_remainder=True)\n",
        "train_dataset = train_dataset.prefetch(tf.data.experimental.AUTOTUNE)"
      ],
      "execution_count": 17,
      "outputs": []
    },
    {
      "cell_type": "code",
      "metadata": {
        "id": "Dv60LjEg5Bsv",
        "colab_type": "code",
        "colab": {}
      },
      "source": [
        "class Encoder(tf.keras.Model):\n",
        "    def __init__(self, hidden_size=1024, max_sequence_len=25, batch_size=batch_size, embedding_dim=100, vocab_size=vocab_size+1):\n",
        "        super(Encoder, self).__init__()\n",
        "        self.embedding_dim = embedding_dim\n",
        "        self.vocab_size = vocab_size\n",
        "        self.max_sequence_len = max_sequence_len\n",
        "        self.hidden_size = hidden_size\n",
        "        self.batch_size = batch_size\n",
        "\n",
        "        self.embedding_layer = Embedding(\n",
        "            input_dim=self.vocab_size, output_dim=self.embedding_dim, weights=[embeddings_matrix], trainable=False)\n",
        "        self.GRU_1 = GRU(units=hidden_size, return_sequences=True,recurrent_initializer='glorot_uniform')\n",
        "        self.GRU_2 = GRU(units=hidden_size,\n",
        "                         return_sequences=True, return_state=True,recurrent_initializer='glorot_uniform')\n",
        "\n",
        "    def initial_hidden_state(self):\n",
        "        return tf.zeros(shape=(self.batch_size, self.hidden_size))\n",
        "\n",
        "    def call(self, x, initial_state, training=False):\n",
        "        x = self.embedding_layer(x)\n",
        "        x = self.GRU_1(x, initial_state=initial_state)\n",
        "        x, hidden_state = self.GRU_2(x)\n",
        "        return x, hidden_state"
      ],
      "execution_count": 18,
      "outputs": []
    },
    {
      "cell_type": "code",
      "metadata": {
        "id": "LVf3-62K5FDO",
        "colab_type": "code",
        "colab": {}
      },
      "source": [
        "class Attention(tf.keras.Model):\n",
        "    def __init__(self, hidden_size=256):\n",
        "        super(Attention, self).__init__()\n",
        "        self.fc1 = Dense(units=hidden_size)\n",
        "        self.fc2 = Dense(units=hidden_size)\n",
        "        self.fc3 = Dense(units=1)\n",
        "\n",
        "    def call(self, encoder_output, hidden_state, training=False):\n",
        "        '''hidden_state : h(t-1)'''\n",
        "        y_hidden_state = tf.expand_dims(hidden_state, axis=1)\n",
        "        y_hidden_state = self.fc1(y_hidden_state)\n",
        "        y_enc_out = self.fc2(encoder_output)\n",
        "\n",
        "        y = tf.keras.backend.tanh(y_enc_out + y_hidden_state)\n",
        "        attention_score = self.fc3(y)\n",
        "        attention_weights = tf.keras.backend.softmax(attention_score, axis=1)\n",
        "\n",
        "        context_vector = tf.multiply(encoder_output, attention_weights)\n",
        "        context_vector = tf.reduce_sum(context_vector, axis=1)\n",
        "\n",
        "        return context_vector, attention_weights"
      ],
      "execution_count": 19,
      "outputs": []
    },
    {
      "cell_type": "code",
      "metadata": {
        "id": "rIlmE_Bd5W2e",
        "colab_type": "code",
        "colab": {}
      },
      "source": [
        "class Decoder(tf.keras.Model):\n",
        "    def __init__(self, hidden_size=1024, max_sequence_len=25, batch_size=batch_size, embedding_dim=100, vocab_size=vocab_size+1):\n",
        "        super(Decoder, self).__init__()\n",
        "        self.embedding_dim = embedding_dim\n",
        "        self.vocab_size = vocab_size\n",
        "        self.max_sequence_len = max_sequence_len\n",
        "        self.hidden_size = hidden_size\n",
        "        self.batch_size = batch_size\n",
        "    \n",
        "        self.embedding_layer = Embedding(input_dim=self.vocab_size, output_dim=self.embedding_dim, weights=[embeddings_matrix], trainable=False)\n",
        "        self.GRU = GRU(units=hidden_size,\n",
        "                       return_sequences=True, return_state=True, recurrent_initializer='glorot_uniform')\n",
        "        self.attention = Attention(hidden_size=self.hidden_size)\n",
        "        self.fc = Dense(units=self.vocab_size)\n",
        "\n",
        "    def initial_hidden_state(self):\n",
        "        return tf.zeros(shape=(self.batch_size, self.hidden_size))\n",
        "\n",
        "    def call(self, x, encoder_output, hidden_state, training=False):\n",
        "        x = self.embedding_layer(x)\n",
        "        context_vector, attention_weights = self.attention(\n",
        "            encoder_output, hidden_state, training=training)\n",
        "        contect_vector = tf.expand_dims(context_vector, axis=1)\n",
        "        x = tf.concat([x, contect_vector], axis=-1)\n",
        "        x, curr_hidden_state = self.GRU(x)\n",
        "        x = tf.reshape(x, shape=[self.batch_size, -1])\n",
        "        x = self.fc(x)\n",
        "        return x, curr_hidden_state, attention_weights"
      ],
      "execution_count": 20,
      "outputs": []
    },
    {
      "cell_type": "code",
      "metadata": {
        "id": "FXraYndf5db1",
        "colab_type": "code",
        "colab": {}
      },
      "source": [
        "loss_object = tf.losses.SparseCategoricalCrossentropy(from_logits=True)\n",
        "optimizer = tf.keras.optimizers.Adam(learning_rate=5e-4)\n",
        "train_accuracy = tf.metrics.SparseCategoricalAccuracy()\n",
        "\n",
        "def loss_function(y_true, y_pred):\n",
        "    loss = loss_object(y_true, y_pred)\n",
        "    mask = 1 - tf.cast(tf.equal(y_true, 0), 'float32')\n",
        "    return tf.reduce_mean(loss * mask)"
      ],
      "execution_count": 21,
      "outputs": []
    },
    {
      "cell_type": "code",
      "metadata": {
        "id": "NHKy9PWKTn2G",
        "colab_type": "code",
        "colab": {}
      },
      "source": [
        "def training_step(inputs, responses):    \n",
        "    with tf.GradientTape() as Tape:\n",
        "        encoder_init_state = encoder.initial_hidden_state()\n",
        "        encoder_output, encoder_hidden_state = encoder(inputs, encoder_init_state, training=True)\n",
        "        decoder_hidden = encoder_hidden_state\n",
        "        loss = 0\n",
        "        acc = []\n",
        "        current_word = tf.expand_dims(responses[:, 0], axis=1)\n",
        "        for word_idx in range(1, max_sequence_len):\n",
        "            next_word = responses[:, word_idx]\n",
        "            logits, decoder_hidden, attention_weights = decoder(current_word, encoder_output, decoder_hidden)\n",
        "            loss += loss_function(next_word, logits)\n",
        "            acc.append(train_accuracy(next_word, logits))\n",
        "            current_word = tf.expand_dims(next_word, axis=1)\n",
        "    variables = encoder.trainable_variables + decoder.trainable_variables\n",
        "    gradients = Tape.gradient(loss, variables)\n",
        "    optimizer.apply_gradients(zip(gradients, variables))\n",
        "    return loss, tf.reduce_mean(acc)\n",
        "\n",
        "encoder = Encoder()\n",
        "decoder = Decoder()"
      ],
      "execution_count": 22,
      "outputs": []
    },
    {
      "cell_type": "code",
      "metadata": {
        "id": "uZ8j4rDNynN_",
        "colab_type": "code",
        "colab": {
          "base_uri": "https://localhost:8080/",
          "height": 1000
        },
        "outputId": "bbc4a7e1-855c-4b21-942d-a55eab0f60ef"
      },
      "source": [
        "epochs = 20\n",
        "NUM_SAMPLES = len(X_train)\n",
        "num_steps = NUM_SAMPLES // batch_size\n",
        "\n",
        "for epoch in range(1, epochs + 1):\n",
        "    print(f'Epoch {epoch}/{epochs}')\n",
        "    ep_loss = []\n",
        "    ep_acc = []\n",
        "    progbar = tf.keras.utils.Progbar(target=num_steps, stateful_metrics=[\n",
        "                                     'curr_loss', 'curr_accuracy'], unit_name='batch')\n",
        "\n",
        "    for step, example in enumerate(train_dataset):\n",
        "        inputs = example[0]\n",
        "        responses = example[1]\n",
        "        loss, acc = training_step(inputs, responses)\n",
        "        loss /= responses.shape[1]\n",
        "        ep_loss.append(loss)\n",
        "        ep_acc.append(acc)\n",
        "        progbar.update(\n",
        "            step + 1, values=[('curr_loss', loss), ('curr_accuracy', acc)])\n",
        "\n",
        "    print(f'Metrics after epoch {epoch} : Loss => {np.mean(ep_loss):.3f} | Accuracy => {np.mean(ep_acc):.3f}')\n"
      ],
      "execution_count": 23,
      "outputs": [
        {
          "output_type": "stream",
          "text": [
            "Epoch 1/20\n",
            "625/625 [==============================] - 445s 712ms/batch - curr_loss: 0.4651 - curr_accuracy: 0.8725\n",
            "Metrics after epoch 1 : Loss => 0.502 | Accuracy => 0.781\n",
            "Epoch 2/20\n",
            "625/625 [==============================] - 440s 704ms/batch - curr_loss: 0.4264 - curr_accuracy: 0.8907\n",
            "Metrics after epoch 2 : Loss => 0.406 | Accuracy => 0.885\n",
            "Epoch 3/20\n",
            "625/625 [==============================] - 437s 699ms/batch - curr_loss: 0.3682 - curr_accuracy: 0.8986\n",
            "Metrics after epoch 3 : Loss => 0.359 | Accuracy => 0.896\n",
            "Epoch 4/20\n",
            "625/625 [==============================] - 438s 701ms/batch - curr_loss: 0.3754 - curr_accuracy: 0.9039\n",
            "Metrics after epoch 4 : Loss => 0.324 | Accuracy => 0.902\n",
            "Epoch 5/20\n",
            "625/625 [==============================] - 438s 701ms/batch - curr_loss: 0.3594 - curr_accuracy: 0.9083\n",
            "Metrics after epoch 5 : Loss => 0.293 | Accuracy => 0.906\n",
            "Epoch 6/20\n",
            "625/625 [==============================] - 444s 711ms/batch - curr_loss: 0.3103 - curr_accuracy: 0.9123\n",
            "Metrics after epoch 6 : Loss => 0.263 | Accuracy => 0.910\n",
            "Epoch 7/20\n",
            "625/625 [==============================] - 441s 706ms/batch - curr_loss: 0.2960 - curr_accuracy: 0.9160\n",
            "Metrics after epoch 7 : Loss => 0.235 | Accuracy => 0.914\n",
            "Epoch 8/20\n",
            "625/625 [==============================] - 438s 701ms/batch - curr_loss: 0.2504 - curr_accuracy: 0.9196\n",
            "Metrics after epoch 8 : Loss => 0.207 | Accuracy => 0.918\n",
            "Epoch 9/20\n",
            "625/625 [==============================] - 436s 697ms/batch - curr_loss: 0.2482 - curr_accuracy: 0.9230\n",
            "Metrics after epoch 9 : Loss => 0.182 | Accuracy => 0.921\n",
            "Epoch 10/20\n",
            "625/625 [==============================] - 436s 697ms/batch - curr_loss: 0.2355 - curr_accuracy: 0.9261\n",
            "Metrics after epoch 10 : Loss => 0.161 | Accuracy => 0.925\n",
            "Epoch 11/20\n",
            "625/625 [==============================] - 435s 697ms/batch - curr_loss: 0.2024 - curr_accuracy: 0.9289\n",
            "Metrics after epoch 11 : Loss => 0.145 | Accuracy => 0.927\n",
            "Epoch 12/20\n",
            "625/625 [==============================] - 439s 702ms/batch - curr_loss: 0.1746 - curr_accuracy: 0.9315\n",
            "Metrics after epoch 12 : Loss => 0.132 | Accuracy => 0.930\n",
            "Epoch 13/20\n",
            "625/625 [==============================] - 441s 705ms/batch - curr_loss: 0.1668 - curr_accuracy: 0.9338\n",
            "Metrics after epoch 13 : Loss => 0.122 | Accuracy => 0.933\n",
            "Epoch 14/20\n",
            "625/625 [==============================] - 445s 711ms/batch - curr_loss: 0.1505 - curr_accuracy: 0.9359\n",
            "Metrics after epoch 14 : Loss => 0.114 | Accuracy => 0.935\n",
            "Epoch 15/20\n",
            "625/625 [==============================] - 437s 699ms/batch - curr_loss: 0.1305 - curr_accuracy: 0.9378\n",
            "Metrics after epoch 15 : Loss => 0.108 | Accuracy => 0.937\n",
            "Epoch 16/20\n",
            "625/625 [==============================] - 435s 697ms/batch - curr_loss: 0.1197 - curr_accuracy: 0.9395\n",
            "Metrics after epoch 16 : Loss => 0.103 | Accuracy => 0.939\n",
            "Epoch 17/20\n",
            "625/625 [==============================] - 431s 690ms/batch - curr_loss: 0.1314 - curr_accuracy: 0.9411\n",
            "Metrics after epoch 17 : Loss => 0.100 | Accuracy => 0.940\n",
            "Epoch 18/20\n",
            "625/625 [==============================] - 433s 693ms/batch - curr_loss: 0.1344 - curr_accuracy: 0.9424\n",
            "Metrics after epoch 18 : Loss => 0.098 | Accuracy => 0.942\n",
            "Epoch 19/20\n",
            "625/625 [==============================] - 433s 694ms/batch - curr_loss: 0.1111 - curr_accuracy: 0.9437\n",
            "Metrics after epoch 19 : Loss => 0.094 | Accuracy => 0.943\n",
            "Epoch 20/20\n",
            "625/625 [==============================] - 435s 696ms/batch - curr_loss: 0.1031 - curr_accuracy: 0.9449\n",
            "Metrics after epoch 20 : Loss => 0.090 | Accuracy => 0.944\n"
          ],
          "name": "stdout"
        }
      ]
    },
    {
      "cell_type": "code",
      "metadata": {
        "id": "JgaKbymKYeJA",
        "colab_type": "code",
        "colab": {
          "base_uri": "https://localhost:8080/",
          "height": 231
        },
        "outputId": "6882a956-8aa7-46de-ecfe-00f290f39818"
      },
      "source": [
        "import matplotlib.pyplot as plt\n",
        "\n",
        "loss = []\n",
        "accuracy = []\n",
        "\n",
        "for i in ep_loss:\n",
        "  temp = float(i)\n",
        "  loss_temp.append(temp)\n",
        "  loss.append(np.mean(loss_temp))\n",
        "  \n",
        "plt.plot(loss)\n",
        "plt.xlabel(\"Epochs\")\n",
        "plt.ylabel(\"Loss\")\n",
        "plt.show()"
      ],
      "execution_count": 24,
      "outputs": [
        {
          "output_type": "error",
          "ename": "NameError",
          "evalue": "ignored",
          "traceback": [
            "\u001b[0;31m---------------------------------------------------------------------------\u001b[0m",
            "\u001b[0;31mNameError\u001b[0m                                 Traceback (most recent call last)",
            "\u001b[0;32m<ipython-input-24-cbeda487bcf1>\u001b[0m in \u001b[0;36m<module>\u001b[0;34m()\u001b[0m\n\u001b[1;32m      6\u001b[0m \u001b[0;32mfor\u001b[0m \u001b[0mi\u001b[0m \u001b[0;32min\u001b[0m \u001b[0mep_loss\u001b[0m\u001b[0;34m:\u001b[0m\u001b[0;34m\u001b[0m\u001b[0;34m\u001b[0m\u001b[0m\n\u001b[1;32m      7\u001b[0m   \u001b[0mtemp\u001b[0m \u001b[0;34m=\u001b[0m \u001b[0mfloat\u001b[0m\u001b[0;34m(\u001b[0m\u001b[0mi\u001b[0m\u001b[0;34m)\u001b[0m\u001b[0;34m\u001b[0m\u001b[0;34m\u001b[0m\u001b[0m\n\u001b[0;32m----> 8\u001b[0;31m   \u001b[0mloss_temp\u001b[0m\u001b[0;34m.\u001b[0m\u001b[0mappend\u001b[0m\u001b[0;34m(\u001b[0m\u001b[0mtemp\u001b[0m\u001b[0;34m)\u001b[0m\u001b[0;34m\u001b[0m\u001b[0;34m\u001b[0m\u001b[0m\n\u001b[0m\u001b[1;32m      9\u001b[0m   \u001b[0mloss\u001b[0m\u001b[0;34m.\u001b[0m\u001b[0mappend\u001b[0m\u001b[0;34m(\u001b[0m\u001b[0mnp\u001b[0m\u001b[0;34m.\u001b[0m\u001b[0mmean\u001b[0m\u001b[0;34m(\u001b[0m\u001b[0mloss_temp\u001b[0m\u001b[0;34m)\u001b[0m\u001b[0;34m)\u001b[0m\u001b[0;34m\u001b[0m\u001b[0;34m\u001b[0m\u001b[0m\n\u001b[1;32m     10\u001b[0m \u001b[0;34m\u001b[0m\u001b[0m\n",
            "\u001b[0;31mNameError\u001b[0m: name 'loss_temp' is not defined"
          ]
        }
      ]
    },
    {
      "cell_type": "code",
      "metadata": {
        "id": "8Tp4DGSpPgCh",
        "colab_type": "code",
        "colab": {}
      },
      "source": [
        "def translate_sentence(sentence):\n",
        "    sentence = preprocess([sentence])\n",
        "    enc_init = tf.zeros(shape=[1, 1024])\n",
        "    enc_out, enc_hidden = encoder(sentence, enc_init)\n",
        "    decoder.batch_size = 1\n",
        "    tokenizer.index_word[0] = ''\n",
        "    decoded = []\n",
        "    att = []\n",
        "    current_word = tf.expand_dims([word_index['startsent']], axis=0) \n",
        "    decoder_hidden = enc_hidden\n",
        "    for word_idx in range(1, max_sequence_len):\n",
        "        logits, decoder_hidden, attention_weights = decoder(current_word, enc_out, decoder_hidden)\n",
        "        decoded_idx = np.argmax(logits)\n",
        "        if index_word[decoded_idx] == 'endsent':\n",
        "            break\n",
        "        decoded.append(tokenizer.index_word[decoded_idx])\n",
        "        att.append(attention_weights.numpy().squeeze())\n",
        "        current_word = tf.expand_dims([decoded_idx], axis=0)\n",
        "    return ' '.join(decoded), att\n"
      ],
      "execution_count": 25,
      "outputs": []
    },
    {
      "cell_type": "code",
      "metadata": {
        "id": "4cPmoY8PdzYa",
        "colab_type": "code",
        "colab": {
          "base_uri": "https://localhost:8080/",
          "height": 629
        },
        "outputId": "8382578c-2830-47a6-ed29-d431fc085f0d"
      },
      "source": [
        "\n",
        "sentences = ['what do you want ?',\n",
        "             'are you mad ?',\n",
        "             'who are you?',\n",
        "             'the exam is going to be hard', \n",
        "             'do you want to play with me ?',\n",
        "             'i love you', \n",
        "             'how are you doing ?', \n",
        "             'i should tell you that i am quite dangerous',\n",
        "             'PLease help me',\n",
        "             'I am happy',\n",
        "             'Do you have any idea of how to use it ?',\n",
        "             'Am I mad?']\n",
        "\n",
        "for inp_sentence in sentences:\n",
        "    inp_array = inp_sentence.split()\n",
        "    inp_len = len(inp_sentence.split())\n",
        "    trans_sentence, attention_weights = translate_sentence(inp_sentence)\n",
        "    trans_array = trans_sentence.split()\n",
        "    trans_len = len(trans_array)\n",
        "    print('INPUT : ', inp_sentence)\n",
        "    print('RESPONSE : ', trans_sentence)\n",
        "    print('-'*30)"
      ],
      "execution_count": 26,
      "outputs": [
        {
          "output_type": "stream",
          "text": [
            "INPUT :  what do you want ?\n",
            "RESPONSE :  i was passing\n",
            "------------------------------\n",
            "INPUT :  are you mad ?\n",
            "RESPONSE :  why do you close\n",
            "------------------------------\n",
            "INPUT :  who are you?\n",
            "RESPONSE :  where do i want to leave\n",
            "------------------------------\n",
            "INPUT :  the exam is going to be hard\n",
            "RESPONSE :  get up\n",
            "------------------------------\n",
            "INPUT :  do you want to play with me ?\n",
            "RESPONSE :  i do not know\n",
            "------------------------------\n",
            "INPUT :  i love you\n",
            "RESPONSE :  i always have\n",
            "------------------------------\n",
            "INPUT :  how are you doing ?\n",
            "RESPONSE :  at zero\n",
            "------------------------------\n",
            "INPUT :  i should tell you that i am quite dangerous\n",
            "RESPONSE :  do not worry\n",
            "------------------------------\n",
            "INPUT :  PLease help me\n",
            "RESPONSE :  they lie\n",
            "------------------------------\n",
            "INPUT :  I am happy\n",
            "RESPONSE :  i go from arsha\n",
            "------------------------------\n",
            "INPUT :  Do you have any idea of how to use it ?\n",
            "RESPONSE :  and the matches\n",
            "------------------------------\n",
            "INPUT :  Am I mad?\n",
            "RESPONSE :  oh yes\n",
            "------------------------------\n"
          ],
          "name": "stdout"
        }
      ]
    }
  ]
}