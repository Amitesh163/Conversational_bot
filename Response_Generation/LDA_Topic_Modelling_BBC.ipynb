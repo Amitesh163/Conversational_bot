{
  "nbformat": 4,
  "nbformat_minor": 0,
  "metadata": {
    "colab": {
      "name": "LDA_Topic_Modelling_BBC",
      "provenance": [],
      "collapsed_sections": []
    },
    "kernelspec": {
      "display_name": "Python 3",
      "name": "python3"
    },
    "accelerator": "GPU"
  },
  "cells": [
    {
      "cell_type": "markdown",
      "metadata": {
        "colab_type": "text",
        "id": "tMce8muBqXQP"
      },
      "source": [
        "# Tensorflow with GPU\n",
        "\n",
        "This notebook provides an introduction to computing on a [GPU](https://cloud.google.com/gpu) in Colab. In this notebook you will connect to a GPU, and then run some basic TensorFlow operations on both the CPU and a GPU, observing the speedup provided by using the GPU.\n"
      ]
    },
    {
      "cell_type": "markdown",
      "metadata": {
        "colab_type": "text",
        "id": "oM_8ELnJq_wd"
      },
      "source": [
        "## Enabling and testing the GPU\n",
        "\n",
        "First, you'll need to enable GPUs for the notebook:\n",
        "\n",
        "- Navigate to Edit→Notebook Settings\n",
        "- select GPU from the Hardware Accelerator drop-down\n",
        "\n",
        "Next, we'll confirm that we can connect to the GPU with tensorflow:"
      ]
    },
    {
      "cell_type": "code",
      "metadata": {
        "colab_type": "code",
        "id": "sXnDmXR7RDr2",
        "colab": {
          "base_uri": "https://localhost:8080/",
          "height": 34
        },
        "outputId": "1853425f-088c-4d0b-ec67-8fb08800387e"
      },
      "source": [
        "%tensorflow_version 2.x\n",
        "import tensorflow as tf\n",
        "device_name = tf.test.gpu_device_name()\n",
        "if device_name != '/device:GPU:0':\n",
        "  raise SystemError('GPU device not found')\n",
        "print('Found GPU at: {}'.format(device_name))"
      ],
      "execution_count": 1,
      "outputs": [
        {
          "output_type": "stream",
          "text": [
            "Found GPU at: /device:GPU:0\n"
          ],
          "name": "stdout"
        }
      ]
    },
    {
      "cell_type": "code",
      "metadata": {
        "id": "CHrV3L78vU2_",
        "colab_type": "code",
        "colab": {}
      },
      "source": [
        "import pandas as pd\n",
        "\n",
        "data = pd.read_csv('abcnews-date-text.csv', error_bad_lines=False)\n",
        "data_text = data[['headline_text']]\n",
        "data_text['index'] = data_text.index\n",
        "documents = data_text"
      ],
      "execution_count": 2,
      "outputs": []
    },
    {
      "cell_type": "code",
      "metadata": {
        "id": "_nuewWzgynkV",
        "colab_type": "code",
        "colab": {
          "base_uri": "https://localhost:8080/",
          "height": 136
        },
        "outputId": "a0710875-eb23-4e77-efc9-62a96a0a5c1b"
      },
      "source": [
        "print(len(documents))\n",
        "print(documents[:5])"
      ],
      "execution_count": 3,
      "outputs": [
        {
          "output_type": "stream",
          "text": [
            "404720\n",
            "                                       headline_text  index\n",
            "0  aba decides against community broadcasting lic...      0\n",
            "1     act fire witnesses must be aware of defamation      1\n",
            "2     a g calls for infrastructure protection summit      2\n",
            "3           air nz staff in aust strike for pay rise      3\n",
            "4      air nz strike to affect australian travellers      4\n"
          ],
          "name": "stdout"
        }
      ]
    },
    {
      "cell_type": "code",
      "metadata": {
        "id": "jOp1nues1iNt",
        "colab_type": "code",
        "colab": {
          "base_uri": "https://localhost:8080/",
          "height": 68
        },
        "outputId": "a037c850-ec58-43c2-f758-dc60f9dcdc40"
      },
      "source": [
        "import gensim\n",
        "from gensim.utils import simple_preprocess\n",
        "from gensim.parsing.preprocessing import STOPWORDS\n",
        "from nltk.stem import WordNetLemmatizer, PorterStemmer\n",
        "from nltk.stem.porter import *\n",
        "import numpy as np\n",
        "np.random.seed(2018)\n",
        "import nltk\n",
        "nltk.download('wordnet')"
      ],
      "execution_count": 25,
      "outputs": [
        {
          "output_type": "stream",
          "text": [
            "[nltk_data] Downloading package wordnet to /root/nltk_data...\n",
            "[nltk_data]   Package wordnet is already up-to-date!\n"
          ],
          "name": "stdout"
        },
        {
          "output_type": "execute_result",
          "data": {
            "text/plain": [
              "True"
            ]
          },
          "metadata": {
            "tags": []
          },
          "execution_count": 25
        }
      ]
    },
    {
      "cell_type": "code",
      "metadata": {
        "id": "HQW1cafW2bFy",
        "colab_type": "code",
        "colab": {}
      },
      "source": [
        "stemmer = PorterStemmer()\n",
        "\n",
        "def lemmatize_stemming(text):\n",
        "    x = WordNetLemmatizer().lemmatize(text, pos='v')\n",
        "    return stemmer.stem(x)\n",
        "def preprocess(text):\n",
        "    result = []\n",
        "    for token in gensim.utils.simple_preprocess(text):\n",
        "        if token not in gensim.parsing.preprocessing.STOPWORDS and len(token) > 3:\n",
        "            result.append(lemmatize_stemming(token))\n",
        "    return result"
      ],
      "execution_count": 26,
      "outputs": []
    },
    {
      "cell_type": "code",
      "metadata": {
        "id": "hlrkSVIl2jPl",
        "colab_type": "code",
        "colab": {
          "base_uri": "https://localhost:8080/",
          "height": 119
        },
        "outputId": "944c5bac-bdcd-4153-bfdd-742ddee9155c"
      },
      "source": [
        "doc_sample = documents[documents['index'] == 4310].values[0][0]\n",
        "print('original document: ')\n",
        "words = []\n",
        "for word in doc_sample.split(' '):\n",
        "    words.append(word)\n",
        "print(words)\n",
        "print('\\n\\n tokenized and lemmatized document: ')\n",
        "print(preprocess(doc_sample))"
      ],
      "execution_count": 27,
      "outputs": [
        {
          "output_type": "stream",
          "text": [
            "original document: \n",
            "['ratepayers', 'group', 'wants', 'compulsory', 'local', 'govt', 'voting']\n",
            "\n",
            "\n",
            " tokenized and lemmatized document: \n",
            "['ratepay', 'group', 'want', 'compulsori', 'local', 'govt', 'vote']\n"
          ],
          "name": "stdout"
        }
      ]
    },
    {
      "cell_type": "code",
      "metadata": {
        "id": "zdq-tOfd2o1P",
        "colab_type": "code",
        "colab": {
          "base_uri": "https://localhost:8080/",
          "height": 204
        },
        "outputId": "ee1cfc16-98b4-4065-ed04-1afca8be13f3"
      },
      "source": [
        "processed_docs = documents['headline_text'].map(preprocess)\n",
        "processed_docs[:10]"
      ],
      "execution_count": 28,
      "outputs": [
        {
          "output_type": "execute_result",
          "data": {
            "text/plain": [
              "0               [decid, commun, broadcast, licenc]\n",
              "1                               [wit, awar, defam]\n",
              "2           [call, infrastructur, protect, summit]\n",
              "3                      [staff, aust, strike, rise]\n",
              "4             [strike, affect, australian, travel]\n",
              "5               [ambiti, olsson, win, tripl, jump]\n",
              "6           [antic, delight, record, break, barca]\n",
              "7    [aussi, qualifi, stosur, wast, memphi, match]\n",
              "8            [aust, address, secur, council, iraq]\n",
              "9                         [australia, lock, timet]\n",
              "Name: headline_text, dtype: object"
            ]
          },
          "metadata": {
            "tags": []
          },
          "execution_count": 28
        }
      ]
    },
    {
      "cell_type": "code",
      "metadata": {
        "id": "DcepWKqWFWbI",
        "colab_type": "code",
        "colab": {
          "base_uri": "https://localhost:8080/",
          "height": 204
        },
        "outputId": "6a949017-4336-4bc9-d15b-c061a61945e9"
      },
      "source": [
        "dictionary = gensim.corpora.Dictionary(processed_docs)\n",
        "count = 0\n",
        "for k, v in dictionary.iteritems():\n",
        "    print(k, v)\n",
        "    count += 1\n",
        "    if count > 10:\n",
        "        break"
      ],
      "execution_count": 29,
      "outputs": [
        {
          "output_type": "stream",
          "text": [
            "0 broadcast\n",
            "1 commun\n",
            "2 decid\n",
            "3 licenc\n",
            "4 awar\n",
            "5 defam\n",
            "6 wit\n",
            "7 call\n",
            "8 infrastructur\n",
            "9 protect\n",
            "10 summit\n"
          ],
          "name": "stdout"
        }
      ]
    },
    {
      "cell_type": "code",
      "metadata": {
        "id": "99qh_rFWFY2f",
        "colab_type": "code",
        "colab": {}
      },
      "source": [
        "dictionary.filter_extremes(no_below=15, no_above=0.5, keep_n=100000)"
      ],
      "execution_count": 30,
      "outputs": []
    },
    {
      "cell_type": "code",
      "metadata": {
        "id": "lLrzuVHgFldB",
        "colab_type": "code",
        "colab": {
          "base_uri": "https://localhost:8080/",
          "height": 34
        },
        "outputId": "7f9fd7dc-8e48-4dae-af5f-65aff1d134c9"
      },
      "source": [
        "bow_corpus = [dictionary.doc2bow(doc) for doc in processed_docs]\n",
        "bow_corpus[4310]"
      ],
      "execution_count": 31,
      "outputs": [
        {
          "output_type": "execute_result",
          "data": {
            "text/plain": [
              "[(159, 1), (233, 1), (282, 1), (570, 1), (815, 1), (3301, 1), (3302, 1)]"
            ]
          },
          "metadata": {
            "tags": []
          },
          "execution_count": 31
        }
      ]
    },
    {
      "cell_type": "code",
      "metadata": {
        "id": "n5qdyEkzFpZ-",
        "colab_type": "code",
        "colab": {
          "base_uri": "https://localhost:8080/",
          "height": 136
        },
        "outputId": "7310546f-e9a7-4e56-ac2b-94616a764007"
      },
      "source": [
        "bow_doc_4310 = bow_corpus[4310]\n",
        "for i in range(len(bow_doc_4310)):\n",
        "    print(\"Word {} (\\\"{}\\\") appears {} time.\".format(bow_doc_4310[i][0], \n",
        "                                               dictionary[bow_doc_4310[i][0]], \n",
        "bow_doc_4310[i][1]))"
      ],
      "execution_count": 32,
      "outputs": [
        {
          "output_type": "stream",
          "text": [
            "Word 159 (\"govt\") appears 1 time.\n",
            "Word 233 (\"group\") appears 1 time.\n",
            "Word 282 (\"vote\") appears 1 time.\n",
            "Word 570 (\"local\") appears 1 time.\n",
            "Word 815 (\"want\") appears 1 time.\n",
            "Word 3301 (\"compulsori\") appears 1 time.\n",
            "Word 3302 (\"ratepay\") appears 1 time.\n"
          ],
          "name": "stdout"
        }
      ]
    },
    {
      "cell_type": "code",
      "metadata": {
        "id": "UXAeS2EMFpbp",
        "colab_type": "code",
        "colab": {
          "base_uri": "https://localhost:8080/",
          "height": 85
        },
        "outputId": "63449c2f-e3ed-438a-e976-1622fc18d0c0"
      },
      "source": [
        "from gensim import corpora, models\n",
        "tfidf = models.TfidfModel(bow_corpus)\n",
        "corpus_tfidf = tfidf[bow_corpus]\n",
        "from pprint import pprint\n",
        "for doc in corpus_tfidf:\n",
        "    pprint(doc)\n",
        "    break"
      ],
      "execution_count": 33,
      "outputs": [
        {
          "output_type": "stream",
          "text": [
            "[(0, 0.5988915696116912),\n",
            " (1, 0.38632666708232094),\n",
            " (2, 0.4843588629673915),\n",
            " (3, 0.5074219999310693)]\n"
          ],
          "name": "stdout"
        }
      ]
    },
    {
      "cell_type": "code",
      "metadata": {
        "id": "JO3kPuOnFpeZ",
        "colab_type": "code",
        "colab": {}
      },
      "source": [
        "lda_model = gensim.models.LdaMulticore(bow_corpus, num_topics=10, id2word=dictionary, passes=2, workers=2)"
      ],
      "execution_count": 34,
      "outputs": []
    },
    {
      "cell_type": "code",
      "metadata": {
        "id": "65eI1obAFpgo",
        "colab_type": "code",
        "colab": {
          "base_uri": "https://localhost:8080/",
          "height": 377
        },
        "outputId": "bf5d87a0-546b-453a-969d-91aee6aa90a7"
      },
      "source": [
        "for idx, topic in lda_model.print_topics(-1):\n",
        "    print('Topic: {} \\nWords: {}'.format(idx, topic))"
      ],
      "execution_count": 35,
      "outputs": [
        {
          "output_type": "stream",
          "text": [
            "Topic: 0 \n",
            "Words: 0.023*\"power\" + 0.022*\"court\" + 0.019*\"tell\" + 0.018*\"driver\" + 0.016*\"trial\" + 0.015*\"accus\" + 0.015*\"appeal\" + 0.014*\"lose\" + 0.012*\"case\" + 0.012*\"studi\"\n",
            "Topic: 1 \n",
            "Words: 0.042*\"govt\" + 0.028*\"plan\" + 0.027*\"council\" + 0.022*\"water\" + 0.018*\"fund\" + 0.016*\"urg\" + 0.015*\"health\" + 0.013*\"group\" + 0.011*\"hospit\" + 0.011*\"indigen\"\n",
            "Topic: 2 \n",
            "Words: 0.028*\"hous\" + 0.019*\"elect\" + 0.015*\"time\" + 0.015*\"offer\" + 0.011*\"opposit\" + 0.010*\"promis\" + 0.010*\"drive\" + 0.010*\"poll\" + 0.010*\"say\" + 0.009*\"pledg\"\n",
            "Topic: 3 \n",
            "Words: 0.070*\"polic\" + 0.034*\"charg\" + 0.023*\"crash\" + 0.023*\"death\" + 0.018*\"miss\" + 0.018*\"murder\" + 0.017*\"jail\" + 0.017*\"sydney\" + 0.017*\"rudd\" + 0.015*\"investig\"\n",
            "Topic: 4 \n",
            "Words: 0.029*\"face\" + 0.021*\"open\" + 0.018*\"lead\" + 0.017*\"market\" + 0.016*\"olymp\" + 0.013*\"world\" + 0.013*\"final\" + 0.012*\"aussi\" + 0.011*\"win\" + 0.011*\"race\"\n",
            "Topic: 5 \n",
            "Words: 0.021*\"year\" + 0.015*\"get\" + 0.015*\"busi\" + 0.013*\"begin\" + 0.011*\"work\" + 0.011*\"green\" + 0.010*\"industri\" + 0.010*\"drop\" + 0.009*\"tourism\" + 0.009*\"need\"\n",
            "Topic: 6 \n",
            "Words: 0.033*\"warn\" + 0.022*\"price\" + 0.021*\"drug\" + 0.020*\"fear\" + 0.020*\"worker\" + 0.017*\"deal\" + 0.015*\"victim\" + 0.012*\"park\" + 0.012*\"fuel\" + 0.010*\"blaze\"\n",
            "Topic: 7 \n",
            "Words: 0.026*\"talk\" + 0.023*\"claim\" + 0.017*\"coast\" + 0.016*\"gold\" + 0.014*\"head\" + 0.012*\"north\" + 0.012*\"mayor\" + 0.012*\"meet\" + 0.012*\"labor\" + 0.010*\"south\"\n",
            "Topic: 8 \n",
            "Words: 0.016*\"farmer\" + 0.013*\"climat\" + 0.013*\"bodi\" + 0.012*\"drought\" + 0.012*\"chang\" + 0.011*\"rain\" + 0.011*\"trade\" + 0.010*\"compani\" + 0.010*\"free\" + 0.009*\"cancer\"\n",
            "Topic: 9 \n",
            "Words: 0.034*\"kill\" + 0.018*\"protest\" + 0.017*\"attack\" + 0.017*\"nation\" + 0.016*\"iraq\" + 0.014*\"china\" + 0.013*\"aust\" + 0.013*\"closer\" + 0.013*\"australia\" + 0.012*\"bomb\"\n"
          ],
          "name": "stdout"
        }
      ]
    },
    {
      "cell_type": "code",
      "metadata": {
        "id": "Nbd-N3siFpkJ",
        "colab_type": "code",
        "colab": {
          "base_uri": "https://localhost:8080/",
          "height": 207
        },
        "outputId": "0ba06f72-0355-4ddf-e237-c31b4ea16106"
      },
      "source": [
        "lda_model_tfidf = gensim.models.LdaMulticore(corpus_tfidf, num_topics=10, id2word=dictionary, passes=2, workers=4)\n",
        "for idx, topic in lda_model_tfidf.print_topics(-1):\n",
        "    print('Topic: {} Word: {}'.format(idx, topic))"
      ],
      "execution_count": 36,
      "outputs": [
        {
          "output_type": "stream",
          "text": [
            "Topic: 0 Word: 0.019*\"crash\" + 0.010*\"die\" + 0.010*\"fatal\" + 0.008*\"polic\" + 0.007*\"road\" + 0.007*\"truck\" + 0.007*\"driver\" + 0.006*\"accid\" + 0.006*\"nelson\" + 0.005*\"iemma\"\n",
            "Topic: 1 Word: 0.013*\"price\" + 0.010*\"rise\" + 0.006*\"toll\" + 0.006*\"wind\" + 0.006*\"farm\" + 0.006*\"petrol\" + 0.006*\"rat\" + 0.006*\"takeov\" + 0.005*\"nurs\" + 0.005*\"bendigo\"\n",
            "Topic: 2 Word: 0.009*\"climat\" + 0.007*\"water\" + 0.006*\"timor\" + 0.006*\"talk\" + 0.005*\"chang\" + 0.005*\"east\" + 0.005*\"alcohol\" + 0.005*\"farmer\" + 0.005*\"govt\" + 0.005*\"korea\"\n",
            "Topic: 3 Word: 0.030*\"closer\" + 0.017*\"interview\" + 0.005*\"john\" + 0.004*\"bird\" + 0.004*\"pulp\" + 0.004*\"christma\" + 0.004*\"kangaroo\" + 0.004*\"human\" + 0.004*\"global\" + 0.004*\"titl\"\n",
            "Topic: 4 Word: 0.010*\"beij\" + 0.008*\"cancer\" + 0.008*\"olymp\" + 0.006*\"bash\" + 0.006*\"arm\" + 0.005*\"medic\" + 0.005*\"hick\" + 0.005*\"final\" + 0.004*\"polic\" + 0.004*\"treatment\"\n",
            "Topic: 5 Word: 0.005*\"aussi\" + 0.005*\"australia\" + 0.005*\"liber\" + 0.005*\"england\" + 0.005*\"world\" + 0.005*\"weather\" + 0.005*\"list\" + 0.005*\"break\" + 0.005*\"hill\" + 0.005*\"season\"\n",
            "Topic: 6 Word: 0.014*\"rudd\" + 0.009*\"labor\" + 0.009*\"govt\" + 0.008*\"elect\" + 0.007*\"plan\" + 0.006*\"poll\" + 0.005*\"howard\" + 0.005*\"say\" + 0.005*\"chang\" + 0.005*\"govern\"\n",
            "Topic: 7 Word: 0.022*\"charg\" + 0.019*\"court\" + 0.014*\"murder\" + 0.012*\"jail\" + 0.011*\"face\" + 0.011*\"assault\" + 0.010*\"polic\" + 0.010*\"accus\" + 0.009*\"guilti\" + 0.009*\"drug\"\n",
            "Topic: 8 Word: 0.022*\"kill\" + 0.017*\"polic\" + 0.014*\"miss\" + 0.012*\"dead\" + 0.011*\"search\" + 0.010*\"attack\" + 0.009*\"bomb\" + 0.008*\"shoot\" + 0.007*\"blast\" + 0.007*\"arrest\"\n",
            "Topic: 9 Word: 0.010*\"govt\" + 0.009*\"health\" + 0.009*\"fund\" + 0.008*\"council\" + 0.008*\"plan\" + 0.006*\"servic\" + 0.006*\"boost\" + 0.006*\"hospit\" + 0.006*\"urg\" + 0.005*\"indigen\"\n"
          ],
          "name": "stdout"
        }
      ]
    },
    {
      "cell_type": "code",
      "metadata": {
        "id": "onlGYx8EFppj",
        "colab_type": "code",
        "colab": {
          "base_uri": "https://localhost:8080/",
          "height": 34
        },
        "outputId": "14a78fbf-80da-4351-a04e-7284452f43f7"
      },
      "source": [
        "processed_docs[4310]"
      ],
      "execution_count": 37,
      "outputs": [
        {
          "output_type": "execute_result",
          "data": {
            "text/plain": [
              "['ratepay', 'group', 'want', 'compulsori', 'local', 'govt', 'vote']"
            ]
          },
          "metadata": {
            "tags": []
          },
          "execution_count": 37
        }
      ]
    },
    {
      "cell_type": "code",
      "metadata": {
        "id": "_gCx6ipfFpsu",
        "colab_type": "code",
        "colab": {
          "base_uri": "https://localhost:8080/",
          "height": 547
        },
        "outputId": "1913ad0e-c611-42cc-f6b5-6f9cbcbb925d"
      },
      "source": [
        "for index, score in sorted(lda_model[bow_corpus[4310]], key=lambda tup: -1*tup[1]):\n",
        "    print(\"\\nScore: {}\\t \\nTopic: {}\".format(score, lda_model.print_topic(index, 10)))"
      ],
      "execution_count": 38,
      "outputs": [
        {
          "output_type": "stream",
          "text": [
            "\n",
            "Score: 0.8874948620796204\t \n",
            "Topic: 0.042*\"govt\" + 0.028*\"plan\" + 0.027*\"council\" + 0.022*\"water\" + 0.018*\"fund\" + 0.016*\"urg\" + 0.015*\"health\" + 0.013*\"group\" + 0.011*\"hospit\" + 0.011*\"indigen\"\n",
            "\n",
            "Score: 0.012502336874604225\t \n",
            "Topic: 0.026*\"talk\" + 0.023*\"claim\" + 0.017*\"coast\" + 0.016*\"gold\" + 0.014*\"head\" + 0.012*\"north\" + 0.012*\"mayor\" + 0.012*\"meet\" + 0.012*\"labor\" + 0.010*\"south\"\n",
            "\n",
            "Score: 0.012500844895839691\t \n",
            "Topic: 0.034*\"kill\" + 0.018*\"protest\" + 0.017*\"attack\" + 0.017*\"nation\" + 0.016*\"iraq\" + 0.014*\"china\" + 0.013*\"aust\" + 0.013*\"closer\" + 0.013*\"australia\" + 0.012*\"bomb\"\n",
            "\n",
            "Score: 0.012500814162194729\t \n",
            "Topic: 0.016*\"farmer\" + 0.013*\"climat\" + 0.013*\"bodi\" + 0.012*\"drought\" + 0.012*\"chang\" + 0.011*\"rain\" + 0.011*\"trade\" + 0.010*\"compani\" + 0.010*\"free\" + 0.009*\"cancer\"\n",
            "\n",
            "Score: 0.01250048354268074\t \n",
            "Topic: 0.028*\"hous\" + 0.019*\"elect\" + 0.015*\"time\" + 0.015*\"offer\" + 0.011*\"opposit\" + 0.010*\"promis\" + 0.010*\"drive\" + 0.010*\"poll\" + 0.010*\"say\" + 0.009*\"pledg\"\n",
            "\n",
            "Score: 0.012500403448939323\t \n",
            "Topic: 0.023*\"power\" + 0.022*\"court\" + 0.019*\"tell\" + 0.018*\"driver\" + 0.016*\"trial\" + 0.015*\"accus\" + 0.015*\"appeal\" + 0.014*\"lose\" + 0.012*\"case\" + 0.012*\"studi\"\n",
            "\n",
            "Score: 0.012500210665166378\t \n",
            "Topic: 0.021*\"year\" + 0.015*\"get\" + 0.015*\"busi\" + 0.013*\"begin\" + 0.011*\"work\" + 0.011*\"green\" + 0.010*\"industri\" + 0.010*\"drop\" + 0.009*\"tourism\" + 0.009*\"need\"\n",
            "\n",
            "Score: 0.012500012293457985\t \n",
            "Topic: 0.029*\"face\" + 0.021*\"open\" + 0.018*\"lead\" + 0.017*\"market\" + 0.016*\"olymp\" + 0.013*\"world\" + 0.013*\"final\" + 0.012*\"aussi\" + 0.011*\"win\" + 0.011*\"race\"\n",
            "\n",
            "Score: 0.012500012293457985\t \n",
            "Topic: 0.033*\"warn\" + 0.022*\"price\" + 0.021*\"drug\" + 0.020*\"fear\" + 0.020*\"worker\" + 0.017*\"deal\" + 0.015*\"victim\" + 0.012*\"park\" + 0.012*\"fuel\" + 0.010*\"blaze\"\n",
            "\n",
            "Score: 0.01250000111758709\t \n",
            "Topic: 0.070*\"polic\" + 0.034*\"charg\" + 0.023*\"crash\" + 0.023*\"death\" + 0.018*\"miss\" + 0.018*\"murder\" + 0.017*\"jail\" + 0.017*\"sydney\" + 0.017*\"rudd\" + 0.015*\"investig\"\n"
          ],
          "name": "stdout"
        }
      ]
    },
    {
      "cell_type": "code",
      "metadata": {
        "id": "3doOEvkPFpv0",
        "colab_type": "code",
        "colab": {
          "base_uri": "https://localhost:8080/",
          "height": 547
        },
        "outputId": "b5970fa8-9867-41ff-eb0e-7a945714f570"
      },
      "source": [
        "for index, score in sorted(lda_model_tfidf[bow_corpus[4310]], key=lambda tup: -1*tup[1]):\n",
        "    print(\"\\nScore: {}\\t \\nTopic: {}\".format(score, lda_model_tfidf.print_topic(index, 10)))"
      ],
      "execution_count": 39,
      "outputs": [
        {
          "output_type": "stream",
          "text": [
            "\n",
            "Score: 0.6190384030342102\t \n",
            "Topic: 0.010*\"govt\" + 0.009*\"health\" + 0.009*\"fund\" + 0.008*\"council\" + 0.008*\"plan\" + 0.006*\"servic\" + 0.006*\"boost\" + 0.006*\"hospit\" + 0.006*\"urg\" + 0.005*\"indigen\"\n",
            "\n",
            "Score: 0.28094929456710815\t \n",
            "Topic: 0.009*\"climat\" + 0.007*\"water\" + 0.006*\"timor\" + 0.006*\"talk\" + 0.005*\"chang\" + 0.005*\"east\" + 0.005*\"alcohol\" + 0.005*\"farmer\" + 0.005*\"govt\" + 0.005*\"korea\"\n",
            "\n",
            "Score: 0.012504156678915024\t \n",
            "Topic: 0.014*\"rudd\" + 0.009*\"labor\" + 0.009*\"govt\" + 0.008*\"elect\" + 0.007*\"plan\" + 0.006*\"poll\" + 0.005*\"howard\" + 0.005*\"say\" + 0.005*\"chang\" + 0.005*\"govern\"\n",
            "\n",
            "Score: 0.012501808814704418\t \n",
            "Topic: 0.013*\"price\" + 0.010*\"rise\" + 0.006*\"toll\" + 0.006*\"wind\" + 0.006*\"farm\" + 0.006*\"petrol\" + 0.006*\"rat\" + 0.006*\"takeov\" + 0.005*\"nurs\" + 0.005*\"bendigo\"\n",
            "\n",
            "Score: 0.01250174455344677\t \n",
            "Topic: 0.022*\"charg\" + 0.019*\"court\" + 0.014*\"murder\" + 0.012*\"jail\" + 0.011*\"face\" + 0.011*\"assault\" + 0.010*\"polic\" + 0.010*\"accus\" + 0.009*\"guilti\" + 0.009*\"drug\"\n",
            "\n",
            "Score: 0.012501263059675694\t \n",
            "Topic: 0.019*\"crash\" + 0.010*\"die\" + 0.010*\"fatal\" + 0.008*\"polic\" + 0.007*\"road\" + 0.007*\"truck\" + 0.007*\"driver\" + 0.006*\"accid\" + 0.006*\"nelson\" + 0.005*\"iemma\"\n",
            "\n",
            "Score: 0.012501124292612076\t \n",
            "Topic: 0.010*\"beij\" + 0.008*\"cancer\" + 0.008*\"olymp\" + 0.006*\"bash\" + 0.006*\"arm\" + 0.005*\"medic\" + 0.005*\"hick\" + 0.005*\"final\" + 0.004*\"polic\" + 0.004*\"treatment\"\n",
            "\n",
            "Score: 0.012500975281000137\t \n",
            "Topic: 0.030*\"closer\" + 0.017*\"interview\" + 0.005*\"john\" + 0.004*\"bird\" + 0.004*\"pulp\" + 0.004*\"christma\" + 0.004*\"kangaroo\" + 0.004*\"human\" + 0.004*\"global\" + 0.004*\"titl\"\n",
            "\n",
            "Score: 0.012500793673098087\t \n",
            "Topic: 0.005*\"aussi\" + 0.005*\"australia\" + 0.005*\"liber\" + 0.005*\"england\" + 0.005*\"world\" + 0.005*\"weather\" + 0.005*\"list\" + 0.005*\"break\" + 0.005*\"hill\" + 0.005*\"season\"\n",
            "\n",
            "Score: 0.012500450015068054\t \n",
            "Topic: 0.022*\"kill\" + 0.017*\"polic\" + 0.014*\"miss\" + 0.012*\"dead\" + 0.011*\"search\" + 0.010*\"attack\" + 0.009*\"bomb\" + 0.008*\"shoot\" + 0.007*\"blast\" + 0.007*\"arrest\"\n"
          ],
          "name": "stdout"
        }
      ]
    },
    {
      "cell_type": "code",
      "metadata": {
        "id": "buzJ-Z63Fp0h",
        "colab_type": "code",
        "colab": {
          "base_uri": "https://localhost:8080/",
          "height": 207
        },
        "outputId": "7427c2c1-8fa0-4ab7-d993-159cebcfe99c"
      },
      "source": [
        "unseen_document = 'China is alleged to spread the deadly corona virus'\n",
        "bow_vector = dictionary.doc2bow(preprocess(unseen_document))\n",
        "for index, score in sorted(lda_model[bow_vector], key=lambda tup: -1*tup[1]):\n",
        "    print(\"Score: {}\\t Topic: {}\".format(score, lda_model.print_topic(index, 5)))"
      ],
      "execution_count": 43,
      "outputs": [
        {
          "output_type": "stream",
          "text": [
            "Score: 0.3500000238418579\t Topic: 0.016*\"farmer\" + 0.013*\"climat\" + 0.013*\"bodi\" + 0.012*\"drought\" + 0.012*\"chang\"\n",
            "Score: 0.34948840737342834\t Topic: 0.034*\"kill\" + 0.018*\"protest\" + 0.017*\"attack\" + 0.017*\"nation\" + 0.016*\"iraq\"\n",
            "Score: 0.18383482098579407\t Topic: 0.070*\"polic\" + 0.034*\"charg\" + 0.023*\"crash\" + 0.023*\"death\" + 0.018*\"miss\"\n",
            "Score: 0.016675231978297234\t Topic: 0.033*\"warn\" + 0.022*\"price\" + 0.021*\"drug\" + 0.020*\"fear\" + 0.020*\"worker\"\n",
            "Score: 0.016667375341057777\t Topic: 0.026*\"talk\" + 0.023*\"claim\" + 0.017*\"coast\" + 0.016*\"gold\" + 0.014*\"head\"\n",
            "Score: 0.016667207702994347\t Topic: 0.028*\"hous\" + 0.019*\"elect\" + 0.015*\"time\" + 0.015*\"offer\" + 0.011*\"opposit\"\n",
            "Score: 0.016666913405060768\t Topic: 0.029*\"face\" + 0.021*\"open\" + 0.018*\"lead\" + 0.017*\"market\" + 0.016*\"olymp\"\n",
            "Score: 0.016666674986481667\t Topic: 0.023*\"power\" + 0.022*\"court\" + 0.019*\"tell\" + 0.018*\"driver\" + 0.016*\"trial\"\n",
            "Score: 0.01666666753590107\t Topic: 0.042*\"govt\" + 0.028*\"plan\" + 0.027*\"council\" + 0.022*\"water\" + 0.018*\"fund\"\n",
            "Score: 0.01666666753590107\t Topic: 0.021*\"year\" + 0.015*\"get\" + 0.015*\"busi\" + 0.013*\"begin\" + 0.011*\"work\"\n"
          ],
          "name": "stdout"
        }
      ]
    }
  ]
}